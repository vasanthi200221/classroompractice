{
  "cells": [
    {
      "cell_type": "markdown",
      "metadata": {
        "id": "view-in-github",
        "colab_type": "text"
      },
      "source": [
        "<a href=\"https://colab.research.google.com/github/vasanthi200221/classroompractice/blob/main/simple_linear_regresssion_assignment.ipynb\" target=\"_parent\"><img src=\"https://colab.research.google.com/assets/colab-badge.svg\" alt=\"Open In Colab\"/></a>"
      ]
    },
    {
      "cell_type": "markdown",
      "id": "de6bdf01",
      "metadata": {
        "id": "de6bdf01"
      },
      "source": [
        "# simple linear regression assignment"
      ]
    },
    {
      "cell_type": "code",
      "execution_count": null,
      "id": "14a491e3",
      "metadata": {
        "id": "14a491e3"
      },
      "outputs": [],
      "source": []
    },
    {
      "cell_type": "markdown",
      "id": "c68a0abe",
      "metadata": {
        "id": "c68a0abe"
      },
      "source": [
        "Question 1"
      ]
    },
    {
      "cell_type": "code",
      "execution_count": null,
      "id": "0fe76ef4",
      "metadata": {
        "ExecuteTime": {
          "end_time": "2023-08-09T13:23:10.337018Z",
          "start_time": "2023-08-09T13:23:10.320833Z"
        },
        "id": "0fe76ef4"
      },
      "outputs": [],
      "source": [
        "import pandas as pd\n",
        "import numpy as np\n",
        "import matplotlib.pyplot as plt\n",
        "import seaborn as sns\n",
        "import statsmodels.formula.api as smf\n",
        "import warnings\n",
        "warnings.filterwarnings('ignore')"
      ]
    },
    {
      "cell_type": "code",
      "execution_count": null,
      "id": "6483782d",
      "metadata": {
        "ExecuteTime": {
          "end_time": "2023-08-09T13:23:10.402534Z",
          "start_time": "2023-08-09T13:23:10.337018Z"
        },
        "id": "6483782d",
        "outputId": "8d4d09ea-aa95-4c86-d1d6-938024fa4caa"
      },
      "outputs": [
        {
          "data": {
            "text/html": [
              "<div>\n",
              "<style scoped>\n",
              "    .dataframe tbody tr th:only-of-type {\n",
              "        vertical-align: middle;\n",
              "    }\n",
              "\n",
              "    .dataframe tbody tr th {\n",
              "        vertical-align: top;\n",
              "    }\n",
              "\n",
              "    .dataframe thead th {\n",
              "        text-align: right;\n",
              "    }\n",
              "</style>\n",
              "<table border=\"1\" class=\"dataframe\">\n",
              "  <thead>\n",
              "    <tr style=\"text-align: right;\">\n",
              "      <th></th>\n",
              "      <th>Delivery Time</th>\n",
              "      <th>Sorting Time</th>\n",
              "    </tr>\n",
              "  </thead>\n",
              "  <tbody>\n",
              "    <tr>\n",
              "      <th>0</th>\n",
              "      <td>21.00</td>\n",
              "      <td>10</td>\n",
              "    </tr>\n",
              "    <tr>\n",
              "      <th>1</th>\n",
              "      <td>13.50</td>\n",
              "      <td>4</td>\n",
              "    </tr>\n",
              "    <tr>\n",
              "      <th>2</th>\n",
              "      <td>19.75</td>\n",
              "      <td>6</td>\n",
              "    </tr>\n",
              "    <tr>\n",
              "      <th>3</th>\n",
              "      <td>24.00</td>\n",
              "      <td>9</td>\n",
              "    </tr>\n",
              "    <tr>\n",
              "      <th>4</th>\n",
              "      <td>29.00</td>\n",
              "      <td>10</td>\n",
              "    </tr>\n",
              "    <tr>\n",
              "      <th>5</th>\n",
              "      <td>15.35</td>\n",
              "      <td>6</td>\n",
              "    </tr>\n",
              "    <tr>\n",
              "      <th>6</th>\n",
              "      <td>19.00</td>\n",
              "      <td>7</td>\n",
              "    </tr>\n",
              "    <tr>\n",
              "      <th>7</th>\n",
              "      <td>9.50</td>\n",
              "      <td>3</td>\n",
              "    </tr>\n",
              "    <tr>\n",
              "      <th>8</th>\n",
              "      <td>17.90</td>\n",
              "      <td>10</td>\n",
              "    </tr>\n",
              "    <tr>\n",
              "      <th>9</th>\n",
              "      <td>18.75</td>\n",
              "      <td>9</td>\n",
              "    </tr>\n",
              "    <tr>\n",
              "      <th>10</th>\n",
              "      <td>19.83</td>\n",
              "      <td>8</td>\n",
              "    </tr>\n",
              "    <tr>\n",
              "      <th>11</th>\n",
              "      <td>10.75</td>\n",
              "      <td>4</td>\n",
              "    </tr>\n",
              "    <tr>\n",
              "      <th>12</th>\n",
              "      <td>16.68</td>\n",
              "      <td>7</td>\n",
              "    </tr>\n",
              "    <tr>\n",
              "      <th>13</th>\n",
              "      <td>11.50</td>\n",
              "      <td>3</td>\n",
              "    </tr>\n",
              "    <tr>\n",
              "      <th>14</th>\n",
              "      <td>12.03</td>\n",
              "      <td>3</td>\n",
              "    </tr>\n",
              "    <tr>\n",
              "      <th>15</th>\n",
              "      <td>14.88</td>\n",
              "      <td>4</td>\n",
              "    </tr>\n",
              "    <tr>\n",
              "      <th>16</th>\n",
              "      <td>13.75</td>\n",
              "      <td>6</td>\n",
              "    </tr>\n",
              "    <tr>\n",
              "      <th>17</th>\n",
              "      <td>18.11</td>\n",
              "      <td>7</td>\n",
              "    </tr>\n",
              "    <tr>\n",
              "      <th>18</th>\n",
              "      <td>8.00</td>\n",
              "      <td>2</td>\n",
              "    </tr>\n",
              "    <tr>\n",
              "      <th>19</th>\n",
              "      <td>17.83</td>\n",
              "      <td>7</td>\n",
              "    </tr>\n",
              "    <tr>\n",
              "      <th>20</th>\n",
              "      <td>21.50</td>\n",
              "      <td>5</td>\n",
              "    </tr>\n",
              "  </tbody>\n",
              "</table>\n",
              "</div>"
            ],
            "text/plain": [
              "    Delivery Time  Sorting Time\n",
              "0           21.00            10\n",
              "1           13.50             4\n",
              "2           19.75             6\n",
              "3           24.00             9\n",
              "4           29.00            10\n",
              "5           15.35             6\n",
              "6           19.00             7\n",
              "7            9.50             3\n",
              "8           17.90            10\n",
              "9           18.75             9\n",
              "10          19.83             8\n",
              "11          10.75             4\n",
              "12          16.68             7\n",
              "13          11.50             3\n",
              "14          12.03             3\n",
              "15          14.88             4\n",
              "16          13.75             6\n",
              "17          18.11             7\n",
              "18           8.00             2\n",
              "19          17.83             7\n",
              "20          21.50             5"
            ]
          },
          "execution_count": 290,
          "metadata": {},
          "output_type": "execute_result"
        }
      ],
      "source": [
        "dataset=pd.read_csv(\"delivery_time.csv\")\n",
        "dataset"
      ]
    },
    {
      "cell_type": "raw",
      "id": "887b62ec",
      "metadata": {
        "id": "887b62ec"
      },
      "source": [
        "EDA and Data Visualization"
      ]
    },
    {
      "cell_type": "code",
      "execution_count": null,
      "id": "6465a18f",
      "metadata": {
        "ExecuteTime": {
          "end_time": "2023-08-09T13:23:10.475483Z",
          "start_time": "2023-08-09T13:23:10.404738Z"
        },
        "id": "6465a18f",
        "outputId": "14ea8afc-d770-4e46-a87a-fdf2c0298f5a"
      },
      "outputs": [
        {
          "name": "stdout",
          "output_type": "stream",
          "text": [
            "<class 'pandas.core.frame.DataFrame'>\n",
            "RangeIndex: 21 entries, 0 to 20\n",
            "Data columns (total 2 columns):\n",
            " #   Column         Non-Null Count  Dtype  \n",
            "---  ------         --------------  -----  \n",
            " 0   Delivery Time  21 non-null     float64\n",
            " 1   Sorting Time   21 non-null     int64  \n",
            "dtypes: float64(1), int64(1)\n",
            "memory usage: 464.0 bytes\n"
          ]
        }
      ],
      "source": [
        "dataset.info()"
      ]
    },
    {
      "cell_type": "code",
      "execution_count": null,
      "id": "d604aa39",
      "metadata": {
        "ExecuteTime": {
          "end_time": "2023-08-09T13:23:10.491964Z",
          "start_time": "2023-08-09T13:23:10.477339Z"
        },
        "id": "d604aa39",
        "outputId": "a1ff835a-cfe4-4221-ed08-4cf8f3743373"
      },
      "outputs": [
        {
          "data": {
            "text/plain": [
              "(21, 2)"
            ]
          },
          "execution_count": 292,
          "metadata": {},
          "output_type": "execute_result"
        }
      ],
      "source": [
        "dataset.shape"
      ]
    },
    {
      "cell_type": "code",
      "execution_count": null,
      "id": "bfc97f62",
      "metadata": {
        "ExecuteTime": {
          "end_time": "2023-08-09T13:23:10.508116Z",
          "start_time": "2023-08-09T13:23:10.491964Z"
        },
        "id": "bfc97f62",
        "outputId": "ef4d60b6-ddc5-4e11-e18e-5c7adc2385c0"
      },
      "outputs": [
        {
          "data": {
            "text/html": [
              "<div>\n",
              "<style scoped>\n",
              "    .dataframe tbody tr th:only-of-type {\n",
              "        vertical-align: middle;\n",
              "    }\n",
              "\n",
              "    .dataframe tbody tr th {\n",
              "        vertical-align: top;\n",
              "    }\n",
              "\n",
              "    .dataframe thead th {\n",
              "        text-align: right;\n",
              "    }\n",
              "</style>\n",
              "<table border=\"1\" class=\"dataframe\">\n",
              "  <thead>\n",
              "    <tr style=\"text-align: right;\">\n",
              "      <th></th>\n",
              "      <th>Delivery Time</th>\n",
              "      <th>Sorting Time</th>\n",
              "    </tr>\n",
              "  </thead>\n",
              "  <tbody>\n",
              "    <tr>\n",
              "      <th>0</th>\n",
              "      <td>21.00</td>\n",
              "      <td>10</td>\n",
              "    </tr>\n",
              "    <tr>\n",
              "      <th>1</th>\n",
              "      <td>13.50</td>\n",
              "      <td>4</td>\n",
              "    </tr>\n",
              "    <tr>\n",
              "      <th>2</th>\n",
              "      <td>19.75</td>\n",
              "      <td>6</td>\n",
              "    </tr>\n",
              "    <tr>\n",
              "      <th>3</th>\n",
              "      <td>24.00</td>\n",
              "      <td>9</td>\n",
              "    </tr>\n",
              "    <tr>\n",
              "      <th>4</th>\n",
              "      <td>29.00</td>\n",
              "      <td>10</td>\n",
              "    </tr>\n",
              "  </tbody>\n",
              "</table>\n",
              "</div>"
            ],
            "text/plain": [
              "   Delivery Time  Sorting Time\n",
              "0          21.00            10\n",
              "1          13.50             4\n",
              "2          19.75             6\n",
              "3          24.00             9\n",
              "4          29.00            10"
            ]
          },
          "execution_count": 293,
          "metadata": {},
          "output_type": "execute_result"
        }
      ],
      "source": [
        "dataset.head()"
      ]
    },
    {
      "cell_type": "code",
      "execution_count": null,
      "id": "873b7522",
      "metadata": {
        "ExecuteTime": {
          "end_time": "2023-08-09T13:23:10.524612Z",
          "start_time": "2023-08-09T13:23:10.510277Z"
        },
        "id": "873b7522"
      },
      "outputs": [],
      "source": [
        "#Renaming all columns\n",
        "dataset = dataset.rename({'Delivery Time':'Delivery_Time', 'Sorting Time':'Sorting_Time'}, axis=1)"
      ]
    },
    {
      "cell_type": "code",
      "execution_count": null,
      "id": "7c7f5456",
      "metadata": {
        "ExecuteTime": {
          "end_time": "2023-08-09T13:23:10.540967Z",
          "start_time": "2023-08-09T13:23:10.524612Z"
        },
        "id": "7c7f5456",
        "outputId": "957d2b5d-6786-4da8-e2ef-59caf33dad6e"
      },
      "outputs": [
        {
          "data": {
            "text/html": [
              "<div>\n",
              "<style scoped>\n",
              "    .dataframe tbody tr th:only-of-type {\n",
              "        vertical-align: middle;\n",
              "    }\n",
              "\n",
              "    .dataframe tbody tr th {\n",
              "        vertical-align: top;\n",
              "    }\n",
              "\n",
              "    .dataframe thead th {\n",
              "        text-align: right;\n",
              "    }\n",
              "</style>\n",
              "<table border=\"1\" class=\"dataframe\">\n",
              "  <thead>\n",
              "    <tr style=\"text-align: right;\">\n",
              "      <th></th>\n",
              "      <th>Delivery_Time</th>\n",
              "      <th>Sorting_Time</th>\n",
              "    </tr>\n",
              "  </thead>\n",
              "  <tbody>\n",
              "    <tr>\n",
              "      <th>0</th>\n",
              "      <td>21.00</td>\n",
              "      <td>10</td>\n",
              "    </tr>\n",
              "    <tr>\n",
              "      <th>1</th>\n",
              "      <td>13.50</td>\n",
              "      <td>4</td>\n",
              "    </tr>\n",
              "    <tr>\n",
              "      <th>2</th>\n",
              "      <td>19.75</td>\n",
              "      <td>6</td>\n",
              "    </tr>\n",
              "    <tr>\n",
              "      <th>3</th>\n",
              "      <td>24.00</td>\n",
              "      <td>9</td>\n",
              "    </tr>\n",
              "    <tr>\n",
              "      <th>4</th>\n",
              "      <td>29.00</td>\n",
              "      <td>10</td>\n",
              "    </tr>\n",
              "    <tr>\n",
              "      <th>5</th>\n",
              "      <td>15.35</td>\n",
              "      <td>6</td>\n",
              "    </tr>\n",
              "    <tr>\n",
              "      <th>6</th>\n",
              "      <td>19.00</td>\n",
              "      <td>7</td>\n",
              "    </tr>\n",
              "    <tr>\n",
              "      <th>7</th>\n",
              "      <td>9.50</td>\n",
              "      <td>3</td>\n",
              "    </tr>\n",
              "    <tr>\n",
              "      <th>8</th>\n",
              "      <td>17.90</td>\n",
              "      <td>10</td>\n",
              "    </tr>\n",
              "    <tr>\n",
              "      <th>9</th>\n",
              "      <td>18.75</td>\n",
              "      <td>9</td>\n",
              "    </tr>\n",
              "    <tr>\n",
              "      <th>10</th>\n",
              "      <td>19.83</td>\n",
              "      <td>8</td>\n",
              "    </tr>\n",
              "    <tr>\n",
              "      <th>11</th>\n",
              "      <td>10.75</td>\n",
              "      <td>4</td>\n",
              "    </tr>\n",
              "    <tr>\n",
              "      <th>12</th>\n",
              "      <td>16.68</td>\n",
              "      <td>7</td>\n",
              "    </tr>\n",
              "    <tr>\n",
              "      <th>13</th>\n",
              "      <td>11.50</td>\n",
              "      <td>3</td>\n",
              "    </tr>\n",
              "    <tr>\n",
              "      <th>14</th>\n",
              "      <td>12.03</td>\n",
              "      <td>3</td>\n",
              "    </tr>\n",
              "    <tr>\n",
              "      <th>15</th>\n",
              "      <td>14.88</td>\n",
              "      <td>4</td>\n",
              "    </tr>\n",
              "    <tr>\n",
              "      <th>16</th>\n",
              "      <td>13.75</td>\n",
              "      <td>6</td>\n",
              "    </tr>\n",
              "    <tr>\n",
              "      <th>17</th>\n",
              "      <td>18.11</td>\n",
              "      <td>7</td>\n",
              "    </tr>\n",
              "    <tr>\n",
              "      <th>18</th>\n",
              "      <td>8.00</td>\n",
              "      <td>2</td>\n",
              "    </tr>\n",
              "    <tr>\n",
              "      <th>19</th>\n",
              "      <td>17.83</td>\n",
              "      <td>7</td>\n",
              "    </tr>\n",
              "    <tr>\n",
              "      <th>20</th>\n",
              "      <td>21.50</td>\n",
              "      <td>5</td>\n",
              "    </tr>\n",
              "  </tbody>\n",
              "</table>\n",
              "</div>"
            ],
            "text/plain": [
              "    Delivery_Time  Sorting_Time\n",
              "0           21.00            10\n",
              "1           13.50             4\n",
              "2           19.75             6\n",
              "3           24.00             9\n",
              "4           29.00            10\n",
              "5           15.35             6\n",
              "6           19.00             7\n",
              "7            9.50             3\n",
              "8           17.90            10\n",
              "9           18.75             9\n",
              "10          19.83             8\n",
              "11          10.75             4\n",
              "12          16.68             7\n",
              "13          11.50             3\n",
              "14          12.03             3\n",
              "15          14.88             4\n",
              "16          13.75             6\n",
              "17          18.11             7\n",
              "18           8.00             2\n",
              "19          17.83             7\n",
              "20          21.50             5"
            ]
          },
          "execution_count": 295,
          "metadata": {},
          "output_type": "execute_result"
        }
      ],
      "source": [
        "dataset"
      ]
    },
    {
      "cell_type": "code",
      "execution_count": null,
      "id": "14a8d6d5",
      "metadata": {
        "ExecuteTime": {
          "end_time": "2023-08-09T13:23:10.557064Z",
          "start_time": "2023-08-09T13:23:10.540967Z"
        },
        "id": "14a8d6d5",
        "outputId": "3e2fa5f3-e034-4267-cb8f-ffd7bd810f96"
      },
      "outputs": [
        {
          "data": {
            "text/html": [
              "<div>\n",
              "<style scoped>\n",
              "    .dataframe tbody tr th:only-of-type {\n",
              "        vertical-align: middle;\n",
              "    }\n",
              "\n",
              "    .dataframe tbody tr th {\n",
              "        vertical-align: top;\n",
              "    }\n",
              "\n",
              "    .dataframe thead th {\n",
              "        text-align: right;\n",
              "    }\n",
              "</style>\n",
              "<table border=\"1\" class=\"dataframe\">\n",
              "  <thead>\n",
              "    <tr style=\"text-align: right;\">\n",
              "      <th></th>\n",
              "      <th>Delivery_Time</th>\n",
              "      <th>Sorting_Time</th>\n",
              "    </tr>\n",
              "  </thead>\n",
              "  <tbody>\n",
              "    <tr>\n",
              "      <th>16</th>\n",
              "      <td>13.75</td>\n",
              "      <td>6</td>\n",
              "    </tr>\n",
              "    <tr>\n",
              "      <th>17</th>\n",
              "      <td>18.11</td>\n",
              "      <td>7</td>\n",
              "    </tr>\n",
              "    <tr>\n",
              "      <th>18</th>\n",
              "      <td>8.00</td>\n",
              "      <td>2</td>\n",
              "    </tr>\n",
              "    <tr>\n",
              "      <th>19</th>\n",
              "      <td>17.83</td>\n",
              "      <td>7</td>\n",
              "    </tr>\n",
              "    <tr>\n",
              "      <th>20</th>\n",
              "      <td>21.50</td>\n",
              "      <td>5</td>\n",
              "    </tr>\n",
              "  </tbody>\n",
              "</table>\n",
              "</div>"
            ],
            "text/plain": [
              "    Delivery_Time  Sorting_Time\n",
              "16          13.75             6\n",
              "17          18.11             7\n",
              "18           8.00             2\n",
              "19          17.83             7\n",
              "20          21.50             5"
            ]
          },
          "execution_count": 296,
          "metadata": {},
          "output_type": "execute_result"
        }
      ],
      "source": [
        "dataset.tail()"
      ]
    },
    {
      "cell_type": "code",
      "execution_count": null,
      "id": "bdca654b",
      "metadata": {
        "ExecuteTime": {
          "end_time": "2023-08-09T13:23:10.573481Z",
          "start_time": "2023-08-09T13:23:10.557064Z"
        },
        "id": "bdca654b",
        "outputId": "c4cf604e-25c8-4a3d-f719-fa6478ef177f"
      },
      "outputs": [
        {
          "data": {
            "text/plain": [
              "Delivery_Time    float64\n",
              "Sorting_Time       int64\n",
              "dtype: object"
            ]
          },
          "execution_count": 297,
          "metadata": {},
          "output_type": "execute_result"
        }
      ],
      "source": [
        "dataset.dtypes"
      ]
    },
    {
      "cell_type": "code",
      "execution_count": null,
      "id": "b7b3a6c5",
      "metadata": {
        "ExecuteTime": {
          "end_time": "2023-08-09T13:23:10.590000Z",
          "start_time": "2023-08-09T13:23:10.573481Z"
        },
        "id": "b7b3a6c5",
        "outputId": "5025a640-66a5-41fe-d592-2cb786757e4c"
      },
      "outputs": [
        {
          "data": {
            "text/plain": [
              "Delivery_Time    0\n",
              "Sorting_Time     0\n",
              "dtype: int64"
            ]
          },
          "execution_count": 298,
          "metadata": {},
          "output_type": "execute_result"
        }
      ],
      "source": [
        "#check for missing values\n",
        "dataset.isnull().sum()"
      ]
    },
    {
      "cell_type": "code",
      "execution_count": null,
      "id": "7fd9a6d6",
      "metadata": {
        "ExecuteTime": {
          "end_time": "2023-08-09T13:23:10.606331Z",
          "start_time": "2023-08-09T13:23:10.590000Z"
        },
        "id": "7fd9a6d6",
        "outputId": "6056406e-71a6-495f-a396-41bce95a7545"
      },
      "outputs": [
        {
          "data": {
            "text/html": [
              "<div>\n",
              "<style scoped>\n",
              "    .dataframe tbody tr th:only-of-type {\n",
              "        vertical-align: middle;\n",
              "    }\n",
              "\n",
              "    .dataframe tbody tr th {\n",
              "        vertical-align: top;\n",
              "    }\n",
              "\n",
              "    .dataframe thead th {\n",
              "        text-align: right;\n",
              "    }\n",
              "</style>\n",
              "<table border=\"1\" class=\"dataframe\">\n",
              "  <thead>\n",
              "    <tr style=\"text-align: right;\">\n",
              "      <th></th>\n",
              "      <th>Delivery_Time</th>\n",
              "      <th>Sorting_Time</th>\n",
              "    </tr>\n",
              "  </thead>\n",
              "  <tbody>\n",
              "  </tbody>\n",
              "</table>\n",
              "</div>"
            ],
            "text/plain": [
              "Empty DataFrame\n",
              "Columns: [Delivery_Time, Sorting_Time]\n",
              "Index: []"
            ]
          },
          "execution_count": 299,
          "metadata": {},
          "output_type": "execute_result"
        }
      ],
      "source": [
        "#to check for duplicate rows\n",
        "dataset[dataset.duplicated()]\n",
        ""
      ]
    },
    {
      "cell_type": "code",
      "execution_count": null,
      "id": "35c7ffb9",
      "metadata": {
        "ExecuteTime": {
          "end_time": "2023-08-09T13:23:10.622803Z",
          "start_time": "2023-08-09T13:23:10.606331Z"
        },
        "id": "35c7ffb9",
        "outputId": "9d787439-2036-4f12-92b3-c1d6f1258cf9"
      },
      "outputs": [
        {
          "data": {
            "text/plain": [
              "(0, 2)"
            ]
          },
          "execution_count": 300,
          "metadata": {},
          "output_type": "execute_result"
        }
      ],
      "source": [
        "#to check for duplicate rows\n",
        "dataset[dataset.duplicated()].shape\n",
        ""
      ]
    },
    {
      "cell_type": "code",
      "execution_count": null,
      "id": "9bf4e60f",
      "metadata": {
        "ExecuteTime": {
          "end_time": "2023-08-09T13:23:10.655787Z",
          "start_time": "2023-08-09T13:23:10.622803Z"
        },
        "id": "9bf4e60f",
        "outputId": "ce98b9f2-229a-45fb-de51-49c139674321"
      },
      "outputs": [
        {
          "data": {
            "text/html": [
              "<div>\n",
              "<style scoped>\n",
              "    .dataframe tbody tr th:only-of-type {\n",
              "        vertical-align: middle;\n",
              "    }\n",
              "\n",
              "    .dataframe tbody tr th {\n",
              "        vertical-align: top;\n",
              "    }\n",
              "\n",
              "    .dataframe thead th {\n",
              "        text-align: right;\n",
              "    }\n",
              "</style>\n",
              "<table border=\"1\" class=\"dataframe\">\n",
              "  <thead>\n",
              "    <tr style=\"text-align: right;\">\n",
              "      <th></th>\n",
              "      <th>Delivery_Time</th>\n",
              "      <th>Sorting_Time</th>\n",
              "    </tr>\n",
              "  </thead>\n",
              "  <tbody>\n",
              "    <tr>\n",
              "      <th>count</th>\n",
              "      <td>21.000000</td>\n",
              "      <td>21.000000</td>\n",
              "    </tr>\n",
              "    <tr>\n",
              "      <th>mean</th>\n",
              "      <td>16.790952</td>\n",
              "      <td>6.190476</td>\n",
              "    </tr>\n",
              "    <tr>\n",
              "      <th>std</th>\n",
              "      <td>5.074901</td>\n",
              "      <td>2.542028</td>\n",
              "    </tr>\n",
              "    <tr>\n",
              "      <th>min</th>\n",
              "      <td>8.000000</td>\n",
              "      <td>2.000000</td>\n",
              "    </tr>\n",
              "    <tr>\n",
              "      <th>25%</th>\n",
              "      <td>13.500000</td>\n",
              "      <td>4.000000</td>\n",
              "    </tr>\n",
              "    <tr>\n",
              "      <th>50%</th>\n",
              "      <td>17.830000</td>\n",
              "      <td>6.000000</td>\n",
              "    </tr>\n",
              "    <tr>\n",
              "      <th>75%</th>\n",
              "      <td>19.750000</td>\n",
              "      <td>8.000000</td>\n",
              "    </tr>\n",
              "    <tr>\n",
              "      <th>max</th>\n",
              "      <td>29.000000</td>\n",
              "      <td>10.000000</td>\n",
              "    </tr>\n",
              "  </tbody>\n",
              "</table>\n",
              "</div>"
            ],
            "text/plain": [
              "       Delivery_Time  Sorting_Time\n",
              "count      21.000000     21.000000\n",
              "mean       16.790952      6.190476\n",
              "std         5.074901      2.542028\n",
              "min         8.000000      2.000000\n",
              "25%        13.500000      4.000000\n",
              "50%        17.830000      6.000000\n",
              "75%        19.750000      8.000000\n",
              "max        29.000000     10.000000"
            ]
          },
          "execution_count": 301,
          "metadata": {},
          "output_type": "execute_result"
        }
      ],
      "source": [
        "dataset.describe()"
      ]
    },
    {
      "cell_type": "code",
      "execution_count": null,
      "id": "d93e0d3e",
      "metadata": {
        "ExecuteTime": {
          "end_time": "2023-08-09T13:23:11.023709Z",
          "start_time": "2023-08-09T13:23:10.657794Z"
        },
        "scrolled": true,
        "id": "d93e0d3e",
        "outputId": "e4f3ff51-c56a-4183-b73b-7a166c386e5b"
      },
      "outputs": [
        {
          "data": {
            "text/plain": [
              "<Axes: >"
            ]
          },
          "execution_count": 302,
          "metadata": {},
          "output_type": "execute_result"
        },
        {
          "data": {
            "image/png": "[encoded data removed]",
            "text/plain": [
              "<Figure size 640x480 with 2 Axes>"
            ]
          },
          "metadata": {},
          "output_type": "display_data"
        }
      ],
      "source": [
        "#to genrate heat map\n",
        "cols = dataset.columns\n",
        "colors = [ '#ffff00','#000099']   #define colors, yellow for missing, blue for non missing\n",
        "sns.heatmap(dataset[cols].isnull(),\n",
        "               cmap= sns.color_palette(colors))"
      ]
    },
    {
      "cell_type": "code",
      "execution_count": null,
      "id": "44529209",
      "metadata": {
        "ExecuteTime": {
          "end_time": "2023-08-09T13:23:11.128953Z",
          "start_time": "2023-08-09T13:23:11.023709Z"
        },
        "id": "44529209",
        "outputId": "d0dd5d89-1e4a-4b88-e29f-6bb888011537"
      },
      "outputs": [
        {
          "data": {
            "image/png": "[encoded data removed]",
            "text/plain": [
              "<Figure size 640x480 with 1 Axes>"
            ]
          },
          "metadata": {},
          "output_type": "display_data"
        }
      ],
      "source": [
        "#Outlier Detection\n",
        "plt.boxplot(dataset['Delivery_Time'])\n",
        "plt.show()"
      ]
    },
    {
      "cell_type": "code",
      "execution_count": null,
      "id": "3543f558",
      "metadata": {
        "ExecuteTime": {
          "end_time": "2023-08-09T13:23:11.361361Z",
          "start_time": "2023-08-09T13:23:11.128953Z"
        },
        "id": "3543f558",
        "outputId": "b2211a07-7232-47a7-aef0-e46b722bb370"
      },
      "outputs": [
        {
          "data": {
            "text/plain": [
              "<Axes: xlabel='Delivery_Time', ylabel='Density'>"
            ]
          },
          "execution_count": 304,
          "metadata": {},
          "output_type": "execute_result"
        },
        {
          "data": {
            "image/png": "[encoded data removed]",
            "text/plain": [
              "<Figure size 640x480 with 1 Axes>"
            ]
          },
          "metadata": {},
          "output_type": "display_data"
        }
      ],
      "source": [
        "sns.distplot(dataset.Delivery_Time)"
      ]
    },
    {
      "cell_type": "code",
      "execution_count": null,
      "id": "5de89e8e",
      "metadata": {
        "ExecuteTime": {
          "end_time": "2023-08-09T13:23:11.487353Z",
          "start_time": "2023-08-09T13:23:11.364124Z"
        },
        "id": "5de89e8e",
        "outputId": "9b8ceaa6-9fec-4c82-84c8-cbe0fdb8cb28"
      },
      "outputs": [
        {
          "data": {
            "text/plain": [
              "{'whiskers': [<matplotlib.lines.Line2D at 0x220cec26200>,\n",
              "  <matplotlib.lines.Line2D at 0x220cec264a0>],\n",
              " 'caps': [<matplotlib.lines.Line2D at 0x220cec26740>,\n",
              "  <matplotlib.lines.Line2D at 0x220cec269e0>],\n",
              " 'boxes': [<matplotlib.lines.Line2D at 0x220cec25f60>],\n",
              " 'medians': [<matplotlib.lines.Line2D at 0x220cec26c80>],\n",
              " 'fliers': [<matplotlib.lines.Line2D at 0x220cec26f20>],\n",
              " 'means': []}"
            ]
          },
          "execution_count": 305,
          "metadata": {},
          "output_type": "execute_result"
        },
        {
          "data": {
            "image/png": "[encoded data removed]",
            "text/plain": [
              "<Figure size 640x480 with 1 Axes>"
            ]
          },
          "metadata": {},
          "output_type": "display_data"
        }
      ],
      "source": [
        "plt.boxplot(dataset['Sorting_Time'])\n",
        ""
      ]
    },
    {
      "cell_type": "code",
      "execution_count": null,
      "id": "0dc61763",
      "metadata": {
        "ExecuteTime": {
          "end_time": "2023-08-09T13:23:11.667704Z",
          "start_time": "2023-08-09T13:23:11.487353Z"
        },
        "id": "0dc61763",
        "outputId": "2915655d-6cb4-47cb-9ddd-10f753cf536f"
      },
      "outputs": [
        {
          "data": {
            "text/plain": [
              "<Axes: xlabel='Sorting_Time', ylabel='Density'>"
            ]
          },
          "execution_count": 306,
          "metadata": {},
          "output_type": "execute_result"
        },
        {
          "data": {
            "image/png": "[encoded data removed]",
            "text/plain": [
              "<Figure size 640x480 with 1 Axes>"
            ]
          },
          "metadata": {},
          "output_type": "display_data"
        }
      ],
      "source": [
        "sns.distplot(dataset.Sorting_Time)"
      ]
    },
    {
      "cell_type": "raw",
      "id": "43a31663",
      "metadata": {
        "id": "43a31663"
      },
      "source": [
        "CORRELATION ANALYSIS"
      ]
    },
    {
      "cell_type": "code",
      "execution_count": null,
      "id": "05156a73",
      "metadata": {
        "ExecuteTime": {
          "end_time": "2023-08-09T13:23:11.696550Z",
          "start_time": "2023-08-09T13:23:11.667704Z"
        },
        "id": "05156a73",
        "outputId": "7b747c6a-eea1-415e-cff6-31471d352d65"
      },
      "outputs": [
        {
          "data": {
            "text/html": [
              "<div>\n",
              "<style scoped>\n",
              "    .dataframe tbody tr th:only-of-type {\n",
              "        vertical-align: middle;\n",
              "    }\n",
              "\n",
              "    .dataframe tbody tr th {\n",
              "        vertical-align: top;\n",
              "    }\n",
              "\n",
              "    .dataframe thead th {\n",
              "        text-align: right;\n",
              "    }\n",
              "</style>\n",
              "<table border=\"1\" class=\"dataframe\">\n",
              "  <thead>\n",
              "    <tr style=\"text-align: right;\">\n",
              "      <th></th>\n",
              "      <th>Delivery_Time</th>\n",
              "      <th>Sorting_Time</th>\n",
              "    </tr>\n",
              "  </thead>\n",
              "  <tbody>\n",
              "    <tr>\n",
              "      <th>Delivery_Time</th>\n",
              "      <td>1.000000</td>\n",
              "      <td>0.825997</td>\n",
              "    </tr>\n",
              "    <tr>\n",
              "      <th>Sorting_Time</th>\n",
              "      <td>0.825997</td>\n",
              "      <td>1.000000</td>\n",
              "    </tr>\n",
              "  </tbody>\n",
              "</table>\n",
              "</div>"
            ],
            "text/plain": [
              "               Delivery_Time  Sorting_Time\n",
              "Delivery_Time       1.000000      0.825997\n",
              "Sorting_Time        0.825997      1.000000"
            ]
          },
          "execution_count": 307,
          "metadata": {},
          "output_type": "execute_result"
        }
      ],
      "source": [
        "dataset.corr()"
      ]
    },
    {
      "cell_type": "code",
      "execution_count": null,
      "id": "e97fddbf",
      "metadata": {
        "ExecuteTime": {
          "end_time": "2023-08-09T13:23:14.554492Z",
          "start_time": "2023-08-09T13:23:11.697124Z"
        },
        "id": "e97fddbf",
        "outputId": "c47352d0-2f37-425d-87d2-dc9ebd83ff5b"
      },
      "outputs": [
        {
          "data": {
            "text/plain": [
              "<seaborn.axisgrid.PairGrid at 0x220cfe0c190>"
            ]
          },
          "execution_count": 308,
          "metadata": {},
          "output_type": "execute_result"
        },
        {
          "data": {
            "image/png": "[encoded data removed]",
            "text/plain": [
              "<Figure size 500x500 with 6 Axes>"
            ]
          },
          "metadata": {},
          "output_type": "display_data"
        }
      ],
      "source": [
        "sns.pairplot(dataset)"
      ]
    },
    {
      "cell_type": "code",
      "execution_count": null,
      "id": "874d13b2",
      "metadata": {
        "ExecuteTime": {
          "end_time": "2023-08-09T13:23:14.829975Z",
          "start_time": "2023-08-09T13:23:14.555365Z"
        },
        "id": "874d13b2",
        "outputId": "178aefb3-9793-4147-91dc-5267390de9b2"
      },
      "outputs": [
        {
          "data": {
            "image/png": "[encoded data removed]",
            "text/plain": [
              "<Figure size 640x480 with 1 Axes>"
            ]
          },
          "metadata": {},
          "output_type": "display_data"
        }
      ],
      "source": [
        "sns.regplot(x=dataset[\"Delivery_Time\"],y=dataset[\"Sorting_Time\"])\n",
        "plt.show()"
      ]
    },
    {
      "cell_type": "raw",
      "id": "b608d5e0",
      "metadata": {
        "id": "b608d5e0"
      },
      "source": [
        "MODEL BUILDING AND PREDICTION"
      ]
    },
    {
      "cell_type": "code",
      "execution_count": null,
      "id": "dc3a978e",
      "metadata": {
        "ExecuteTime": {
          "end_time": "2023-08-09T13:23:14.862980Z",
          "start_time": "2023-08-09T13:23:14.829975Z"
        },
        "id": "dc3a978e"
      },
      "outputs": [],
      "source": [
        "model1=smf.ols(\"Delivery_Time~Sorting_Time\",data=dataset).fit()"
      ]
    },
    {
      "cell_type": "code",
      "execution_count": null,
      "id": "4b416c41",
      "metadata": {
        "ExecuteTime": {
          "end_time": "2023-08-09T13:23:14.891117Z",
          "start_time": "2023-08-09T13:23:14.862980Z"
        },
        "id": "4b416c41",
        "outputId": "d8c87fe8-9476-42d7-ad71-1585f5c9fafb"
      },
      "outputs": [
        {
          "data": {
            "text/html": [
              "<table class=\"simpletable\">\n",
              "<caption>OLS Regression Results</caption>\n",
              "<tr>\n",
              "  <th>Dep. Variable:</th>      <td>Delivery_Time</td>  <th>  R-squared:         </th> <td>   0.682</td>\n",
              "</tr>\n",
              "<tr>\n",
              "  <th>Model:</th>                   <td>OLS</td>       <th>  Adj. R-squared:    </th> <td>   0.666</td>\n",
              "</tr>\n",
              "<tr>\n",
              "  <th>Method:</th>             <td>Least Squares</td>  <th>  F-statistic:       </th> <td>   40.80</td>\n",
              "</tr>\n",
              "<tr>\n",
              "  <th>Date:</th>             <td>Wed, 09 Aug 2023</td> <th>  Prob (F-statistic):</th> <td>3.98e-06</td>\n",
              "</tr>\n",
              "<tr>\n",
              "  <th>Time:</th>                 <td>18:53:14</td>     <th>  Log-Likelihood:    </th> <td> -51.357</td>\n",
              "</tr>\n",
              "<tr>\n",
              "  <th>No. Observations:</th>      <td>    21</td>      <th>  AIC:               </th> <td>   106.7</td>\n",
              "</tr>\n",
              "<tr>\n",
              "  <th>Df Residuals:</th>          <td>    19</td>      <th>  BIC:               </th> <td>   108.8</td>\n",
              "</tr>\n",
              "<tr>\n",
              "  <th>Df Model:</th>              <td>     1</td>      <th>                     </th>     <td> </td>   \n",
              "</tr>\n",
              "<tr>\n",
              "  <th>Covariance Type:</th>      <td>nonrobust</td>    <th>                     </th>     <td> </td>   \n",
              "</tr>\n",
              "</table>\n",
              "<table class=\"simpletable\">\n",
              "<tr>\n",
              "        <td></td>          <th>coef</th>     <th>std err</th>      <th>t</th>      <th>P>|t|</th>  <th>[0.025</th>    <th>0.975]</th>  \n",
              "</tr>\n",
              "<tr>\n",
              "  <th>Intercept</th>    <td>    6.5827</td> <td>    1.722</td> <td>    3.823</td> <td> 0.001</td> <td>    2.979</td> <td>   10.186</td>\n",
              "</tr>\n",
              "<tr>\n",
              "  <th>Sorting_Time</th> <td>    1.6490</td> <td>    0.258</td> <td>    6.387</td> <td> 0.000</td> <td>    1.109</td> <td>    2.189</td>\n",
              "</tr>\n",
              "</table>\n",
              "<table class=\"simpletable\">\n",
              "<tr>\n",
              "  <th>Omnibus:</th>       <td> 3.649</td> <th>  Durbin-Watson:     </th> <td>   1.248</td>\n",
              "</tr>\n",
              "<tr>\n",
              "  <th>Prob(Omnibus):</th> <td> 0.161</td> <th>  Jarque-Bera (JB):  </th> <td>   2.086</td>\n",
              "</tr>\n",
              "<tr>\n",
              "  <th>Skew:</th>          <td> 0.750</td> <th>  Prob(JB):          </th> <td>   0.352</td>\n",
              "</tr>\n",
              "<tr>\n",
              "  <th>Kurtosis:</th>      <td> 3.367</td> <th>  Cond. No.          </th> <td>    18.3</td>\n",
              "</tr>\n",
              "</table><br/><br/>Notes:<br/>[1] Standard Errors assume that the covariance matrix of the errors is correctly specified."
            ],
            "text/plain": [
              "<class 'statsmodels.iolib.summary.Summary'>\n",
              "\"\"\"\n",
              "                            OLS Regression Results                            \n",
              "==============================================================================\n",
              "Dep. Variable:          Delivery_Time   R-squared:                       0.682\n",
              "Model:                            OLS   Adj. R-squared:                  0.666\n",
              "Method:                 Least Squares   F-statistic:                     40.80\n",
              "Date:                Wed, 09 Aug 2023   Prob (F-statistic):           3.98e-06\n",
              "Time:                        18:53:14   Log-Likelihood:                -51.357\n",
              "No. Observations:                  21   AIC:                             106.7\n",
              "Df Residuals:                      19   BIC:                             108.8\n",
              "Df Model:                           1                                         \n",
              "Covariance Type:            nonrobust                                         \n",
              "================================================================================\n",
              "                   coef    std err          t      P>|t|      [0.025      0.975]\n",
              "--------------------------------------------------------------------------------\n",
              "Intercept        6.5827      1.722      3.823      0.001       2.979      10.186\n",
              "Sorting_Time     1.6490      0.258      6.387      0.000       1.109       2.189\n",
              "==============================================================================\n",
              "Omnibus:                        3.649   Durbin-Watson:                   1.248\n",
              "Prob(Omnibus):                  0.161   Jarque-Bera (JB):                2.086\n",
              "Skew:                           0.750   Prob(JB):                        0.352\n",
              "Kurtosis:                       3.367   Cond. No.                         18.3\n",
              "==============================================================================\n",
              "\n",
              "Notes:\n",
              "[1] Standard Errors assume that the covariance matrix of the errors is correctly specified.\n",
              "\"\"\""
            ]
          },
          "execution_count": 311,
          "metadata": {},
          "output_type": "execute_result"
        }
      ],
      "source": [
        "model1.summary()"
      ]
    },
    {
      "cell_type": "code",
      "execution_count": null,
      "id": "cc5a02ef",
      "metadata": {
        "ExecuteTime": {
          "end_time": "2023-08-09T13:23:14.904235Z",
          "start_time": "2023-08-09T13:23:14.891117Z"
        },
        "id": "cc5a02ef",
        "outputId": "33c403b9-b279-4755-dcc6-af054cc176d7"
      },
      "outputs": [
        {
          "data": {
            "text/plain": [
              "Intercept       6.582734\n",
              "Sorting_Time    1.649020\n",
              "dtype: float64"
            ]
          },
          "execution_count": 312,
          "metadata": {},
          "output_type": "execute_result"
        }
      ],
      "source": [
        "model1.params"
      ]
    },
    {
      "cell_type": "code",
      "execution_count": null,
      "id": "2a50cecd",
      "metadata": {
        "ExecuteTime": {
          "end_time": "2023-08-09T13:23:14.920241Z",
          "start_time": "2023-08-09T13:23:14.904235Z"
        },
        "id": "2a50cecd",
        "outputId": "caaa29d0-a04b-4a0e-ae9f-a246498baa6d"
      },
      "outputs": [
        {
          "data": {
            "text/plain": [
              "Intercept       0.001147\n",
              "Sorting_Time    0.000004\n",
              "dtype: float64"
            ]
          },
          "execution_count": 313,
          "metadata": {},
          "output_type": "execute_result"
        }
      ],
      "source": [
        "model1.pvalues"
      ]
    },
    {
      "cell_type": "code",
      "execution_count": null,
      "id": "719b5468",
      "metadata": {
        "ExecuteTime": {
          "end_time": "2023-08-09T13:23:14.936482Z",
          "start_time": "2023-08-09T13:23:14.920241Z"
        },
        "id": "719b5468",
        "outputId": "8388b3e4-c483-4ff1-a969-20c5a891509f"
      },
      "outputs": [
        {
          "data": {
            "text/plain": [
              "Intercept       3.823349\n",
              "Sorting_Time    6.387447\n",
              "dtype: float64"
            ]
          },
          "execution_count": 314,
          "metadata": {},
          "output_type": "execute_result"
        }
      ],
      "source": [
        "model1.tvalues"
      ]
    },
    {
      "cell_type": "code",
      "execution_count": null,
      "id": "77338bf5",
      "metadata": {
        "ExecuteTime": {
          "end_time": "2023-08-09T13:23:14.953150Z",
          "start_time": "2023-08-09T13:23:14.936482Z"
        },
        "id": "77338bf5",
        "outputId": "b26ccb14-9253-444c-8813-61f2675d1404"
      },
      "outputs": [
        {
          "data": {
            "text/plain": [
              "(0.6822714748417231, 0.6655489208860244)"
            ]
          },
          "execution_count": 315,
          "metadata": {},
          "output_type": "execute_result"
        }
      ],
      "source": [
        "model1.rsquared,model1.rsquared_adj"
      ]
    },
    {
      "cell_type": "raw",
      "id": "a407a219",
      "metadata": {
        "id": "a407a219"
      },
      "source": [
        "Transformation"
      ]
    },
    {
      "cell_type": "code",
      "execution_count": null,
      "id": "3349526c",
      "metadata": {
        "ExecuteTime": {
          "end_time": "2023-08-09T13:23:14.969160Z",
          "start_time": "2023-08-09T13:23:14.953150Z"
        },
        "id": "3349526c",
        "outputId": "f16a947b-0ea6-4aeb-d2f1-c01050098c73"
      },
      "outputs": [
        {
          "data": {
            "text/plain": [
              "0    -2.072933\n",
              "1     0.321186\n",
              "2     3.273147\n",
              "3     2.576087\n",
              "4     5.927067\n",
              "5    -1.126853\n",
              "6     0.874127\n",
              "7    -2.029794\n",
              "8    -5.172933\n",
              "9    -2.673913\n",
              "10    0.055107\n",
              "11   -2.428814\n",
              "12   -1.445873\n",
              "13   -0.029794\n",
              "14    0.500206\n",
              "15    1.701186\n",
              "16   -2.726853\n",
              "17   -0.015873\n",
              "18   -1.880774\n",
              "19   -0.295873\n",
              "20    6.672167\n",
              "dtype: float64"
            ]
          },
          "execution_count": 316,
          "metadata": {},
          "output_type": "execute_result"
        }
      ],
      "source": [
        "model1.resid"
      ]
    },
    {
      "cell_type": "code",
      "execution_count": null,
      "id": "7ff1ed6d",
      "metadata": {
        "ExecuteTime": {
          "end_time": "2023-08-09T13:23:15.002278Z",
          "start_time": "2023-08-09T13:23:14.977385Z"
        },
        "id": "7ff1ed6d",
        "outputId": "8bd4b989-7412-4dbb-921c-603dd27d022e"
      },
      "outputs": [
        {
          "data": {
            "text/plain": [
              "array([ 0.54520896,  1.40418217, -0.38632031, -0.20163464, -1.15596979,\n",
              "        0.59514885,  1.03793812, -0.27418681,  1.45343166, -0.61642477,\n",
              "        0.09863781, -1.34720543, -1.1462834 , -1.28812023, -1.24492716,\n",
              "       -0.71851921, -1.37484017,  1.24578559, -0.03178436,  1.9777821 ,\n",
              "        0.29128615,  0.93050694,  0.14772822,  1.81920104,  0.24603492,\n",
              "       -0.90870332,  0.24223936, -0.66976978, -0.12712026, -0.54330225])"
            ]
          },
          "execution_count": 317,
          "metadata": {},
          "output_type": "execute_result"
        }
      ],
      "source": [
        "model.resid_pearson"
      ]
    },
    {
      "cell_type": "code",
      "execution_count": null,
      "id": "5007632a",
      "metadata": {
        "ExecuteTime": {
          "end_time": "2023-08-09T13:23:15.018958Z",
          "start_time": "2023-08-09T13:23:15.003071Z"
        },
        "id": "5007632a"
      },
      "outputs": [],
      "source": [
        "newdata1 = pd.Series([5,10])"
      ]
    },
    {
      "cell_type": "code",
      "execution_count": null,
      "id": "1b828a0e",
      "metadata": {
        "ExecuteTime": {
          "end_time": "2023-08-09T13:23:15.035263Z",
          "start_time": "2023-08-09T13:23:15.018958Z"
        },
        "id": "1b828a0e"
      },
      "outputs": [],
      "source": [
        "data_pred1 = pd.DataFrame(newdata1, columns = ['Sorting_Time'])"
      ]
    },
    {
      "cell_type": "code",
      "execution_count": null,
      "id": "dab72417",
      "metadata": {
        "ExecuteTime": {
          "end_time": "2023-08-09T13:23:15.060159Z",
          "start_time": "2023-08-09T13:23:15.035263Z"
        },
        "id": "dab72417",
        "outputId": "10b957af-8e3b-4c61-8c97-692efa0dea7a"
      },
      "outputs": [
        {
          "data": {
            "text/html": [
              "<div>\n",
              "<style scoped>\n",
              "    .dataframe tbody tr th:only-of-type {\n",
              "        vertical-align: middle;\n",
              "    }\n",
              "\n",
              "    .dataframe tbody tr th {\n",
              "        vertical-align: top;\n",
              "    }\n",
              "\n",
              "    .dataframe thead th {\n",
              "        text-align: right;\n",
              "    }\n",
              "</style>\n",
              "<table border=\"1\" class=\"dataframe\">\n",
              "  <thead>\n",
              "    <tr style=\"text-align: right;\">\n",
              "      <th></th>\n",
              "      <th>Sorting_Time</th>\n",
              "    </tr>\n",
              "  </thead>\n",
              "  <tbody>\n",
              "    <tr>\n",
              "      <th>0</th>\n",
              "      <td>5</td>\n",
              "    </tr>\n",
              "    <tr>\n",
              "      <th>1</th>\n",
              "      <td>10</td>\n",
              "    </tr>\n",
              "  </tbody>\n",
              "</table>\n",
              "</div>"
            ],
            "text/plain": [
              "   Sorting_Time\n",
              "0             5\n",
              "1            10"
            ]
          },
          "execution_count": 320,
          "metadata": {},
          "output_type": "execute_result"
        }
      ],
      "source": [
        "data_pred1"
      ]
    },
    {
      "cell_type": "code",
      "execution_count": null,
      "id": "5008cea4",
      "metadata": {
        "ExecuteTime": {
          "end_time": "2023-08-09T13:23:15.076360Z",
          "start_time": "2023-08-09T13:23:15.060159Z"
        },
        "id": "5008cea4",
        "outputId": "440884d7-6936-42b7-9548-3f2f99f0766c"
      },
      "outputs": [
        {
          "data": {
            "text/plain": [
              "0    14.827833\n",
              "1    23.072933\n",
              "dtype: float64"
            ]
          },
          "execution_count": 321,
          "metadata": {},
          "output_type": "execute_result"
        }
      ],
      "source": [
        "pred1=model1.predict(data_pred1)\n",
        "pred1"
      ]
    },
    {
      "cell_type": "code",
      "execution_count": null,
      "id": "c8e384b1",
      "metadata": {
        "ExecuteTime": {
          "end_time": "2023-08-09T13:23:15.108957Z",
          "start_time": "2023-08-09T13:23:15.076360Z"
        },
        "id": "c8e384b1",
        "outputId": "657a44b5-627c-49c1-bc3a-c1f0359ce18d"
      },
      "outputs": [
        {
          "data": {
            "text/plain": [
              "-1.0"
            ]
          },
          "execution_count": 322,
          "metadata": {},
          "output_type": "execute_result"
        }
      ],
      "source": [
        "pred1.corr(dataset.Delivery_Time)"
      ]
    },
    {
      "cell_type": "code",
      "execution_count": null,
      "id": "fe789c07",
      "metadata": {
        "ExecuteTime": {
          "end_time": "2023-08-09T13:23:15.124526Z",
          "start_time": "2023-08-09T13:23:15.108957Z"
        },
        "id": "fe789c07",
        "outputId": "ca56ca70-e985-4f59-cccd-9d7bccf02460"
      },
      "outputs": [
        {
          "data": {
            "text/plain": [
              "0     23.072933\n",
              "1     13.178814\n",
              "2     16.476853\n",
              "3     21.423913\n",
              "4     23.072933\n",
              "5     16.476853\n",
              "6     18.125873\n",
              "7     11.529794\n",
              "8     23.072933\n",
              "9     21.423913\n",
              "10    19.774893\n",
              "11    13.178814\n",
              "12    18.125873\n",
              "13    11.529794\n",
              "14    11.529794\n",
              "15    13.178814\n",
              "16    16.476853\n",
              "17    18.125873\n",
              "18     9.880774\n",
              "19    18.125873\n",
              "20    14.827833\n",
              "dtype: float64"
            ]
          },
          "execution_count": 323,
          "metadata": {},
          "output_type": "execute_result"
        }
      ],
      "source": [
        "perd1_1=model1.predict(dataset.Sorting_Time)\n",
        "perd1_1"
      ]
    },
    {
      "cell_type": "code",
      "execution_count": null,
      "id": "86518d13",
      "metadata": {
        "id": "86518d13"
      },
      "outputs": [],
      "source": []
    },
    {
      "cell_type": "code",
      "execution_count": null,
      "id": "06860401",
      "metadata": {
        "ExecuteTime": {
          "end_time": "2023-08-09T13:23:15.158017Z",
          "start_time": "2023-08-09T13:23:15.127076Z"
        },
        "id": "06860401"
      },
      "outputs": [],
      "source": [
        "# log method\n",
        "model2 = smf.ols('Delivery_Time~np.log(Sorting_Time)',data=dataset).fit()"
      ]
    },
    {
      "cell_type": "code",
      "execution_count": null,
      "id": "01ad81e2",
      "metadata": {
        "ExecuteTime": {
          "end_time": "2023-08-09T13:23:15.182488Z",
          "start_time": "2023-08-09T13:23:15.158017Z"
        },
        "id": "01ad81e2",
        "outputId": "ad75c7c5-2894-4d4e-c219-b0e9c2b5ed75"
      },
      "outputs": [
        {
          "data": {
            "text/html": [
              "<table class=\"simpletable\">\n",
              "<caption>OLS Regression Results</caption>\n",
              "<tr>\n",
              "  <th>Dep. Variable:</th>      <td>Delivery_Time</td>  <th>  R-squared:         </th> <td>   0.695</td>\n",
              "</tr>\n",
              "<tr>\n",
              "  <th>Model:</th>                   <td>OLS</td>       <th>  Adj. R-squared:    </th> <td>   0.679</td>\n",
              "</tr>\n",
              "<tr>\n",
              "  <th>Method:</th>             <td>Least Squares</td>  <th>  F-statistic:       </th> <td>   43.39</td>\n",
              "</tr>\n",
              "<tr>\n",
              "  <th>Date:</th>             <td>Wed, 09 Aug 2023</td> <th>  Prob (F-statistic):</th> <td>2.64e-06</td>\n",
              "</tr>\n",
              "<tr>\n",
              "  <th>Time:</th>                 <td>18:53:15</td>     <th>  Log-Likelihood:    </th> <td> -50.912</td>\n",
              "</tr>\n",
              "<tr>\n",
              "  <th>No. Observations:</th>      <td>    21</td>      <th>  AIC:               </th> <td>   105.8</td>\n",
              "</tr>\n",
              "<tr>\n",
              "  <th>Df Residuals:</th>          <td>    19</td>      <th>  BIC:               </th> <td>   107.9</td>\n",
              "</tr>\n",
              "<tr>\n",
              "  <th>Df Model:</th>              <td>     1</td>      <th>                     </th>     <td> </td>   \n",
              "</tr>\n",
              "<tr>\n",
              "  <th>Covariance Type:</th>      <td>nonrobust</td>    <th>                     </th>     <td> </td>   \n",
              "</tr>\n",
              "</table>\n",
              "<table class=\"simpletable\">\n",
              "<tr>\n",
              "            <td></td>              <th>coef</th>     <th>std err</th>      <th>t</th>      <th>P>|t|</th>  <th>[0.025</th>    <th>0.975]</th>  \n",
              "</tr>\n",
              "<tr>\n",
              "  <th>Intercept</th>            <td>    1.1597</td> <td>    2.455</td> <td>    0.472</td> <td> 0.642</td> <td>   -3.978</td> <td>    6.297</td>\n",
              "</tr>\n",
              "<tr>\n",
              "  <th>np.log(Sorting_Time)</th> <td>    9.0434</td> <td>    1.373</td> <td>    6.587</td> <td> 0.000</td> <td>    6.170</td> <td>   11.917</td>\n",
              "</tr>\n",
              "</table>\n",
              "<table class=\"simpletable\">\n",
              "<tr>\n",
              "  <th>Omnibus:</th>       <td> 5.552</td> <th>  Durbin-Watson:     </th> <td>   1.427</td>\n",
              "</tr>\n",
              "<tr>\n",
              "  <th>Prob(Omnibus):</th> <td> 0.062</td> <th>  Jarque-Bera (JB):  </th> <td>   3.481</td>\n",
              "</tr>\n",
              "<tr>\n",
              "  <th>Skew:</th>          <td> 0.946</td> <th>  Prob(JB):          </th> <td>   0.175</td>\n",
              "</tr>\n",
              "<tr>\n",
              "  <th>Kurtosis:</th>      <td> 3.628</td> <th>  Cond. No.          </th> <td>    9.08</td>\n",
              "</tr>\n",
              "</table><br/><br/>Notes:<br/>[1] Standard Errors assume that the covariance matrix of the errors is correctly specified."
            ],
            "text/plain": [
              "<class 'statsmodels.iolib.summary.Summary'>\n",
              "\"\"\"\n",
              "                            OLS Regression Results                            \n",
              "==============================================================================\n",
              "Dep. Variable:          Delivery_Time   R-squared:                       0.695\n",
              "Model:                            OLS   Adj. R-squared:                  0.679\n",
              "Method:                 Least Squares   F-statistic:                     43.39\n",
              "Date:                Wed, 09 Aug 2023   Prob (F-statistic):           2.64e-06\n",
              "Time:                        18:53:15   Log-Likelihood:                -50.912\n",
              "No. Observations:                  21   AIC:                             105.8\n",
              "Df Residuals:                      19   BIC:                             107.9\n",
              "Df Model:                           1                                         \n",
              "Covariance Type:            nonrobust                                         \n",
              "========================================================================================\n",
              "                           coef    std err          t      P>|t|      [0.025      0.975]\n",
              "----------------------------------------------------------------------------------------\n",
              "Intercept                1.1597      2.455      0.472      0.642      -3.978       6.297\n",
              "np.log(Sorting_Time)     9.0434      1.373      6.587      0.000       6.170      11.917\n",
              "==============================================================================\n",
              "Omnibus:                        5.552   Durbin-Watson:                   1.427\n",
              "Prob(Omnibus):                  0.062   Jarque-Bera (JB):                3.481\n",
              "Skew:                           0.946   Prob(JB):                        0.175\n",
              "Kurtosis:                       3.628   Cond. No.                         9.08\n",
              "==============================================================================\n",
              "\n",
              "Notes:\n",
              "[1] Standard Errors assume that the covariance matrix of the errors is correctly specified.\n",
              "\"\"\""
            ]
          },
          "execution_count": 325,
          "metadata": {},
          "output_type": "execute_result"
        }
      ],
      "source": [
        "model2.summary()"
      ]
    },
    {
      "cell_type": "code",
      "execution_count": null,
      "id": "c3858ec2",
      "metadata": {
        "ExecuteTime": {
          "end_time": "2023-08-09T13:23:15.199157Z",
          "start_time": "2023-08-09T13:23:15.184864Z"
        },
        "id": "c3858ec2",
        "outputId": "ef905395-9fe4-403c-ced6-379e58219ac4"
      },
      "outputs": [
        {
          "data": {
            "text/plain": [
              "0    15.714496\n",
              "1    21.982913\n",
              "dtype: float64"
            ]
          },
          "execution_count": 326,
          "metadata": {},
          "output_type": "execute_result"
        }
      ],
      "source": [
        "pred2=model2.predict(data_pred1)\n",
        "pred2"
      ]
    },
    {
      "cell_type": "code",
      "execution_count": null,
      "id": "92a18036",
      "metadata": {
        "ExecuteTime": {
          "end_time": "2023-08-09T13:23:15.216115Z",
          "start_time": "2023-08-09T13:23:15.199157Z"
        },
        "id": "92a18036",
        "outputId": "7cab6066-655e-4527-c54b-83f00227242f"
      },
      "outputs": [
        {
          "data": {
            "text/plain": [
              "-0.9999999999999998"
            ]
          },
          "execution_count": 327,
          "metadata": {},
          "output_type": "execute_result"
        }
      ],
      "source": [
        "pred2.corr(dataset.Delivery_Time)"
      ]
    },
    {
      "cell_type": "code",
      "execution_count": null,
      "id": "4d5a1e30",
      "metadata": {
        "ExecuteTime": {
          "end_time": "2023-08-09T13:23:15.248656Z",
          "start_time": "2023-08-09T13:23:15.216115Z"
        },
        "id": "4d5a1e30",
        "outputId": "f38eae79-4a2c-4c88-fea1-1f5864077f0d"
      },
      "outputs": [
        {
          "data": {
            "text/plain": [
              "0     21.982913\n",
              "1     13.696517\n",
              "2     17.363305\n",
              "3     21.030094\n",
              "4     21.982913\n",
              "5     17.363305\n",
              "6     18.757354\n",
              "7     11.094889\n",
              "8     21.982913\n",
              "9     21.030094\n",
              "10    19.964933\n",
              "11    13.696517\n",
              "12    18.757354\n",
              "13    11.094889\n",
              "14    11.094889\n",
              "15    13.696517\n",
              "16    17.363305\n",
              "17    18.757354\n",
              "18     7.428100\n",
              "19    18.757354\n",
              "20    15.714496\n",
              "dtype: float64"
            ]
          },
          "execution_count": 328,
          "metadata": {},
          "output_type": "execute_result"
        }
      ],
      "source": [
        "perd2_1=model2.predict(dataset.Sorting_Time)\n",
        "perd2_1"
      ]
    },
    {
      "cell_type": "code",
      "execution_count": null,
      "id": "3588a0be",
      "metadata": {
        "id": "3588a0be"
      },
      "outputs": [],
      "source": []
    },
    {
      "cell_type": "code",
      "execution_count": null,
      "id": "d75ac96b",
      "metadata": {
        "ExecuteTime": {
          "end_time": "2023-08-09T13:23:15.281385Z",
          "start_time": "2023-08-09T13:23:15.248656Z"
        },
        "id": "d75ac96b"
      },
      "outputs": [],
      "source": [
        "# Exponential method\n",
        "model3 = smf.ols('np.log(Delivery_Time)~Sorting_Time',data=dataset).fit()"
      ]
    },
    {
      "cell_type": "code",
      "execution_count": null,
      "id": "f67a6db6",
      "metadata": {
        "ExecuteTime": {
          "end_time": "2023-08-09T13:23:15.314383Z",
          "start_time": "2023-08-09T13:23:15.281385Z"
        },
        "id": "f67a6db6",
        "outputId": "7a1d4899-0028-43db-dff3-ad5a3806506d"
      },
      "outputs": [
        {
          "data": {
            "text/html": [
              "<table class=\"simpletable\">\n",
              "<caption>OLS Regression Results</caption>\n",
              "<tr>\n",
              "  <th>Dep. Variable:</th>    <td>np.log(Delivery_Time)</td> <th>  R-squared:         </th> <td>   0.711</td>\n",
              "</tr>\n",
              "<tr>\n",
              "  <th>Model:</th>                     <td>OLS</td>          <th>  Adj. R-squared:    </th> <td>   0.696</td>\n",
              "</tr>\n",
              "<tr>\n",
              "  <th>Method:</th>               <td>Least Squares</td>     <th>  F-statistic:       </th> <td>   46.73</td>\n",
              "</tr>\n",
              "<tr>\n",
              "  <th>Date:</th>               <td>Wed, 09 Aug 2023</td>    <th>  Prob (F-statistic):</th> <td>1.59e-06</td>\n",
              "</tr>\n",
              "<tr>\n",
              "  <th>Time:</th>                   <td>18:53:15</td>        <th>  Log-Likelihood:    </th> <td>  7.7920</td>\n",
              "</tr>\n",
              "<tr>\n",
              "  <th>No. Observations:</th>        <td>    21</td>         <th>  AIC:               </th> <td>  -11.58</td>\n",
              "</tr>\n",
              "<tr>\n",
              "  <th>Df Residuals:</th>            <td>    19</td>         <th>  BIC:               </th> <td>  -9.495</td>\n",
              "</tr>\n",
              "<tr>\n",
              "  <th>Df Model:</th>                <td>     1</td>         <th>                     </th>     <td> </td>   \n",
              "</tr>\n",
              "<tr>\n",
              "  <th>Covariance Type:</th>        <td>nonrobust</td>       <th>                     </th>     <td> </td>   \n",
              "</tr>\n",
              "</table>\n",
              "<table class=\"simpletable\">\n",
              "<tr>\n",
              "        <td></td>          <th>coef</th>     <th>std err</th>      <th>t</th>      <th>P>|t|</th>  <th>[0.025</th>    <th>0.975]</th>  \n",
              "</tr>\n",
              "<tr>\n",
              "  <th>Intercept</th>    <td>    2.1214</td> <td>    0.103</td> <td>   20.601</td> <td> 0.000</td> <td>    1.906</td> <td>    2.337</td>\n",
              "</tr>\n",
              "<tr>\n",
              "  <th>Sorting_Time</th> <td>    0.1056</td> <td>    0.015</td> <td>    6.836</td> <td> 0.000</td> <td>    0.073</td> <td>    0.138</td>\n",
              "</tr>\n",
              "</table>\n",
              "<table class=\"simpletable\">\n",
              "<tr>\n",
              "  <th>Omnibus:</th>       <td> 1.238</td> <th>  Durbin-Watson:     </th> <td>   1.325</td>\n",
              "</tr>\n",
              "<tr>\n",
              "  <th>Prob(Omnibus):</th> <td> 0.538</td> <th>  Jarque-Bera (JB):  </th> <td>   0.544</td>\n",
              "</tr>\n",
              "<tr>\n",
              "  <th>Skew:</th>          <td> 0.393</td> <th>  Prob(JB):          </th> <td>   0.762</td>\n",
              "</tr>\n",
              "<tr>\n",
              "  <th>Kurtosis:</th>      <td> 3.067</td> <th>  Cond. No.          </th> <td>    18.3</td>\n",
              "</tr>\n",
              "</table><br/><br/>Notes:<br/>[1] Standard Errors assume that the covariance matrix of the errors is correctly specified."
            ],
            "text/plain": [
              "<class 'statsmodels.iolib.summary.Summary'>\n",
              "\"\"\"\n",
              "                              OLS Regression Results                             \n",
              "=================================================================================\n",
              "Dep. Variable:     np.log(Delivery_Time)   R-squared:                       0.711\n",
              "Model:                               OLS   Adj. R-squared:                  0.696\n",
              "Method:                    Least Squares   F-statistic:                     46.73\n",
              "Date:                   Wed, 09 Aug 2023   Prob (F-statistic):           1.59e-06\n",
              "Time:                           18:53:15   Log-Likelihood:                 7.7920\n",
              "No. Observations:                     21   AIC:                            -11.58\n",
              "Df Residuals:                         19   BIC:                            -9.495\n",
              "Df Model:                              1                                         \n",
              "Covariance Type:               nonrobust                                         \n",
              "================================================================================\n",
              "                   coef    std err          t      P>|t|      [0.025      0.975]\n",
              "--------------------------------------------------------------------------------\n",
              "Intercept        2.1214      0.103     20.601      0.000       1.906       2.337\n",
              "Sorting_Time     0.1056      0.015      6.836      0.000       0.073       0.138\n",
              "==============================================================================\n",
              "Omnibus:                        1.238   Durbin-Watson:                   1.325\n",
              "Prob(Omnibus):                  0.538   Jarque-Bera (JB):                0.544\n",
              "Skew:                           0.393   Prob(JB):                        0.762\n",
              "Kurtosis:                       3.067   Cond. No.                         18.3\n",
              "==============================================================================\n",
              "\n",
              "Notes:\n",
              "[1] Standard Errors assume that the covariance matrix of the errors is correctly specified.\n",
              "\"\"\""
            ]
          },
          "execution_count": 330,
          "metadata": {},
          "output_type": "execute_result"
        }
      ],
      "source": [
        "model3.summary()"
      ]
    },
    {
      "cell_type": "code",
      "execution_count": null,
      "id": "10eeb7f3",
      "metadata": {
        "ExecuteTime": {
          "end_time": "2023-08-09T13:23:15.330717Z",
          "start_time": "2023-08-09T13:23:15.315064Z"
        },
        "id": "10eeb7f3",
        "outputId": "42fbddaf-248f-4106-c562-15d0f1be6755"
      },
      "outputs": [
        {
          "data": {
            "text/plain": [
              "0    2.649130\n",
              "1    3.176888\n",
              "dtype: float64"
            ]
          },
          "execution_count": 331,
          "metadata": {},
          "output_type": "execute_result"
        }
      ],
      "source": [
        "pred_log=model3.predict(data_pred1)\n",
        "pred_log"
      ]
    },
    {
      "cell_type": "code",
      "execution_count": null,
      "id": "ab6f7c8e",
      "metadata": {
        "ExecuteTime": {
          "end_time": "2023-08-09T13:23:15.347229Z",
          "start_time": "2023-08-09T13:23:15.330717Z"
        },
        "id": "ab6f7c8e",
        "outputId": "0009bbe7-142e-4cdc-ec0e-b20bbc745133"
      },
      "outputs": [
        {
          "data": {
            "text/plain": [
              "0    14.141728\n",
              "1    23.972032\n",
              "dtype: float64"
            ]
          },
          "execution_count": 332,
          "metadata": {},
          "output_type": "execute_result"
        }
      ],
      "source": [
        "pred3=np.exp(pred_log)\n",
        "pred3"
      ]
    },
    {
      "cell_type": "code",
      "execution_count": null,
      "id": "fb6e0bdf",
      "metadata": {
        "ExecuteTime": {
          "end_time": "2023-08-09T13:23:15.363451Z",
          "start_time": "2023-08-09T13:23:15.350289Z"
        },
        "id": "fb6e0bdf",
        "outputId": "1c0a7689-5f32-4fe3-9531-04fb4c5dd023"
      },
      "outputs": [
        {
          "data": {
            "text/plain": [
              "-1.0"
            ]
          },
          "execution_count": 333,
          "metadata": {},
          "output_type": "execute_result"
        }
      ],
      "source": [
        "pred3.corr(dataset.Delivery_Time)"
      ]
    },
    {
      "cell_type": "code",
      "execution_count": null,
      "id": "0dea6378",
      "metadata": {
        "ExecuteTime": {
          "end_time": "2023-08-09T13:23:15.380264Z",
          "start_time": "2023-08-09T13:23:15.363451Z"
        },
        "id": "0dea6378",
        "outputId": "44b8b67d-bf9f-41cb-dd1d-a809c7ec19ec"
      },
      "outputs": [
        {
          "data": {
            "text/plain": [
              "0     3.176888\n",
              "1     2.543578\n",
              "2     2.754681\n",
              "3     3.071336\n",
              "4     3.176888\n",
              "5     2.754681\n",
              "6     2.860233\n",
              "7     2.438027\n",
              "8     3.176888\n",
              "9     3.071336\n",
              "10    2.965785\n",
              "11    2.543578\n",
              "12    2.860233\n",
              "13    2.438027\n",
              "14    2.438027\n",
              "15    2.543578\n",
              "16    2.754681\n",
              "17    2.860233\n",
              "18    2.332475\n",
              "19    2.860233\n",
              "20    2.649130\n",
              "dtype: float64"
            ]
          },
          "execution_count": 334,
          "metadata": {},
          "output_type": "execute_result"
        }
      ],
      "source": [
        "perd_log1=model3.predict(dataset.Sorting_Time)\n",
        "perd_log1"
      ]
    },
    {
      "cell_type": "code",
      "execution_count": null,
      "id": "7134d38f",
      "metadata": {
        "ExecuteTime": {
          "end_time": "2023-08-09T13:23:15.396780Z",
          "start_time": "2023-08-09T13:23:15.380264Z"
        },
        "id": "7134d38f",
        "outputId": "82fd01b7-fa71-47f1-a58d-0ed859524818"
      },
      "outputs": [
        {
          "data": {
            "text/plain": [
              "0     23.972032\n",
              "1     12.725123\n",
              "2     15.716034\n",
              "3     21.570707\n",
              "4     23.972032\n",
              "5     15.716034\n",
              "6     17.465597\n",
              "7     11.450423\n",
              "8     23.972032\n",
              "9     21.570707\n",
              "10    19.409927\n",
              "11    12.725123\n",
              "12    17.465597\n",
              "13    11.450423\n",
              "14    11.450423\n",
              "15    12.725123\n",
              "16    15.716034\n",
              "17    17.465597\n",
              "18    10.303411\n",
              "19    17.465597\n",
              "20    14.141728\n",
              "dtype: float64"
            ]
          },
          "execution_count": 335,
          "metadata": {},
          "output_type": "execute_result"
        }
      ],
      "source": [
        "pred3_1=np.exp(perd_log1)\n",
        "pred3_1"
      ]
    },
    {
      "cell_type": "code",
      "execution_count": null,
      "id": "ff69e94e",
      "metadata": {
        "id": "ff69e94e"
      },
      "outputs": [],
      "source": []
    },
    {
      "cell_type": "code",
      "execution_count": null,
      "id": "e795d47d",
      "metadata": {
        "ExecuteTime": {
          "end_time": "2023-08-09T13:23:15.413175Z",
          "start_time": "2023-08-09T13:23:15.396780Z"
        },
        "id": "e795d47d"
      },
      "outputs": [],
      "source": [
        "# quadratic method"
      ]
    },
    {
      "cell_type": "code",
      "execution_count": null,
      "id": "47b28af1",
      "metadata": {
        "ExecuteTime": {
          "end_time": "2023-08-09T13:23:15.437876Z",
          "start_time": "2023-08-09T13:23:15.413175Z"
        },
        "id": "47b28af1",
        "outputId": "544a8a77-80bb-4f20-dab9-f1fdbf24e370"
      },
      "outputs": [
        {
          "data": {
            "text/html": [
              "<div>\n",
              "<style scoped>\n",
              "    .dataframe tbody tr th:only-of-type {\n",
              "        vertical-align: middle;\n",
              "    }\n",
              "\n",
              "    .dataframe tbody tr th {\n",
              "        vertical-align: top;\n",
              "    }\n",
              "\n",
              "    .dataframe thead th {\n",
              "        text-align: right;\n",
              "    }\n",
              "</style>\n",
              "<table border=\"1\" class=\"dataframe\">\n",
              "  <thead>\n",
              "    <tr style=\"text-align: right;\">\n",
              "      <th></th>\n",
              "      <th>Delivery_Time</th>\n",
              "      <th>Sorting_Time</th>\n",
              "      <th>Sorting_Time_sq</th>\n",
              "    </tr>\n",
              "  </thead>\n",
              "  <tbody>\n",
              "    <tr>\n",
              "      <th>0</th>\n",
              "      <td>21.00</td>\n",
              "      <td>10</td>\n",
              "      <td>100</td>\n",
              "    </tr>\n",
              "    <tr>\n",
              "      <th>1</th>\n",
              "      <td>13.50</td>\n",
              "      <td>4</td>\n",
              "      <td>16</td>\n",
              "    </tr>\n",
              "    <tr>\n",
              "      <th>2</th>\n",
              "      <td>19.75</td>\n",
              "      <td>6</td>\n",
              "      <td>36</td>\n",
              "    </tr>\n",
              "    <tr>\n",
              "      <th>3</th>\n",
              "      <td>24.00</td>\n",
              "      <td>9</td>\n",
              "      <td>81</td>\n",
              "    </tr>\n",
              "    <tr>\n",
              "      <th>4</th>\n",
              "      <td>29.00</td>\n",
              "      <td>10</td>\n",
              "      <td>100</td>\n",
              "    </tr>\n",
              "    <tr>\n",
              "      <th>5</th>\n",
              "      <td>15.35</td>\n",
              "      <td>6</td>\n",
              "      <td>36</td>\n",
              "    </tr>\n",
              "    <tr>\n",
              "      <th>6</th>\n",
              "      <td>19.00</td>\n",
              "      <td>7</td>\n",
              "      <td>49</td>\n",
              "    </tr>\n",
              "    <tr>\n",
              "      <th>7</th>\n",
              "      <td>9.50</td>\n",
              "      <td>3</td>\n",
              "      <td>9</td>\n",
              "    </tr>\n",
              "    <tr>\n",
              "      <th>8</th>\n",
              "      <td>17.90</td>\n",
              "      <td>10</td>\n",
              "      <td>100</td>\n",
              "    </tr>\n",
              "    <tr>\n",
              "      <th>9</th>\n",
              "      <td>18.75</td>\n",
              "      <td>9</td>\n",
              "      <td>81</td>\n",
              "    </tr>\n",
              "    <tr>\n",
              "      <th>10</th>\n",
              "      <td>19.83</td>\n",
              "      <td>8</td>\n",
              "      <td>64</td>\n",
              "    </tr>\n",
              "    <tr>\n",
              "      <th>11</th>\n",
              "      <td>10.75</td>\n",
              "      <td>4</td>\n",
              "      <td>16</td>\n",
              "    </tr>\n",
              "    <tr>\n",
              "      <th>12</th>\n",
              "      <td>16.68</td>\n",
              "      <td>7</td>\n",
              "      <td>49</td>\n",
              "    </tr>\n",
              "    <tr>\n",
              "      <th>13</th>\n",
              "      <td>11.50</td>\n",
              "      <td>3</td>\n",
              "      <td>9</td>\n",
              "    </tr>\n",
              "    <tr>\n",
              "      <th>14</th>\n",
              "      <td>12.03</td>\n",
              "      <td>3</td>\n",
              "      <td>9</td>\n",
              "    </tr>\n",
              "    <tr>\n",
              "      <th>15</th>\n",
              "      <td>14.88</td>\n",
              "      <td>4</td>\n",
              "      <td>16</td>\n",
              "    </tr>\n",
              "    <tr>\n",
              "      <th>16</th>\n",
              "      <td>13.75</td>\n",
              "      <td>6</td>\n",
              "      <td>36</td>\n",
              "    </tr>\n",
              "    <tr>\n",
              "      <th>17</th>\n",
              "      <td>18.11</td>\n",
              "      <td>7</td>\n",
              "      <td>49</td>\n",
              "    </tr>\n",
              "    <tr>\n",
              "      <th>18</th>\n",
              "      <td>8.00</td>\n",
              "      <td>2</td>\n",
              "      <td>4</td>\n",
              "    </tr>\n",
              "    <tr>\n",
              "      <th>19</th>\n",
              "      <td>17.83</td>\n",
              "      <td>7</td>\n",
              "      <td>49</td>\n",
              "    </tr>\n",
              "    <tr>\n",
              "      <th>20</th>\n",
              "      <td>21.50</td>\n",
              "      <td>5</td>\n",
              "      <td>25</td>\n",
              "    </tr>\n",
              "  </tbody>\n",
              "</table>\n",
              "</div>"
            ],
            "text/plain": [
              "    Delivery_Time  Sorting_Time  Sorting_Time_sq\n",
              "0           21.00            10              100\n",
              "1           13.50             4               16\n",
              "2           19.75             6               36\n",
              "3           24.00             9               81\n",
              "4           29.00            10              100\n",
              "5           15.35             6               36\n",
              "6           19.00             7               49\n",
              "7            9.50             3                9\n",
              "8           17.90            10              100\n",
              "9           18.75             9               81\n",
              "10          19.83             8               64\n",
              "11          10.75             4               16\n",
              "12          16.68             7               49\n",
              "13          11.50             3                9\n",
              "14          12.03             3                9\n",
              "15          14.88             4               16\n",
              "16          13.75             6               36\n",
              "17          18.11             7               49\n",
              "18           8.00             2                4\n",
              "19          17.83             7               49\n",
              "20          21.50             5               25"
            ]
          },
          "execution_count": 337,
          "metadata": {},
          "output_type": "execute_result"
        }
      ],
      "source": [
        "dataset[\"Sorting_Time_sq\"]=dataset.Sorting_Time*dataset.Sorting_Time\n",
        "dataset"
      ]
    },
    {
      "cell_type": "code",
      "execution_count": null,
      "id": "6d9594e6",
      "metadata": {
        "ExecuteTime": {
          "end_time": "2023-08-09T13:23:15.469931Z",
          "start_time": "2023-08-09T13:23:15.437876Z"
        },
        "id": "6d9594e6"
      },
      "outputs": [],
      "source": [
        "model4=smf.ols(\"np.log(Delivery_Time)~Sorting_Time+Sorting_Time_sq\",data=dataset).fit()"
      ]
    },
    {
      "cell_type": "code",
      "execution_count": null,
      "id": "b256d51a",
      "metadata": {
        "ExecuteTime": {
          "end_time": "2023-08-09T13:23:15.501930Z",
          "start_time": "2023-08-09T13:23:15.469931Z"
        },
        "id": "b256d51a",
        "outputId": "838194c5-6ab3-45f7-d65d-49a1ddf1bc1d"
      },
      "outputs": [
        {
          "data": {
            "text/html": [
              "<table class=\"simpletable\">\n",
              "<caption>OLS Regression Results</caption>\n",
              "<tr>\n",
              "  <th>Dep. Variable:</th>    <td>np.log(Delivery_Time)</td> <th>  R-squared:         </th> <td>   0.765</td>\n",
              "</tr>\n",
              "<tr>\n",
              "  <th>Model:</th>                     <td>OLS</td>          <th>  Adj. R-squared:    </th> <td>   0.739</td>\n",
              "</tr>\n",
              "<tr>\n",
              "  <th>Method:</th>               <td>Least Squares</td>     <th>  F-statistic:       </th> <td>   29.28</td>\n",
              "</tr>\n",
              "<tr>\n",
              "  <th>Date:</th>               <td>Wed, 09 Aug 2023</td>    <th>  Prob (F-statistic):</th> <td>2.20e-06</td>\n",
              "</tr>\n",
              "<tr>\n",
              "  <th>Time:</th>                   <td>18:53:15</td>        <th>  Log-Likelihood:    </th> <td>  9.9597</td>\n",
              "</tr>\n",
              "<tr>\n",
              "  <th>No. Observations:</th>        <td>    21</td>         <th>  AIC:               </th> <td>  -13.92</td>\n",
              "</tr>\n",
              "<tr>\n",
              "  <th>Df Residuals:</th>            <td>    18</td>         <th>  BIC:               </th> <td>  -10.79</td>\n",
              "</tr>\n",
              "<tr>\n",
              "  <th>Df Model:</th>                <td>     2</td>         <th>                     </th>     <td> </td>   \n",
              "</tr>\n",
              "<tr>\n",
              "  <th>Covariance Type:</th>        <td>nonrobust</td>       <th>                     </th>     <td> </td>   \n",
              "</tr>\n",
              "</table>\n",
              "<table class=\"simpletable\">\n",
              "<tr>\n",
              "         <td></td>            <th>coef</th>     <th>std err</th>      <th>t</th>      <th>P>|t|</th>  <th>[0.025</th>    <th>0.975]</th>  \n",
              "</tr>\n",
              "<tr>\n",
              "  <th>Intercept</th>       <td>    1.6997</td> <td>    0.228</td> <td>    7.441</td> <td> 0.000</td> <td>    1.220</td> <td>    2.180</td>\n",
              "</tr>\n",
              "<tr>\n",
              "  <th>Sorting_Time</th>    <td>    0.2659</td> <td>    0.080</td> <td>    3.315</td> <td> 0.004</td> <td>    0.097</td> <td>    0.434</td>\n",
              "</tr>\n",
              "<tr>\n",
              "  <th>Sorting_Time_sq</th> <td>   -0.0128</td> <td>    0.006</td> <td>   -2.032</td> <td> 0.057</td> <td>   -0.026</td> <td>    0.000</td>\n",
              "</tr>\n",
              "</table>\n",
              "<table class=\"simpletable\">\n",
              "<tr>\n",
              "  <th>Omnibus:</th>       <td> 2.548</td> <th>  Durbin-Watson:     </th> <td>   1.369</td>\n",
              "</tr>\n",
              "<tr>\n",
              "  <th>Prob(Omnibus):</th> <td> 0.280</td> <th>  Jarque-Bera (JB):  </th> <td>   1.777</td>\n",
              "</tr>\n",
              "<tr>\n",
              "  <th>Skew:</th>          <td> 0.708</td> <th>  Prob(JB):          </th> <td>   0.411</td>\n",
              "</tr>\n",
              "<tr>\n",
              "  <th>Kurtosis:</th>      <td> 2.846</td> <th>  Cond. No.          </th> <td>    373.</td>\n",
              "</tr>\n",
              "</table><br/><br/>Notes:<br/>[1] Standard Errors assume that the covariance matrix of the errors is correctly specified."
            ],
            "text/plain": [
              "<class 'statsmodels.iolib.summary.Summary'>\n",
              "\"\"\"\n",
              "                              OLS Regression Results                             \n",
              "=================================================================================\n",
              "Dep. Variable:     np.log(Delivery_Time)   R-squared:                       0.765\n",
              "Model:                               OLS   Adj. R-squared:                  0.739\n",
              "Method:                    Least Squares   F-statistic:                     29.28\n",
              "Date:                   Wed, 09 Aug 2023   Prob (F-statistic):           2.20e-06\n",
              "Time:                           18:53:15   Log-Likelihood:                 9.9597\n",
              "No. Observations:                     21   AIC:                            -13.92\n",
              "Df Residuals:                         18   BIC:                            -10.79\n",
              "Df Model:                              2                                         \n",
              "Covariance Type:               nonrobust                                         \n",
              "===================================================================================\n",
              "                      coef    std err          t      P>|t|      [0.025      0.975]\n",
              "-----------------------------------------------------------------------------------\n",
              "Intercept           1.6997      0.228      7.441      0.000       1.220       2.180\n",
              "Sorting_Time        0.2659      0.080      3.315      0.004       0.097       0.434\n",
              "Sorting_Time_sq    -0.0128      0.006     -2.032      0.057      -0.026       0.000\n",
              "==============================================================================\n",
              "Omnibus:                        2.548   Durbin-Watson:                   1.369\n",
              "Prob(Omnibus):                  0.280   Jarque-Bera (JB):                1.777\n",
              "Skew:                           0.708   Prob(JB):                        0.411\n",
              "Kurtosis:                       2.846   Cond. No.                         373.\n",
              "==============================================================================\n",
              "\n",
              "Notes:\n",
              "[1] Standard Errors assume that the covariance matrix of the errors is correctly specified.\n",
              "\"\"\""
            ]
          },
          "execution_count": 339,
          "metadata": {},
          "output_type": "execute_result"
        }
      ],
      "source": [
        "model4.summary()"
      ]
    },
    {
      "cell_type": "code",
      "execution_count": null,
      "id": "24112d5f",
      "metadata": {
        "ExecuteTime": {
          "end_time": "2023-08-09T13:23:15.517930Z",
          "start_time": "2023-08-09T13:23:15.501930Z"
        },
        "id": "24112d5f",
        "outputId": "31d3e143-ee8e-45f2-af65-da0438bc0d47"
      },
      "outputs": [
        {
          "data": {
            "text/plain": [
              "0     3.074863\n",
              "1     2.557942\n",
              "2     2.832974\n",
              "3     3.052913\n",
              "4     3.074863\n",
              "5     2.832974\n",
              "6     2.931968\n",
              "7     2.381905\n",
              "8     3.074863\n",
              "9     3.052913\n",
              "10    3.005281\n",
              "11    2.557942\n",
              "12    2.931968\n",
              "13    2.381905\n",
              "14    2.381905\n",
              "15    2.557942\n",
              "16    2.832974\n",
              "17    2.931968\n",
              "18    2.180186\n",
              "19    2.931968\n",
              "20    2.708299\n",
              "dtype: float64"
            ]
          },
          "execution_count": 340,
          "metadata": {},
          "output_type": "execute_result"
        }
      ],
      "source": [
        "pred_quad=model4.predict(dataset)\n",
        "pred_quad"
      ]
    },
    {
      "cell_type": "code",
      "execution_count": null,
      "id": "11b58964",
      "metadata": {
        "ExecuteTime": {
          "end_time": "2023-08-09T13:23:15.533930Z",
          "start_time": "2023-08-09T13:23:15.517930Z"
        },
        "id": "11b58964",
        "outputId": "39aa2c20-e074-4b81-839a-40c771396aab"
      },
      "outputs": [
        {
          "data": {
            "text/plain": [
              "0     21.646921\n",
              "1     12.909227\n",
              "2     16.995933\n",
              "3     21.176938\n",
              "4     21.646921\n",
              "5     16.995933\n",
              "6     18.764526\n",
              "7     10.825502\n",
              "8     21.646921\n",
              "9     21.176938\n",
              "10    20.191891\n",
              "11    12.909227\n",
              "12    18.764526\n",
              "13    10.825502\n",
              "14    10.825502\n",
              "15    12.909227\n",
              "16    16.995933\n",
              "17    18.764526\n",
              "18     8.847949\n",
              "19    18.764526\n",
              "20    15.003730\n",
              "dtype: float64"
            ]
          },
          "execution_count": 341,
          "metadata": {},
          "output_type": "execute_result"
        }
      ],
      "source": [
        "pred4=np.exp(pred_quad)  # as we have used log(AT) in preparing model so we need to convert it back\n",
        "pred4"
      ]
    },
    {
      "cell_type": "code",
      "execution_count": null,
      "id": "b6d43c7c",
      "metadata": {
        "ExecuteTime": {
          "end_time": "2023-08-09T13:23:15.549930Z",
          "start_time": "2023-08-09T13:23:15.533930Z"
        },
        "id": "b6d43c7c",
        "outputId": "821df5e0-2bc0-45ee-d959-a0ba608d40f7"
      },
      "outputs": [
        {
          "data": {
            "text/plain": [
              "0.8258882749910925"
            ]
          },
          "execution_count": 342,
          "metadata": {},
          "output_type": "execute_result"
        }
      ],
      "source": [
        "pred4.corr(dataset.Delivery_Time)"
      ]
    },
    {
      "cell_type": "code",
      "execution_count": null,
      "id": "37ed33c4",
      "metadata": {
        "ExecuteTime": {
          "end_time": "2023-08-09T13:23:15.565931Z",
          "start_time": "2023-08-09T13:23:15.549930Z"
        },
        "id": "37ed33c4",
        "outputId": "78491dfc-b198-4e30-fabe-3e49ee3b0e41"
      },
      "outputs": [
        {
          "data": {
            "text/plain": [
              "nan"
            ]
          },
          "execution_count": 343,
          "metadata": {},
          "output_type": "execute_result"
        }
      ],
      "source": [
        "rmse1=np.sqrt(np.mean(np.array(dataset.Delivery_Time)-np.array(pred4)**2))\n",
        "rmse1"
      ]
    },
    {
      "cell_type": "code",
      "execution_count": null,
      "id": "5bcdc9b7",
      "metadata": {
        "ExecuteTime": {
          "end_time": "2023-08-09T13:23:15.581930Z",
          "start_time": "2023-08-09T13:23:15.565931Z"
        },
        "id": "5bcdc9b7",
        "outputId": "4b98bc51-84e7-45ae-b7e4-714981cf0122"
      },
      "outputs": [
        {
          "data": {
            "text/plain": [
              "0    -0.030341\n",
              "1     0.044747\n",
              "2     0.150179\n",
              "3     0.125141\n",
              "4     0.292433\n",
              "5    -0.101859\n",
              "6     0.012471\n",
              "7    -0.130613\n",
              "8    -0.190063\n",
              "9    -0.121719\n",
              "10   -0.018085\n",
              "11   -0.183037\n",
              "12   -0.117758\n",
              "13    0.060442\n",
              "14    0.105499\n",
              "15    0.142076\n",
              "16   -0.211935\n",
              "17   -0.035504\n",
              "18   -0.100744\n",
              "19   -0.051086\n",
              "20    0.359754\n",
              "dtype: float64"
            ]
          },
          "execution_count": 344,
          "metadata": {},
          "output_type": "execute_result"
        }
      ],
      "source": [
        "model4.resid"
      ]
    },
    {
      "cell_type": "code",
      "execution_count": null,
      "id": "7ceb14c7",
      "metadata": {
        "ExecuteTime": {
          "end_time": "2023-08-09T13:23:15.597929Z",
          "start_time": "2023-08-09T13:23:15.581930Z"
        },
        "id": "7ceb14c7",
        "outputId": "54a4d4f3-684d-4e11-817c-704eace3b547"
      },
      "outputs": [
        {
          "data": {
            "text/plain": [
              "array([-0.18653701,  0.27510944,  0.92331151,  0.76937448,  1.79789238,\n",
              "       -0.62623272,  0.0766711 , -0.80301506, -1.16851536, -0.74833548,\n",
              "       -0.11118848, -1.12531927, -0.72398172,  0.37160353,  0.64861345,\n",
              "        0.8734897 , -1.3029903 , -0.21828016, -0.61938087, -0.31407821,\n",
              "        2.21178906])"
            ]
          },
          "execution_count": 345,
          "metadata": {},
          "output_type": "execute_result"
        }
      ],
      "source": [
        "model4.resid_pearson"
      ]
    },
    {
      "cell_type": "code",
      "execution_count": null,
      "id": "2bd1263c",
      "metadata": {
        "ExecuteTime": {
          "end_time": "2023-08-09T13:23:15.613931Z",
          "start_time": "2023-08-09T13:23:15.597929Z"
        },
        "id": "2bd1263c",
        "outputId": "00b07b87-9a7a-4d38-8f1c-48033ddcf28f"
      },
      "outputs": [
        {
          "data": {
            "text/plain": [
              "1.6896537079533336e-14"
            ]
          },
          "execution_count": 346,
          "metadata": {},
          "output_type": "execute_result"
        }
      ],
      "source": [
        "model4.resid_pearson.mean()"
      ]
    },
    {
      "cell_type": "code",
      "execution_count": null,
      "id": "81a2c2a1",
      "metadata": {
        "ExecuteTime": {
          "end_time": "2023-08-09T13:23:15.629929Z",
          "start_time": "2023-08-09T13:23:15.613931Z"
        },
        "id": "81a2c2a1",
        "outputId": "9a6da131-3c80-400a-d482-b0d79d1d2e26"
      },
      "outputs": [
        {
          "data": {
            "text/plain": [
              "0.9258200997725514"
            ]
          },
          "execution_count": 347,
          "metadata": {},
          "output_type": "execute_result"
        }
      ],
      "source": [
        "model4.resid_pearson.std()"
      ]
    },
    {
      "cell_type": "code",
      "execution_count": null,
      "id": "9df878e7",
      "metadata": {
        "ExecuteTime": {
          "end_time": "2023-08-09T13:23:15.807062Z",
          "start_time": "2023-08-09T13:23:15.629929Z"
        },
        "id": "9df878e7",
        "outputId": "b3edd6a9-4d02-41e2-bacb-53f75325e4b4"
      },
      "outputs": [
        {
          "data": {
            "image/png": "[encoded data removed]",
            "text/plain": [
              "<Figure size 640x480 with 1 Axes>"
            ]
          },
          "metadata": {},
          "output_type": "display_data"
        }
      ],
      "source": [
        "plt.plot(model4.resid_pearson)\n",
        "plt.axhline(y=0,color='red')\n",
        "plt.show()"
      ]
    },
    {
      "cell_type": "code",
      "execution_count": null,
      "id": "c4615038",
      "metadata": {
        "id": "c4615038"
      },
      "outputs": [],
      "source": []
    },
    {
      "cell_type": "code",
      "execution_count": null,
      "id": "05ff91fd",
      "metadata": {
        "id": "05ff91fd"
      },
      "outputs": [],
      "source": []
    },
    {
      "cell_type": "code",
      "execution_count": null,
      "id": "3f31ee5f",
      "metadata": {
        "id": "3f31ee5f"
      },
      "outputs": [],
      "source": []
    },
    {
      "cell_type": "raw",
      "id": "96d6420a",
      "metadata": {
        "id": "96d6420a"
      },
      "source": [
        " question 2"
      ]
    },
    {
      "cell_type": "code",
      "execution_count": null,
      "id": "e2633f58",
      "metadata": {
        "ExecuteTime": {
          "end_time": "2023-08-09T13:23:15.823686Z",
          "start_time": "2023-08-09T13:23:15.807062Z"
        },
        "id": "e2633f58"
      },
      "outputs": [],
      "source": [
        "import pandas as pd\n",
        "import numpy as np\n",
        "import matplotlib.pyplot as plt\n",
        "import seaborn as sns\n",
        "import statsmodels.formula.api as smf"
      ]
    },
    {
      "cell_type": "code",
      "execution_count": null,
      "id": "bf21557d",
      "metadata": {
        "ExecuteTime": {
          "end_time": "2023-08-09T13:23:15.856351Z",
          "start_time": "2023-08-09T13:23:15.823686Z"
        },
        "id": "bf21557d",
        "outputId": "8ab45a0c-a758-44b7-9df3-f8c364052f5e"
      },
      "outputs": [
        {
          "data": {
            "text/html": [
              "<div>\n",
              "<style scoped>\n",
              "    .dataframe tbody tr th:only-of-type {\n",
              "        vertical-align: middle;\n",
              "    }\n",
              "\n",
              "    .dataframe tbody tr th {\n",
              "        vertical-align: top;\n",
              "    }\n",
              "\n",
              "    .dataframe thead th {\n",
              "        text-align: right;\n",
              "    }\n",
              "</style>\n",
              "<table border=\"1\" class=\"dataframe\">\n",
              "  <thead>\n",
              "    <tr style=\"text-align: right;\">\n",
              "      <th></th>\n",
              "      <th>YearsExperience</th>\n",
              "      <th>Salary</th>\n",
              "    </tr>\n",
              "  </thead>\n",
              "  <tbody>\n",
              "    <tr>\n",
              "      <th>0</th>\n",
              "      <td>1.1</td>\n",
              "      <td>39343.0</td>\n",
              "    </tr>\n",
              "    <tr>\n",
              "      <th>1</th>\n",
              "      <td>1.3</td>\n",
              "      <td>46205.0</td>\n",
              "    </tr>\n",
              "    <tr>\n",
              "      <th>2</th>\n",
              "      <td>1.5</td>\n",
              "      <td>37731.0</td>\n",
              "    </tr>\n",
              "    <tr>\n",
              "      <th>3</th>\n",
              "      <td>2.0</td>\n",
              "      <td>43525.0</td>\n",
              "    </tr>\n",
              "    <tr>\n",
              "      <th>4</th>\n",
              "      <td>2.2</td>\n",
              "      <td>39891.0</td>\n",
              "    </tr>\n",
              "    <tr>\n",
              "      <th>5</th>\n",
              "      <td>2.9</td>\n",
              "      <td>56642.0</td>\n",
              "    </tr>\n",
              "    <tr>\n",
              "      <th>6</th>\n",
              "      <td>3.0</td>\n",
              "      <td>60150.0</td>\n",
              "    </tr>\n",
              "    <tr>\n",
              "      <th>7</th>\n",
              "      <td>3.2</td>\n",
              "      <td>54445.0</td>\n",
              "    </tr>\n",
              "    <tr>\n",
              "      <th>8</th>\n",
              "      <td>3.2</td>\n",
              "      <td>64445.0</td>\n",
              "    </tr>\n",
              "    <tr>\n",
              "      <th>9</th>\n",
              "      <td>3.7</td>\n",
              "      <td>57189.0</td>\n",
              "    </tr>\n",
              "    <tr>\n",
              "      <th>10</th>\n",
              "      <td>3.9</td>\n",
              "      <td>63218.0</td>\n",
              "    </tr>\n",
              "    <tr>\n",
              "      <th>11</th>\n",
              "      <td>4.0</td>\n",
              "      <td>55794.0</td>\n",
              "    </tr>\n",
              "    <tr>\n",
              "      <th>12</th>\n",
              "      <td>4.0</td>\n",
              "      <td>56957.0</td>\n",
              "    </tr>\n",
              "    <tr>\n",
              "      <th>13</th>\n",
              "      <td>4.1</td>\n",
              "      <td>57081.0</td>\n",
              "    </tr>\n",
              "    <tr>\n",
              "      <th>14</th>\n",
              "      <td>4.5</td>\n",
              "      <td>61111.0</td>\n",
              "    </tr>\n",
              "    <tr>\n",
              "      <th>15</th>\n",
              "      <td>4.9</td>\n",
              "      <td>67938.0</td>\n",
              "    </tr>\n",
              "    <tr>\n",
              "      <th>16</th>\n",
              "      <td>5.1</td>\n",
              "      <td>66029.0</td>\n",
              "    </tr>\n",
              "    <tr>\n",
              "      <th>17</th>\n",
              "      <td>5.3</td>\n",
              "      <td>83088.0</td>\n",
              "    </tr>\n",
              "    <tr>\n",
              "      <th>18</th>\n",
              "      <td>5.9</td>\n",
              "      <td>81363.0</td>\n",
              "    </tr>\n",
              "    <tr>\n",
              "      <th>19</th>\n",
              "      <td>6.0</td>\n",
              "      <td>93940.0</td>\n",
              "    </tr>\n",
              "    <tr>\n",
              "      <th>20</th>\n",
              "      <td>6.8</td>\n",
              "      <td>91738.0</td>\n",
              "    </tr>\n",
              "    <tr>\n",
              "      <th>21</th>\n",
              "      <td>7.1</td>\n",
              "      <td>98273.0</td>\n",
              "    </tr>\n",
              "    <tr>\n",
              "      <th>22</th>\n",
              "      <td>7.9</td>\n",
              "      <td>101302.0</td>\n",
              "    </tr>\n",
              "    <tr>\n",
              "      <th>23</th>\n",
              "      <td>8.2</td>\n",
              "      <td>113812.0</td>\n",
              "    </tr>\n",
              "    <tr>\n",
              "      <th>24</th>\n",
              "      <td>8.7</td>\n",
              "      <td>109431.0</td>\n",
              "    </tr>\n",
              "    <tr>\n",
              "      <th>25</th>\n",
              "      <td>9.0</td>\n",
              "      <td>105582.0</td>\n",
              "    </tr>\n",
              "    <tr>\n",
              "      <th>26</th>\n",
              "      <td>9.5</td>\n",
              "      <td>116969.0</td>\n",
              "    </tr>\n",
              "    <tr>\n",
              "      <th>27</th>\n",
              "      <td>9.6</td>\n",
              "      <td>112635.0</td>\n",
              "    </tr>\n",
              "    <tr>\n",
              "      <th>28</th>\n",
              "      <td>10.3</td>\n",
              "      <td>122391.0</td>\n",
              "    </tr>\n",
              "    <tr>\n",
              "      <th>29</th>\n",
              "      <td>10.5</td>\n",
              "      <td>121872.0</td>\n",
              "    </tr>\n",
              "  </tbody>\n",
              "</table>\n",
              "</div>"
            ],
            "text/plain": [
              "    YearsExperience    Salary\n",
              "0               1.1   39343.0\n",
              "1               1.3   46205.0\n",
              "2               1.5   37731.0\n",
              "3               2.0   43525.0\n",
              "4               2.2   39891.0\n",
              "5               2.9   56642.0\n",
              "6               3.0   60150.0\n",
              "7               3.2   54445.0\n",
              "8               3.2   64445.0\n",
              "9               3.7   57189.0\n",
              "10              3.9   63218.0\n",
              "11              4.0   55794.0\n",
              "12              4.0   56957.0\n",
              "13              4.1   57081.0\n",
              "14              4.5   61111.0\n",
              "15              4.9   67938.0\n",
              "16              5.1   66029.0\n",
              "17              5.3   83088.0\n",
              "18              5.9   81363.0\n",
              "19              6.0   93940.0\n",
              "20              6.8   91738.0\n",
              "21              7.1   98273.0\n",
              "22              7.9  101302.0\n",
              "23              8.2  113812.0\n",
              "24              8.7  109431.0\n",
              "25              9.0  105582.0\n",
              "26              9.5  116969.0\n",
              "27              9.6  112635.0\n",
              "28             10.3  122391.0\n",
              "29             10.5  121872.0"
            ]
          },
          "execution_count": 350,
          "metadata": {},
          "output_type": "execute_result"
        }
      ],
      "source": [
        "data=pd.read_csv(\"Salary_Data.csv\")\n",
        "data"
      ]
    },
    {
      "cell_type": "raw",
      "id": "d74c402f",
      "metadata": {
        "id": "d74c402f"
      },
      "source": [
        "EDA AND DATA VISUALIZATION"
      ]
    },
    {
      "cell_type": "code",
      "execution_count": null,
      "id": "81505986",
      "metadata": {
        "ExecuteTime": {
          "end_time": "2023-08-09T13:23:15.872676Z",
          "start_time": "2023-08-09T13:23:15.856351Z"
        },
        "id": "81505986",
        "outputId": "49f57a59-c65f-422e-82d8-96ee4c845401"
      },
      "outputs": [
        {
          "data": {
            "text/html": [
              "<div>\n",
              "<style scoped>\n",
              "    .dataframe tbody tr th:only-of-type {\n",
              "        vertical-align: middle;\n",
              "    }\n",
              "\n",
              "    .dataframe tbody tr th {\n",
              "        vertical-align: top;\n",
              "    }\n",
              "\n",
              "    .dataframe thead th {\n",
              "        text-align: right;\n",
              "    }\n",
              "</style>\n",
              "<table border=\"1\" class=\"dataframe\">\n",
              "  <thead>\n",
              "    <tr style=\"text-align: right;\">\n",
              "      <th></th>\n",
              "      <th>YearsExperience</th>\n",
              "      <th>Salary</th>\n",
              "    </tr>\n",
              "  </thead>\n",
              "  <tbody>\n",
              "    <tr>\n",
              "      <th>0</th>\n",
              "      <td>1.1</td>\n",
              "      <td>39343.0</td>\n",
              "    </tr>\n",
              "    <tr>\n",
              "      <th>1</th>\n",
              "      <td>1.3</td>\n",
              "      <td>46205.0</td>\n",
              "    </tr>\n",
              "    <tr>\n",
              "      <th>2</th>\n",
              "      <td>1.5</td>\n",
              "      <td>37731.0</td>\n",
              "    </tr>\n",
              "    <tr>\n",
              "      <th>3</th>\n",
              "      <td>2.0</td>\n",
              "      <td>43525.0</td>\n",
              "    </tr>\n",
              "    <tr>\n",
              "      <th>4</th>\n",
              "      <td>2.2</td>\n",
              "      <td>39891.0</td>\n",
              "    </tr>\n",
              "  </tbody>\n",
              "</table>\n",
              "</div>"
            ],
            "text/plain": [
              "   YearsExperience   Salary\n",
              "0              1.1  39343.0\n",
              "1              1.3  46205.0\n",
              "2              1.5  37731.0\n",
              "3              2.0  43525.0\n",
              "4              2.2  39891.0"
            ]
          },
          "execution_count": 351,
          "metadata": {},
          "output_type": "execute_result"
        }
      ],
      "source": [
        "data.head()"
      ]
    },
    {
      "cell_type": "code",
      "execution_count": null,
      "id": "8ce57619",
      "metadata": {
        "ExecuteTime": {
          "end_time": "2023-08-09T13:23:15.888979Z",
          "start_time": "2023-08-09T13:23:15.872676Z"
        },
        "id": "8ce57619",
        "outputId": "824622d8-91e8-4f0f-e103-d830cee9ce36"
      },
      "outputs": [
        {
          "data": {
            "text/html": [
              "<div>\n",
              "<style scoped>\n",
              "    .dataframe tbody tr th:only-of-type {\n",
              "        vertical-align: middle;\n",
              "    }\n",
              "\n",
              "    .dataframe tbody tr th {\n",
              "        vertical-align: top;\n",
              "    }\n",
              "\n",
              "    .dataframe thead th {\n",
              "        text-align: right;\n",
              "    }\n",
              "</style>\n",
              "<table border=\"1\" class=\"dataframe\">\n",
              "  <thead>\n",
              "    <tr style=\"text-align: right;\">\n",
              "      <th></th>\n",
              "      <th>YearsExperience</th>\n",
              "      <th>Salary</th>\n",
              "    </tr>\n",
              "  </thead>\n",
              "  <tbody>\n",
              "    <tr>\n",
              "      <th>25</th>\n",
              "      <td>9.0</td>\n",
              "      <td>105582.0</td>\n",
              "    </tr>\n",
              "    <tr>\n",
              "      <th>26</th>\n",
              "      <td>9.5</td>\n",
              "      <td>116969.0</td>\n",
              "    </tr>\n",
              "    <tr>\n",
              "      <th>27</th>\n",
              "      <td>9.6</td>\n",
              "      <td>112635.0</td>\n",
              "    </tr>\n",
              "    <tr>\n",
              "      <th>28</th>\n",
              "      <td>10.3</td>\n",
              "      <td>122391.0</td>\n",
              "    </tr>\n",
              "    <tr>\n",
              "      <th>29</th>\n",
              "      <td>10.5</td>\n",
              "      <td>121872.0</td>\n",
              "    </tr>\n",
              "  </tbody>\n",
              "</table>\n",
              "</div>"
            ],
            "text/plain": [
              "    YearsExperience    Salary\n",
              "25              9.0  105582.0\n",
              "26              9.5  116969.0\n",
              "27              9.6  112635.0\n",
              "28             10.3  122391.0\n",
              "29             10.5  121872.0"
            ]
          },
          "execution_count": 352,
          "metadata": {},
          "output_type": "execute_result"
        }
      ],
      "source": [
        "data.tail()"
      ]
    },
    {
      "cell_type": "code",
      "execution_count": null,
      "id": "23af5b56",
      "metadata": {
        "ExecuteTime": {
          "end_time": "2023-08-09T13:23:15.905817Z",
          "start_time": "2023-08-09T13:23:15.890442Z"
        },
        "id": "23af5b56",
        "outputId": "73b16902-e881-4515-ce58-84661156d887"
      },
      "outputs": [
        {
          "data": {
            "text/plain": [
              "(30, 2)"
            ]
          },
          "execution_count": 353,
          "metadata": {},
          "output_type": "execute_result"
        }
      ],
      "source": [
        "data.shape"
      ]
    },
    {
      "cell_type": "code",
      "execution_count": null,
      "id": "f12a48cc",
      "metadata": {
        "ExecuteTime": {
          "end_time": "2023-08-09T13:23:15.922028Z",
          "start_time": "2023-08-09T13:23:15.905817Z"
        },
        "id": "f12a48cc",
        "outputId": "59dc6b11-f283-4b03-fba0-0bbf72db641c"
      },
      "outputs": [
        {
          "data": {
            "text/plain": [
              "YearsExperience    float64\n",
              "Salary             float64\n",
              "dtype: object"
            ]
          },
          "execution_count": 354,
          "metadata": {},
          "output_type": "execute_result"
        }
      ],
      "source": [
        "data.dtypes"
      ]
    },
    {
      "cell_type": "code",
      "execution_count": null,
      "id": "b706ab37",
      "metadata": {
        "ExecuteTime": {
          "end_time": "2023-08-09T13:23:15.946755Z",
          "start_time": "2023-08-09T13:23:15.922028Z"
        },
        "id": "b706ab37",
        "outputId": "6601732d-6265-400f-817d-9cdce1580aac"
      },
      "outputs": [
        {
          "name": "stdout",
          "output_type": "stream",
          "text": [
            "<class 'pandas.core.frame.DataFrame'>\n",
            "RangeIndex: 30 entries, 0 to 29\n",
            "Data columns (total 2 columns):\n",
            " #   Column           Non-Null Count  Dtype  \n",
            "---  ------           --------------  -----  \n",
            " 0   YearsExperience  30 non-null     float64\n",
            " 1   Salary           30 non-null     float64\n",
            "dtypes: float64(2)\n",
            "memory usage: 608.0 bytes\n"
          ]
        }
      ],
      "source": [
        "data.info()"
      ]
    },
    {
      "cell_type": "code",
      "execution_count": null,
      "id": "28269c1d",
      "metadata": {
        "ExecuteTime": {
          "end_time": "2023-08-09T13:23:15.963531Z",
          "start_time": "2023-08-09T13:23:15.950509Z"
        },
        "id": "28269c1d",
        "outputId": "1ed8251b-0b15-460c-dc47-7dfe45df4b46"
      },
      "outputs": [
        {
          "data": {
            "text/plain": [
              "YearsExperience    0\n",
              "Salary             0\n",
              "dtype: int64"
            ]
          },
          "execution_count": 356,
          "metadata": {},
          "output_type": "execute_result"
        }
      ],
      "source": [
        "data.isnull().sum()"
      ]
    },
    {
      "cell_type": "code",
      "execution_count": null,
      "id": "d07acff6",
      "metadata": {
        "ExecuteTime": {
          "end_time": "2023-08-09T13:23:15.979560Z",
          "start_time": "2023-08-09T13:23:15.963531Z"
        },
        "id": "d07acff6",
        "outputId": "a18ad8c9-2699-4d93-fbf3-8fbc0a3b3a7f"
      },
      "outputs": [
        {
          "data": {
            "text/html": [
              "<div>\n",
              "<style scoped>\n",
              "    .dataframe tbody tr th:only-of-type {\n",
              "        vertical-align: middle;\n",
              "    }\n",
              "\n",
              "    .dataframe tbody tr th {\n",
              "        vertical-align: top;\n",
              "    }\n",
              "\n",
              "    .dataframe thead th {\n",
              "        text-align: right;\n",
              "    }\n",
              "</style>\n",
              "<table border=\"1\" class=\"dataframe\">\n",
              "  <thead>\n",
              "    <tr style=\"text-align: right;\">\n",
              "      <th></th>\n",
              "      <th>YearsExperience</th>\n",
              "      <th>Salary</th>\n",
              "    </tr>\n",
              "  </thead>\n",
              "  <tbody>\n",
              "  </tbody>\n",
              "</table>\n",
              "</div>"
            ],
            "text/plain": [
              "Empty DataFrame\n",
              "Columns: [YearsExperience, Salary]\n",
              "Index: []"
            ]
          },
          "execution_count": 357,
          "metadata": {},
          "output_type": "execute_result"
        }
      ],
      "source": [
        "data[data.duplicated()]"
      ]
    },
    {
      "cell_type": "code",
      "execution_count": null,
      "id": "9abc73a0",
      "metadata": {
        "ExecuteTime": {
          "end_time": "2023-08-09T13:23:15.996146Z",
          "start_time": "2023-08-09T13:23:15.979560Z"
        },
        "id": "9abc73a0",
        "outputId": "d011deb3-6d7b-4cd6-8cd4-007b98bbdf56"
      },
      "outputs": [
        {
          "data": {
            "text/plain": [
              "(0, 2)"
            ]
          },
          "execution_count": 358,
          "metadata": {},
          "output_type": "execute_result"
        }
      ],
      "source": [
        "data[data.duplicated()].shape"
      ]
    },
    {
      "cell_type": "code",
      "execution_count": null,
      "id": "364bc400",
      "metadata": {
        "ExecuteTime": {
          "end_time": "2023-08-09T13:23:16.338825Z",
          "start_time": "2023-08-09T13:23:15.996146Z"
        },
        "id": "364bc400",
        "outputId": "c0a2c510-4d68-435d-ca63-76288623b625"
      },
      "outputs": [
        {
          "data": {
            "text/plain": [
              "<Axes: >"
            ]
          },
          "execution_count": 359,
          "metadata": {},
          "output_type": "execute_result"
        },
        {
          "data": {
            "image/png": "[encoded data removed]",
            "text/plain": [
              "<Figure size 640x480 with 2 Axes>"
            ]
          },
          "metadata": {},
          "output_type": "display_data"
        }
      ],
      "source": [
        "#to genrate heat map\n",
        "cols = data.columns\n",
        "colors = [ '#ffff00','#000099']   #define colors, yellow for missing, blue for non missing\n",
        "sns.heatmap(data[cols].isnull(),\n",
        "               cmap= sns.color_palette(colors))"
      ]
    },
    {
      "cell_type": "code",
      "execution_count": null,
      "id": "242c0b3f",
      "metadata": {
        "ExecuteTime": {
          "end_time": "2023-08-09T13:23:16.371793Z",
          "start_time": "2023-08-09T13:23:16.338825Z"
        },
        "id": "242c0b3f",
        "outputId": "c45a7d03-5c6a-43bf-d5df-95ddde2f7505"
      },
      "outputs": [
        {
          "data": {
            "text/html": [
              "<div>\n",
              "<style scoped>\n",
              "    .dataframe tbody tr th:only-of-type {\n",
              "        vertical-align: middle;\n",
              "    }\n",
              "\n",
              "    .dataframe tbody tr th {\n",
              "        vertical-align: top;\n",
              "    }\n",
              "\n",
              "    .dataframe thead th {\n",
              "        text-align: right;\n",
              "    }\n",
              "</style>\n",
              "<table border=\"1\" class=\"dataframe\">\n",
              "  <thead>\n",
              "    <tr style=\"text-align: right;\">\n",
              "      <th></th>\n",
              "      <th>YearsExperience</th>\n",
              "      <th>Salary</th>\n",
              "    </tr>\n",
              "  </thead>\n",
              "  <tbody>\n",
              "    <tr>\n",
              "      <th>count</th>\n",
              "      <td>30.000000</td>\n",
              "      <td>30.000000</td>\n",
              "    </tr>\n",
              "    <tr>\n",
              "      <th>mean</th>\n",
              "      <td>5.313333</td>\n",
              "      <td>76003.000000</td>\n",
              "    </tr>\n",
              "    <tr>\n",
              "      <th>std</th>\n",
              "      <td>2.837888</td>\n",
              "      <td>27414.429785</td>\n",
              "    </tr>\n",
              "    <tr>\n",
              "      <th>min</th>\n",
              "      <td>1.100000</td>\n",
              "      <td>37731.000000</td>\n",
              "    </tr>\n",
              "    <tr>\n",
              "      <th>25%</th>\n",
              "      <td>3.200000</td>\n",
              "      <td>56720.750000</td>\n",
              "    </tr>\n",
              "    <tr>\n",
              "      <th>50%</th>\n",
              "      <td>4.700000</td>\n",
              "      <td>65237.000000</td>\n",
              "    </tr>\n",
              "    <tr>\n",
              "      <th>75%</th>\n",
              "      <td>7.700000</td>\n",
              "      <td>100544.750000</td>\n",
              "    </tr>\n",
              "    <tr>\n",
              "      <th>max</th>\n",
              "      <td>10.500000</td>\n",
              "      <td>122391.000000</td>\n",
              "    </tr>\n",
              "  </tbody>\n",
              "</table>\n",
              "</div>"
            ],
            "text/plain": [
              "       YearsExperience         Salary\n",
              "count        30.000000      30.000000\n",
              "mean          5.313333   76003.000000\n",
              "std           2.837888   27414.429785\n",
              "min           1.100000   37731.000000\n",
              "25%           3.200000   56720.750000\n",
              "50%           4.700000   65237.000000\n",
              "75%           7.700000  100544.750000\n",
              "max          10.500000  122391.000000"
            ]
          },
          "execution_count": 360,
          "metadata": {},
          "output_type": "execute_result"
        }
      ],
      "source": [
        "data.describe()"
      ]
    },
    {
      "cell_type": "raw",
      "id": "e39988b2",
      "metadata": {
        "id": "e39988b2"
      },
      "source": [
        "Outlier Detection"
      ]
    },
    {
      "cell_type": "code",
      "execution_count": null,
      "id": "026a07fc",
      "metadata": {
        "ExecuteTime": {
          "end_time": "2023-08-09T13:23:16.524842Z",
          "start_time": "2023-08-09T13:23:16.371793Z"
        },
        "id": "026a07fc",
        "outputId": "32bdee28-9380-410f-f42f-37614f6bc4bd"
      },
      "outputs": [
        {
          "data": {
            "image/png": "[encoded data removed]",
            "text/plain": [
              "<Figure size 640x480 with 1 Axes>"
            ]
          },
          "metadata": {},
          "output_type": "display_data"
        }
      ],
      "source": [
        "plt.boxplot(data['YearsExperience'])\n",
        "plt.title(\"YearsExperience\")\n",
        "plt.show()"
      ]
    },
    {
      "cell_type": "code",
      "execution_count": null,
      "id": "56d33bc3",
      "metadata": {
        "ExecuteTime": {
          "end_time": "2023-08-09T13:23:16.701636Z",
          "start_time": "2023-08-09T13:23:16.524842Z"
        },
        "id": "56d33bc3",
        "outputId": "d142c426-cea0-43b6-b670-20738dd90a82"
      },
      "outputs": [
        {
          "data": {
            "image/png": "[encoded data removed]",
            "text/plain": [
              "<Figure size 640x480 with 1 Axes>"
            ]
          },
          "metadata": {},
          "output_type": "display_data"
        }
      ],
      "source": [
        "plt.boxplot(data['Salary'])\n",
        "plt.title(\"Salary\")\n",
        "plt.show()"
      ]
    },
    {
      "cell_type": "code",
      "execution_count": null,
      "id": "b54a8b0a",
      "metadata": {
        "ExecuteTime": {
          "end_time": "2023-08-09T13:23:16.913634Z",
          "start_time": "2023-08-09T13:23:16.701636Z"
        },
        "id": "b54a8b0a",
        "outputId": "a99d48e2-a287-4101-cdec-2843aff85fd1"
      },
      "outputs": [
        {
          "data": {
            "image/png": "[encoded data removed]",
            "text/plain": [
              "<Figure size 640x480 with 1 Axes>"
            ]
          },
          "metadata": {},
          "output_type": "display_data"
        }
      ],
      "source": [
        "sns.distplot(data.YearsExperience)\n",
        "plt.title(\"YearsExperience\")\n",
        "plt.show()"
      ]
    },
    {
      "cell_type": "code",
      "execution_count": null,
      "id": "3ae4de30",
      "metadata": {
        "ExecuteTime": {
          "end_time": "2023-08-09T13:23:17.134571Z",
          "start_time": "2023-08-09T13:23:16.914521Z"
        },
        "id": "3ae4de30",
        "outputId": "a179d68e-a11d-4ae0-9a0d-30b43ffcc73e"
      },
      "outputs": [
        {
          "data": {
            "image/png": "[encoded data removed]",
            "text/plain": [
              "<Figure size 640x480 with 1 Axes>"
            ]
          },
          "metadata": {},
          "output_type": "display_data"
        }
      ],
      "source": [
        "sns.distplot(data.Salary)\n",
        "plt.title(\"Salary\")\n",
        "plt.show()"
      ]
    },
    {
      "cell_type": "raw",
      "id": "95ceb539",
      "metadata": {
        "id": "95ceb539"
      },
      "source": [
        "CORRELATION ANALYSIS"
      ]
    },
    {
      "cell_type": "code",
      "execution_count": null,
      "id": "bf049c3f",
      "metadata": {
        "ExecuteTime": {
          "end_time": "2023-08-09T13:23:17.150831Z",
          "start_time": "2023-08-09T13:23:17.134571Z"
        },
        "id": "bf049c3f",
        "outputId": "e5485908-0483-4255-83fd-f048dcd43544"
      },
      "outputs": [
        {
          "data": {
            "text/html": [
              "<div>\n",
              "<style scoped>\n",
              "    .dataframe tbody tr th:only-of-type {\n",
              "        vertical-align: middle;\n",
              "    }\n",
              "\n",
              "    .dataframe tbody tr th {\n",
              "        vertical-align: top;\n",
              "    }\n",
              "\n",
              "    .dataframe thead th {\n",
              "        text-align: right;\n",
              "    }\n",
              "</style>\n",
              "<table border=\"1\" class=\"dataframe\">\n",
              "  <thead>\n",
              "    <tr style=\"text-align: right;\">\n",
              "      <th></th>\n",
              "      <th>YearsExperience</th>\n",
              "      <th>Salary</th>\n",
              "    </tr>\n",
              "  </thead>\n",
              "  <tbody>\n",
              "    <tr>\n",
              "      <th>YearsExperience</th>\n",
              "      <td>1.000000</td>\n",
              "      <td>0.978242</td>\n",
              "    </tr>\n",
              "    <tr>\n",
              "      <th>Salary</th>\n",
              "      <td>0.978242</td>\n",
              "      <td>1.000000</td>\n",
              "    </tr>\n",
              "  </tbody>\n",
              "</table>\n",
              "</div>"
            ],
            "text/plain": [
              "                 YearsExperience    Salary\n",
              "YearsExperience         1.000000  0.978242\n",
              "Salary                  0.978242  1.000000"
            ]
          },
          "execution_count": 365,
          "metadata": {},
          "output_type": "execute_result"
        }
      ],
      "source": [
        "data.corr()"
      ]
    },
    {
      "cell_type": "code",
      "execution_count": null,
      "id": "e1fa2ba4",
      "metadata": {
        "ExecuteTime": {
          "end_time": "2023-08-09T13:23:17.404047Z",
          "start_time": "2023-08-09T13:23:17.159325Z"
        },
        "id": "e1fa2ba4",
        "outputId": "1d5e96f9-baea-4c7a-bd18-62b76fe29920"
      },
      "outputs": [
        {
          "data": {
            "image/png": "[encoded data removed]",
            "text/plain": [
              "<Figure size 640x480 with 1 Axes>"
            ]
          },
          "metadata": {},
          "output_type": "display_data"
        }
      ],
      "source": [
        "sns.regplot(x=data[\"YearsExperience\"],y=data[\"Salary\"])\n",
        "plt.show()"
      ]
    },
    {
      "cell_type": "raw",
      "id": "7e8c1ea9",
      "metadata": {
        "id": "7e8c1ea9"
      },
      "source": [
        "Model Building"
      ]
    },
    {
      "cell_type": "code",
      "execution_count": null,
      "id": "a74ac922",
      "metadata": {
        "ExecuteTime": {
          "end_time": "2023-08-09T13:23:17.420271Z",
          "start_time": "2023-08-09T13:23:17.404047Z"
        },
        "id": "a74ac922"
      },
      "outputs": [],
      "source": [
        "model=smf.ols(\"Salary~YearsExperience\",data=data).fit()"
      ]
    },
    {
      "cell_type": "raw",
      "id": "b3ee4601",
      "metadata": {
        "id": "b3ee4601"
      },
      "source": [
        "Model Testing"
      ]
    },
    {
      "cell_type": "code",
      "execution_count": null,
      "id": "0a5b66a7",
      "metadata": {
        "ExecuteTime": {
          "end_time": "2023-08-09T13:23:17.445305Z",
          "start_time": "2023-08-09T13:23:17.422375Z"
        },
        "id": "0a5b66a7",
        "outputId": "9249b05f-91f1-4bb9-e821-41f9b5f46762"
      },
      "outputs": [
        {
          "data": {
            "text/html": [
              "<table class=\"simpletable\">\n",
              "<caption>OLS Regression Results</caption>\n",
              "<tr>\n",
              "  <th>Dep. Variable:</th>         <td>Salary</td>      <th>  R-squared:         </th> <td>   0.957</td>\n",
              "</tr>\n",
              "<tr>\n",
              "  <th>Model:</th>                   <td>OLS</td>       <th>  Adj. R-squared:    </th> <td>   0.955</td>\n",
              "</tr>\n",
              "<tr>\n",
              "  <th>Method:</th>             <td>Least Squares</td>  <th>  F-statistic:       </th> <td>   622.5</td>\n",
              "</tr>\n",
              "<tr>\n",
              "  <th>Date:</th>             <td>Wed, 09 Aug 2023</td> <th>  Prob (F-statistic):</th> <td>1.14e-20</td>\n",
              "</tr>\n",
              "<tr>\n",
              "  <th>Time:</th>                 <td>18:53:17</td>     <th>  Log-Likelihood:    </th> <td> -301.44</td>\n",
              "</tr>\n",
              "<tr>\n",
              "  <th>No. Observations:</th>      <td>    30</td>      <th>  AIC:               </th> <td>   606.9</td>\n",
              "</tr>\n",
              "<tr>\n",
              "  <th>Df Residuals:</th>          <td>    28</td>      <th>  BIC:               </th> <td>   609.7</td>\n",
              "</tr>\n",
              "<tr>\n",
              "  <th>Df Model:</th>              <td>     1</td>      <th>                     </th>     <td> </td>   \n",
              "</tr>\n",
              "<tr>\n",
              "  <th>Covariance Type:</th>      <td>nonrobust</td>    <th>                     </th>     <td> </td>   \n",
              "</tr>\n",
              "</table>\n",
              "<table class=\"simpletable\">\n",
              "<tr>\n",
              "         <td></td>            <th>coef</th>     <th>std err</th>      <th>t</th>      <th>P>|t|</th>  <th>[0.025</th>    <th>0.975]</th>  \n",
              "</tr>\n",
              "<tr>\n",
              "  <th>Intercept</th>       <td> 2.579e+04</td> <td> 2273.053</td> <td>   11.347</td> <td> 0.000</td> <td> 2.11e+04</td> <td> 3.04e+04</td>\n",
              "</tr>\n",
              "<tr>\n",
              "  <th>YearsExperience</th> <td> 9449.9623</td> <td>  378.755</td> <td>   24.950</td> <td> 0.000</td> <td> 8674.119</td> <td> 1.02e+04</td>\n",
              "</tr>\n",
              "</table>\n",
              "<table class=\"simpletable\">\n",
              "<tr>\n",
              "  <th>Omnibus:</th>       <td> 2.140</td> <th>  Durbin-Watson:     </th> <td>   1.648</td>\n",
              "</tr>\n",
              "<tr>\n",
              "  <th>Prob(Omnibus):</th> <td> 0.343</td> <th>  Jarque-Bera (JB):  </th> <td>   1.569</td>\n",
              "</tr>\n",
              "<tr>\n",
              "  <th>Skew:</th>          <td> 0.363</td> <th>  Prob(JB):          </th> <td>   0.456</td>\n",
              "</tr>\n",
              "<tr>\n",
              "  <th>Kurtosis:</th>      <td> 2.147</td> <th>  Cond. No.          </th> <td>    13.2</td>\n",
              "</tr>\n",
              "</table><br/><br/>Notes:<br/>[1] Standard Errors assume that the covariance matrix of the errors is correctly specified."
            ],
            "text/plain": [
              "<class 'statsmodels.iolib.summary.Summary'>\n",
              "\"\"\"\n",
              "                            OLS Regression Results                            \n",
              "==============================================================================\n",
              "Dep. Variable:                 Salary   R-squared:                       0.957\n",
              "Model:                            OLS   Adj. R-squared:                  0.955\n",
              "Method:                 Least Squares   F-statistic:                     622.5\n",
              "Date:                Wed, 09 Aug 2023   Prob (F-statistic):           1.14e-20\n",
              "Time:                        18:53:17   Log-Likelihood:                -301.44\n",
              "No. Observations:                  30   AIC:                             606.9\n",
              "Df Residuals:                      28   BIC:                             609.7\n",
              "Df Model:                           1                                         \n",
              "Covariance Type:            nonrobust                                         \n",
              "===================================================================================\n",
              "                      coef    std err          t      P>|t|      [0.025      0.975]\n",
              "-----------------------------------------------------------------------------------\n",
              "Intercept        2.579e+04   2273.053     11.347      0.000    2.11e+04    3.04e+04\n",
              "YearsExperience  9449.9623    378.755     24.950      0.000    8674.119    1.02e+04\n",
              "==============================================================================\n",
              "Omnibus:                        2.140   Durbin-Watson:                   1.648\n",
              "Prob(Omnibus):                  0.343   Jarque-Bera (JB):                1.569\n",
              "Skew:                           0.363   Prob(JB):                        0.456\n",
              "Kurtosis:                       2.147   Cond. No.                         13.2\n",
              "==============================================================================\n",
              "\n",
              "Notes:\n",
              "[1] Standard Errors assume that the covariance matrix of the errors is correctly specified.\n",
              "\"\"\""
            ]
          },
          "execution_count": 368,
          "metadata": {},
          "output_type": "execute_result"
        }
      ],
      "source": [
        "model.summary()"
      ]
    },
    {
      "cell_type": "code",
      "execution_count": null,
      "id": "d8d9eb7c",
      "metadata": {
        "ExecuteTime": {
          "end_time": "2023-08-09T13:23:17.461798Z",
          "start_time": "2023-08-09T13:23:17.452542Z"
        },
        "id": "d8d9eb7c"
      },
      "outputs": [],
      "source": [
        "# Finding Cefficient Parameters"
      ]
    },
    {
      "cell_type": "code",
      "execution_count": null,
      "id": "58c9af3c",
      "metadata": {
        "ExecuteTime": {
          "end_time": "2023-08-09T13:23:17.494676Z",
          "start_time": "2023-08-09T13:23:17.470080Z"
        },
        "id": "58c9af3c",
        "outputId": "07a3b5b1-ce18-47f0-d970-4af53e9be2c6"
      },
      "outputs": [
        {
          "data": {
            "text/plain": [
              "Intercept          25792.200199\n",
              "YearsExperience     9449.962321\n",
              "dtype: float64"
            ]
          },
          "execution_count": 370,
          "metadata": {},
          "output_type": "execute_result"
        }
      ],
      "source": [
        "model.params"
      ]
    },
    {
      "cell_type": "code",
      "execution_count": null,
      "id": "14f52d9b",
      "metadata": {
        "ExecuteTime": {
          "end_time": "2023-08-09T13:23:17.527342Z",
          "start_time": "2023-08-09T13:23:17.511227Z"
        },
        "id": "14f52d9b"
      },
      "outputs": [],
      "source": [
        "# Finding Pvalues and tvalues"
      ]
    },
    {
      "cell_type": "code",
      "execution_count": null,
      "id": "ca86556a",
      "metadata": {
        "ExecuteTime": {
          "end_time": "2023-08-09T13:23:17.538757Z",
          "start_time": "2023-08-09T13:23:17.527342Z"
        },
        "id": "ca86556a",
        "outputId": "4be4a4cc-07a0-47aa-88d5-151edc0f19a1"
      },
      "outputs": [
        {
          "data": {
            "text/plain": [
              "Intercept          5.511950e-12\n",
              "YearsExperience    1.143068e-20\n",
              "dtype: float64"
            ]
          },
          "execution_count": 372,
          "metadata": {},
          "output_type": "execute_result"
        }
      ],
      "source": [
        "model.pvalues"
      ]
    },
    {
      "cell_type": "code",
      "execution_count": null,
      "id": "233b5b77",
      "metadata": {
        "ExecuteTime": {
          "end_time": "2023-08-09T13:23:17.551855Z",
          "start_time": "2023-08-09T13:23:17.538757Z"
        },
        "id": "233b5b77",
        "outputId": "36bf1679-1f08-4546-f28d-3ffebbb000e8"
      },
      "outputs": [
        {
          "data": {
            "text/plain": [
              "Intercept          11.346940\n",
              "YearsExperience    24.950094\n",
              "dtype: float64"
            ]
          },
          "execution_count": 373,
          "metadata": {},
          "output_type": "execute_result"
        }
      ],
      "source": [
        "model.tvalues"
      ]
    },
    {
      "cell_type": "code",
      "execution_count": null,
      "id": "f0903960",
      "metadata": {
        "ExecuteTime": {
          "end_time": "2023-08-09T13:23:17.567902Z",
          "start_time": "2023-08-09T13:23:17.551855Z"
        },
        "id": "f0903960"
      },
      "outputs": [],
      "source": [
        "# Finding Rsquared values"
      ]
    },
    {
      "cell_type": "code",
      "execution_count": null,
      "id": "c56bd2df",
      "metadata": {
        "ExecuteTime": {
          "end_time": "2023-08-09T13:23:17.584467Z",
          "start_time": "2023-08-09T13:23:17.567902Z"
        },
        "id": "c56bd2df",
        "outputId": "b27601c8-4e5f-4a44-9e28-c0dbe2737782"
      },
      "outputs": [
        {
          "data": {
            "text/plain": [
              "(0.9569566641435086, 0.9554194021486339)"
            ]
          },
          "execution_count": 375,
          "metadata": {},
          "output_type": "execute_result"
        }
      ],
      "source": [
        "model.rsquared ,model.rsquared_adj"
      ]
    },
    {
      "cell_type": "raw",
      "id": "fb372b94",
      "metadata": {
        "id": "fb372b94"
      },
      "source": [
        "Model Predictions"
      ]
    },
    {
      "cell_type": "raw",
      "id": "f39c2777",
      "metadata": {
        "id": "f39c2777"
      },
      "source": [
        " Manual prediction for say 3 Years Experience"
      ]
    },
    {
      "cell_type": "code",
      "execution_count": null,
      "id": "2878c3e4",
      "metadata": {
        "ExecuteTime": {
          "end_time": "2023-08-09T13:23:17.600942Z",
          "start_time": "2023-08-09T13:23:17.584467Z"
        },
        "id": "2878c3e4",
        "outputId": "ad72e68b-5717-4652-9b31-77d5f21837d6"
      },
      "outputs": [
        {
          "data": {
            "text/plain": [
              "54142.087162"
            ]
          },
          "execution_count": 376,
          "metadata": {},
          "output_type": "execute_result"
        }
      ],
      "source": [
        "salary=(25792.200199)+(9449.962321)*3\n",
        "salary"
      ]
    },
    {
      "cell_type": "raw",
      "id": "4ab85715",
      "metadata": {
        "id": "4ab85715"
      },
      "source": [
        " Automatic Prediction for say 3 & 5 Years Experience"
      ]
    },
    {
      "cell_type": "code",
      "execution_count": null,
      "id": "d6a5b983",
      "metadata": {
        "ExecuteTime": {
          "end_time": "2023-08-09T13:23:17.617238Z",
          "start_time": "2023-08-09T13:23:17.600942Z"
        },
        "id": "d6a5b983",
        "outputId": "ca8d5e87-3408-4f68-9f82-15eb234e8e09"
      },
      "outputs": [
        {
          "data": {
            "text/plain": [
              "0    1\n",
              "1    2\n",
              "2    3\n",
              "3    4\n",
              "4    5\n",
              "dtype: int64"
            ]
          },
          "execution_count": 377,
          "metadata": {},
          "output_type": "execute_result"
        }
      ],
      "source": [
        "new_data=pd.Series([1,2,3,4,5])\n",
        "new_data"
      ]
    },
    {
      "cell_type": "code",
      "execution_count": null,
      "id": "682e5769",
      "metadata": {
        "ExecuteTime": {
          "end_time": "2023-08-09T13:23:17.633531Z",
          "start_time": "2023-08-09T13:23:17.617238Z"
        },
        "id": "682e5769",
        "outputId": "fdfb9e18-e45f-4fc0-cf94-88881e0318e1"
      },
      "outputs": [
        {
          "data": {
            "text/html": [
              "<div>\n",
              "<style scoped>\n",
              "    .dataframe tbody tr th:only-of-type {\n",
              "        vertical-align: middle;\n",
              "    }\n",
              "\n",
              "    .dataframe tbody tr th {\n",
              "        vertical-align: top;\n",
              "    }\n",
              "\n",
              "    .dataframe thead th {\n",
              "        text-align: right;\n",
              "    }\n",
              "</style>\n",
              "<table border=\"1\" class=\"dataframe\">\n",
              "  <thead>\n",
              "    <tr style=\"text-align: right;\">\n",
              "      <th></th>\n",
              "      <th>YearsExperience</th>\n",
              "    </tr>\n",
              "  </thead>\n",
              "  <tbody>\n",
              "    <tr>\n",
              "      <th>0</th>\n",
              "      <td>1</td>\n",
              "    </tr>\n",
              "    <tr>\n",
              "      <th>1</th>\n",
              "      <td>2</td>\n",
              "    </tr>\n",
              "    <tr>\n",
              "      <th>2</th>\n",
              "      <td>3</td>\n",
              "    </tr>\n",
              "    <tr>\n",
              "      <th>3</th>\n",
              "      <td>4</td>\n",
              "    </tr>\n",
              "    <tr>\n",
              "      <th>4</th>\n",
              "      <td>5</td>\n",
              "    </tr>\n",
              "  </tbody>\n",
              "</table>\n",
              "</div>"
            ],
            "text/plain": [
              "   YearsExperience\n",
              "0                1\n",
              "1                2\n",
              "2                3\n",
              "3                4\n",
              "4                5"
            ]
          },
          "execution_count": 378,
          "metadata": {},
          "output_type": "execute_result"
        }
      ],
      "source": [
        "data_pred=pd.DataFrame(new_data,columns=[\"YearsExperience\"])\n",
        "data_pred"
      ]
    },
    {
      "cell_type": "code",
      "execution_count": null,
      "id": "d5519847",
      "metadata": {
        "ExecuteTime": {
          "end_time": "2023-08-09T13:23:17.650052Z",
          "start_time": "2023-08-09T13:23:17.633531Z"
        },
        "id": "d5519847",
        "outputId": "51dc1651-d47e-4b91-f592-07b42b105eb7"
      },
      "outputs": [
        {
          "data": {
            "text/plain": [
              "0    35242.162520\n",
              "1    44692.124842\n",
              "2    54142.087163\n",
              "3    63592.049484\n",
              "4    73042.011806\n",
              "dtype: float64"
            ]
          },
          "execution_count": 379,
          "metadata": {},
          "output_type": "execute_result"
        }
      ],
      "source": [
        "model.predict(data_pred)"
      ]
    },
    {
      "cell_type": "raw",
      "id": "c09444a8",
      "metadata": {
        "id": "c09444a8"
      },
      "source": [
        "Model Validation"
      ]
    },
    {
      "cell_type": "code",
      "execution_count": null,
      "id": "2977f1e9",
      "metadata": {
        "ExecuteTime": {
          "end_time": "2023-08-09T13:23:17.660525Z",
          "start_time": "2023-08-09T13:23:17.651983Z"
        },
        "id": "2977f1e9",
        "outputId": "9ec972bb-0062-4f7b-c559-8dfc196ad645"
      },
      "outputs": [
        {
          "data": {
            "text/plain": [
              "275.66646513495255"
            ]
          },
          "execution_count": 380,
          "metadata": {},
          "output_type": "execute_result"
        }
      ],
      "source": [
        "rmse=np.sqrt(np.mean(np.array(data.Salary)-np.array(data_pred)**2))\n",
        "rmse"
      ]
    },
    {
      "cell_type": "code",
      "execution_count": null,
      "id": "7b938058",
      "metadata": {
        "ExecuteTime": {
          "end_time": "2023-08-09T13:23:17.674627Z",
          "start_time": "2023-08-09T13:23:17.661906Z"
        },
        "id": "7b938058",
        "outputId": "8d404b67-89c7-4a36-f3e9-26ea3cd5c876"
      },
      "outputs": [
        {
          "data": {
            "text/plain": [
              "0      3155.841248\n",
              "1      8127.848783\n",
              "2     -2236.143681\n",
              "3     -1167.124842\n",
              "4     -6691.117306\n",
              "5      3444.909069\n",
              "6      6007.912837\n",
              "7     -1587.079627\n",
              "8      8412.920373\n",
              "9     -3568.060788\n",
              "10      570.946748\n",
              "11    -7798.049484\n",
              "12    -6635.049484\n",
              "13    -7456.045717\n",
              "14    -7206.030645\n",
              "15    -4159.015574\n",
              "16    -7958.008038\n",
              "17     7210.999498\n",
              "18     -183.977895\n",
              "19    11448.025873\n",
              "20     1686.056015\n",
              "21     5386.067319\n",
              "22      855.097462\n",
              "23    10530.108765\n",
              "24     1424.127605\n",
              "25    -5259.861092\n",
              "26     1402.157748\n",
              "27    -3876.838485\n",
              "28     -735.812110\n",
              "29    -3144.804574\n",
              "dtype: float64"
            ]
          },
          "execution_count": 381,
          "metadata": {},
          "output_type": "execute_result"
        }
      ],
      "source": [
        "model.resid"
      ]
    },
    {
      "cell_type": "code",
      "execution_count": null,
      "id": "ee197f64",
      "metadata": {
        "ExecuteTime": {
          "end_time": "2023-08-09T13:23:17.690789Z",
          "start_time": "2023-08-09T13:23:17.677703Z"
        },
        "id": "ee197f64",
        "outputId": "c2241f5d-55bb-44e2-a21c-c4cf093a2bb8"
      },
      "outputs": [
        {
          "data": {
            "text/plain": [
              "array([ 0.54520896,  1.40418217, -0.38632031, -0.20163464, -1.15596979,\n",
              "        0.59514885,  1.03793812, -0.27418681,  1.45343166, -0.61642477,\n",
              "        0.09863781, -1.34720543, -1.1462834 , -1.28812023, -1.24492716,\n",
              "       -0.71851921, -1.37484017,  1.24578559, -0.03178436,  1.9777821 ,\n",
              "        0.29128615,  0.93050694,  0.14772822,  1.81920104,  0.24603492,\n",
              "       -0.90870332,  0.24223936, -0.66976978, -0.12712026, -0.54330225])"
            ]
          },
          "execution_count": 382,
          "metadata": {},
          "output_type": "execute_result"
        }
      ],
      "source": [
        "model.resid_pearson"
      ]
    },
    {
      "cell_type": "code",
      "execution_count": null,
      "id": "c2319f30",
      "metadata": {
        "ExecuteTime": {
          "end_time": "2023-08-09T13:23:17.707090Z",
          "start_time": "2023-08-09T13:23:17.690789Z"
        },
        "id": "c2319f30",
        "outputId": "be7ba851-0a5d-4302-c83c-15da6f8f8756"
      },
      "outputs": [
        {
          "data": {
            "text/plain": [
              "-7.105427357601002e-16"
            ]
          },
          "execution_count": 383,
          "metadata": {},
          "output_type": "execute_result"
        }
      ],
      "source": [
        "model.resid_pearson.mean()"
      ]
    },
    {
      "cell_type": "code",
      "execution_count": null,
      "id": "c046a2e2",
      "metadata": {
        "ExecuteTime": {
          "end_time": "2023-08-09T13:23:17.723408Z",
          "start_time": "2023-08-09T13:23:17.707090Z"
        },
        "id": "c046a2e2",
        "outputId": "0bef2bc7-c91a-4e20-cb63-82f60d095dd7"
      },
      "outputs": [
        {
          "data": {
            "text/plain": [
              "0.9660917830792959"
            ]
          },
          "execution_count": 384,
          "metadata": {},
          "output_type": "execute_result"
        }
      ],
      "source": [
        "model.resid_pearson.std()"
      ]
    },
    {
      "cell_type": "code",
      "execution_count": null,
      "id": "3f9f93bd",
      "metadata": {
        "ExecuteTime": {
          "end_time": "2023-08-09T13:23:17.896090Z",
          "start_time": "2023-08-09T13:23:17.723408Z"
        },
        "id": "3f9f93bd",
        "outputId": "1c199c4f-44e4-4ffc-a646-75145707eb12"
      },
      "outputs": [
        {
          "data": {
            "image/png": "[encoded data removed]",
            "text/plain": [
              "<Figure size 640x480 with 1 Axes>"
            ]
          },
          "metadata": {},
          "output_type": "display_data"
        }
      ],
      "source": [
        "plt.plot(model.resid_pearson)\n",
        "plt.axhline(y=0,color='red')\n",
        "plt.show()"
      ]
    },
    {
      "cell_type": "code",
      "execution_count": null,
      "id": "3dc35d61",
      "metadata": {
        "id": "3dc35d61"
      },
      "outputs": [],
      "source": []
    },
    {
      "cell_type": "code",
      "execution_count": null,
      "id": "b479566d",
      "metadata": {
        "id": "b479566d"
      },
      "outputs": [],
      "source": []
    },
    {
      "cell_type": "code",
      "execution_count": null,
      "id": "20757c69",
      "metadata": {
        "id": "20757c69"
      },
      "outputs": [],
      "source": []
    },
    {
      "cell_type": "code",
      "execution_count": null,
      "id": "9ef3b3ce",
      "metadata": {
        "id": "9ef3b3ce"
      },
      "outputs": [],
      "source": []
    },
    {
      "cell_type": "code",
      "execution_count": null,
      "id": "3f133783",
      "metadata": {
        "id": "3f133783"
      },
      "outputs": [],
      "source": []
    },
    {
      "cell_type": "code",
      "execution_count": null,
      "id": "5dfef6a6",
      "metadata": {
        "id": "5dfef6a6"
      },
      "outputs": [],
      "source": []
    },
    {
      "cell_type": "code",
      "execution_count": null,
      "id": "b4998663",
      "metadata": {
        "id": "b4998663"
      },
      "outputs": [],
      "source": []
    },
    {
      "cell_type": "code",
      "execution_count": null,
      "id": "73396678",
      "metadata": {
        "id": "73396678"
      },
      "outputs": [],
      "source": []
    },
    {
      "cell_type": "code",
      "execution_count": null,
      "id": "2e4743bb",
      "metadata": {
        "id": "2e4743bb"
      },
      "outputs": [],
      "source": []
    },
    {
      "cell_type": "code",
      "execution_count": null,
      "id": "6743dcca",
      "metadata": {
        "id": "6743dcca"
      },
      "outputs": [],
      "source": []
    },
    {
      "cell_type": "code",
      "execution_count": null,
      "id": "d38fa575",
      "metadata": {
        "id": "d38fa575"
      },
      "outputs": [],
      "source": []
    },
    {
      "cell_type": "code",
      "execution_count": null,
      "id": "e6b1a00d",
      "metadata": {
        "id": "e6b1a00d"
      },
      "outputs": [],
      "source": []
    },
    {
      "cell_type": "code",
      "execution_count": null,
      "id": "8bf4be6e",
      "metadata": {
        "id": "8bf4be6e"
      },
      "outputs": [],
      "source": []
    },
    {
      "cell_type": "code",
      "execution_count": null,
      "id": "a133e8d7",
      "metadata": {
        "id": "a133e8d7"
      },
      "outputs": [],
      "source": []
    },
    {
      "cell_type": "code",
      "execution_count": null,
      "id": "7a6f9c1d",
      "metadata": {
        "id": "7a6f9c1d"
      },
      "outputs": [],
      "source": []
    },
    {
      "cell_type": "code",
      "execution_count": null,
      "id": "aecdab4b",
      "metadata": {
        "id": "aecdab4b"
      },
      "outputs": [],
      "source": []
    }
  ],
  "metadata": {
    "kernelspec": {
      "display_name": "Python 3 (ipykernel)",
      "language": "python",
      "name": "python3"
    },
    "language_info": {
      "codemirror_mode": {
        "name": "ipython",
        "version": 3
      },
      "file_extension": ".py",
      "mimetype": "text/x-python",
      "name": "python",
      "nbconvert_exporter": "python",
      "pygments_lexer": "ipython3",
      "version": "3.10.9"
    },
    "colab": {
      "provenance": [],
      "include_colab_link": true
    }
  },
  "nbformat": 4,
  "nbformat_minor": 5
}