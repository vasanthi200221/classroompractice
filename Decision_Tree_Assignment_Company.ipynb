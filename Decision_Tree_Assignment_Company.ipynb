{
  "cells": [
    {
      "cell_type": "markdown",
      "metadata": {
        "id": "view-in-github",
        "colab_type": "text"
      },
      "source": [
        "<a href=\"https://colab.research.google.com/github/vasanthi200221/classroompractice/blob/main/Decision_Tree_Assignment_Company.ipynb\" target=\"_parent\"><img src=\"https://colab.research.google.com/assets/colab-badge.svg\" alt=\"Open In Colab\"/></a>"
      ]
    },
    {
      "cell_type": "markdown",
      "id": "1c9c8d54",
      "metadata": {
        "id": "1c9c8d54"
      },
      "source": [
        "# Decision Tree Assignment Company"
      ]
    },
    {
      "cell_type": "code",
      "execution_count": null,
      "id": "cbb9f3c0",
      "metadata": {
        "ExecuteTime": {
          "end_time": "2023-08-23T07:19:56.932389Z",
          "start_time": "2023-08-23T07:19:56.926991Z"
        },
        "id": "cbb9f3c0"
      },
      "outputs": [],
      "source": [
        "import pandas as pd\n",
        "import matplotlib.pyplot as plt\n",
        "#from sklearn import datasets\n",
        "import numpy as np\n",
        "from sklearn.model_selection import train_test_split\n",
        "from sklearn.tree import  DecisionTreeClassifier\n",
        "from sklearn import tree\n",
        "from sklearn.metrics import classification_report\n",
        "from sklearn import preprocessing"
      ]
    },
    {
      "cell_type": "code",
      "execution_count": null,
      "id": "a26ffd55",
      "metadata": {
        "ExecuteTime": {
          "end_time": "2023-08-23T07:19:56.948147Z",
          "start_time": "2023-08-23T07:19:56.935176Z"
        },
        "id": "a26ffd55"
      },
      "outputs": [],
      "source": [
        "data=pd.read_csv(\"Company_Data.csv\")"
      ]
    },
    {
      "cell_type": "code",
      "execution_count": null,
      "id": "d8dad619",
      "metadata": {
        "ExecuteTime": {
          "end_time": "2023-08-23T07:19:56.979716Z",
          "start_time": "2023-08-23T07:19:56.950206Z"
        },
        "id": "d8dad619",
        "outputId": "051f9e8e-0502-4d87-e9b2-a0c37424c31b"
      },
      "outputs": [
        {
          "data": {
            "text/html": [
              "<div>\n",
              "<style scoped>\n",
              "    .dataframe tbody tr th:only-of-type {\n",
              "        vertical-align: middle;\n",
              "    }\n",
              "\n",
              "    .dataframe tbody tr th {\n",
              "        vertical-align: top;\n",
              "    }\n",
              "\n",
              "    .dataframe thead th {\n",
              "        text-align: right;\n",
              "    }\n",
              "</style>\n",
              "<table border=\"1\" class=\"dataframe\">\n",
              "  <thead>\n",
              "    <tr style=\"text-align: right;\">\n",
              "      <th></th>\n",
              "      <th>Sales</th>\n",
              "      <th>CompPrice</th>\n",
              "      <th>Income</th>\n",
              "      <th>Advertising</th>\n",
              "      <th>Population</th>\n",
              "      <th>Price</th>\n",
              "      <th>ShelveLoc</th>\n",
              "      <th>Age</th>\n",
              "      <th>Education</th>\n",
              "      <th>Urban</th>\n",
              "      <th>US</th>\n",
              "    </tr>\n",
              "  </thead>\n",
              "  <tbody>\n",
              "    <tr>\n",
              "      <th>0</th>\n",
              "      <td>9.50</td>\n",
              "      <td>138</td>\n",
              "      <td>73</td>\n",
              "      <td>11</td>\n",
              "      <td>276</td>\n",
              "      <td>120</td>\n",
              "      <td>Bad</td>\n",
              "      <td>42</td>\n",
              "      <td>17</td>\n",
              "      <td>Yes</td>\n",
              "      <td>Yes</td>\n",
              "    </tr>\n",
              "    <tr>\n",
              "      <th>1</th>\n",
              "      <td>11.22</td>\n",
              "      <td>111</td>\n",
              "      <td>48</td>\n",
              "      <td>16</td>\n",
              "      <td>260</td>\n",
              "      <td>83</td>\n",
              "      <td>Good</td>\n",
              "      <td>65</td>\n",
              "      <td>10</td>\n",
              "      <td>Yes</td>\n",
              "      <td>Yes</td>\n",
              "    </tr>\n",
              "    <tr>\n",
              "      <th>2</th>\n",
              "      <td>10.06</td>\n",
              "      <td>113</td>\n",
              "      <td>35</td>\n",
              "      <td>10</td>\n",
              "      <td>269</td>\n",
              "      <td>80</td>\n",
              "      <td>Medium</td>\n",
              "      <td>59</td>\n",
              "      <td>12</td>\n",
              "      <td>Yes</td>\n",
              "      <td>Yes</td>\n",
              "    </tr>\n",
              "    <tr>\n",
              "      <th>3</th>\n",
              "      <td>7.40</td>\n",
              "      <td>117</td>\n",
              "      <td>100</td>\n",
              "      <td>4</td>\n",
              "      <td>466</td>\n",
              "      <td>97</td>\n",
              "      <td>Medium</td>\n",
              "      <td>55</td>\n",
              "      <td>14</td>\n",
              "      <td>Yes</td>\n",
              "      <td>Yes</td>\n",
              "    </tr>\n",
              "    <tr>\n",
              "      <th>4</th>\n",
              "      <td>4.15</td>\n",
              "      <td>141</td>\n",
              "      <td>64</td>\n",
              "      <td>3</td>\n",
              "      <td>340</td>\n",
              "      <td>128</td>\n",
              "      <td>Bad</td>\n",
              "      <td>38</td>\n",
              "      <td>13</td>\n",
              "      <td>Yes</td>\n",
              "      <td>No</td>\n",
              "    </tr>\n",
              "    <tr>\n",
              "      <th>...</th>\n",
              "      <td>...</td>\n",
              "      <td>...</td>\n",
              "      <td>...</td>\n",
              "      <td>...</td>\n",
              "      <td>...</td>\n",
              "      <td>...</td>\n",
              "      <td>...</td>\n",
              "      <td>...</td>\n",
              "      <td>...</td>\n",
              "      <td>...</td>\n",
              "      <td>...</td>\n",
              "    </tr>\n",
              "    <tr>\n",
              "      <th>395</th>\n",
              "      <td>12.57</td>\n",
              "      <td>138</td>\n",
              "      <td>108</td>\n",
              "      <td>17</td>\n",
              "      <td>203</td>\n",
              "      <td>128</td>\n",
              "      <td>Good</td>\n",
              "      <td>33</td>\n",
              "      <td>14</td>\n",
              "      <td>Yes</td>\n",
              "      <td>Yes</td>\n",
              "    </tr>\n",
              "    <tr>\n",
              "      <th>396</th>\n",
              "      <td>6.14</td>\n",
              "      <td>139</td>\n",
              "      <td>23</td>\n",
              "      <td>3</td>\n",
              "      <td>37</td>\n",
              "      <td>120</td>\n",
              "      <td>Medium</td>\n",
              "      <td>55</td>\n",
              "      <td>11</td>\n",
              "      <td>No</td>\n",
              "      <td>Yes</td>\n",
              "    </tr>\n",
              "    <tr>\n",
              "      <th>397</th>\n",
              "      <td>7.41</td>\n",
              "      <td>162</td>\n",
              "      <td>26</td>\n",
              "      <td>12</td>\n",
              "      <td>368</td>\n",
              "      <td>159</td>\n",
              "      <td>Medium</td>\n",
              "      <td>40</td>\n",
              "      <td>18</td>\n",
              "      <td>Yes</td>\n",
              "      <td>Yes</td>\n",
              "    </tr>\n",
              "    <tr>\n",
              "      <th>398</th>\n",
              "      <td>5.94</td>\n",
              "      <td>100</td>\n",
              "      <td>79</td>\n",
              "      <td>7</td>\n",
              "      <td>284</td>\n",
              "      <td>95</td>\n",
              "      <td>Bad</td>\n",
              "      <td>50</td>\n",
              "      <td>12</td>\n",
              "      <td>Yes</td>\n",
              "      <td>Yes</td>\n",
              "    </tr>\n",
              "    <tr>\n",
              "      <th>399</th>\n",
              "      <td>9.71</td>\n",
              "      <td>134</td>\n",
              "      <td>37</td>\n",
              "      <td>0</td>\n",
              "      <td>27</td>\n",
              "      <td>120</td>\n",
              "      <td>Good</td>\n",
              "      <td>49</td>\n",
              "      <td>16</td>\n",
              "      <td>Yes</td>\n",
              "      <td>Yes</td>\n",
              "    </tr>\n",
              "  </tbody>\n",
              "</table>\n",
              "<p>400 rows × 11 columns</p>\n",
              "</div>"
            ],
            "text/plain": [
              "     Sales  CompPrice  Income  Advertising  Population  Price ShelveLoc  Age  \\\n",
              "0     9.50        138      73           11         276    120       Bad   42   \n",
              "1    11.22        111      48           16         260     83      Good   65   \n",
              "2    10.06        113      35           10         269     80    Medium   59   \n",
              "3     7.40        117     100            4         466     97    Medium   55   \n",
              "4     4.15        141      64            3         340    128       Bad   38   \n",
              "..     ...        ...     ...          ...         ...    ...       ...  ...   \n",
              "395  12.57        138     108           17         203    128      Good   33   \n",
              "396   6.14        139      23            3          37    120    Medium   55   \n",
              "397   7.41        162      26           12         368    159    Medium   40   \n",
              "398   5.94        100      79            7         284     95       Bad   50   \n",
              "399   9.71        134      37            0          27    120      Good   49   \n",
              "\n",
              "     Education Urban   US  \n",
              "0           17   Yes  Yes  \n",
              "1           10   Yes  Yes  \n",
              "2           12   Yes  Yes  \n",
              "3           14   Yes  Yes  \n",
              "4           13   Yes   No  \n",
              "..         ...   ...  ...  \n",
              "395         14   Yes  Yes  \n",
              "396         11    No  Yes  \n",
              "397         18   Yes  Yes  \n",
              "398         12   Yes  Yes  \n",
              "399         16   Yes  Yes  \n",
              "\n",
              "[400 rows x 11 columns]"
            ]
          },
          "execution_count": 26,
          "metadata": {},
          "output_type": "execute_result"
        }
      ],
      "source": [
        "data"
      ]
    },
    {
      "cell_type": "code",
      "execution_count": null,
      "id": "bde9755d",
      "metadata": {
        "ExecuteTime": {
          "end_time": "2023-08-23T07:19:56.994887Z",
          "start_time": "2023-08-23T07:19:56.982635Z"
        },
        "id": "bde9755d"
      },
      "outputs": [],
      "source": [
        "#Complete Iris dataset\n",
        "label_encoder = preprocessing.LabelEncoder()\n",
        "data['ShelveLoc']= label_encoder.fit_transform(data['ShelveLoc'])\n",
        "data['Urban']= label_encoder.fit_transform(data['Urban'])\n",
        "data['US']= label_encoder.fit_transform(data['US'])"
      ]
    },
    {
      "cell_type": "code",
      "execution_count": null,
      "id": "d4734e6a",
      "metadata": {
        "ExecuteTime": {
          "end_time": "2023-08-23T07:19:57.026261Z",
          "start_time": "2023-08-23T07:19:56.999867Z"
        },
        "id": "d4734e6a",
        "outputId": "acc7c3af-6233-46c7-c4be-0a7dce40e7cb"
      },
      "outputs": [
        {
          "data": {
            "text/html": [
              "<div>\n",
              "<style scoped>\n",
              "    .dataframe tbody tr th:only-of-type {\n",
              "        vertical-align: middle;\n",
              "    }\n",
              "\n",
              "    .dataframe tbody tr th {\n",
              "        vertical-align: top;\n",
              "    }\n",
              "\n",
              "    .dataframe thead th {\n",
              "        text-align: right;\n",
              "    }\n",
              "</style>\n",
              "<table border=\"1\" class=\"dataframe\">\n",
              "  <thead>\n",
              "    <tr style=\"text-align: right;\">\n",
              "      <th></th>\n",
              "      <th>Sales</th>\n",
              "      <th>CompPrice</th>\n",
              "      <th>Income</th>\n",
              "      <th>Advertising</th>\n",
              "      <th>Population</th>\n",
              "      <th>Price</th>\n",
              "      <th>ShelveLoc</th>\n",
              "      <th>Age</th>\n",
              "      <th>Education</th>\n",
              "      <th>Urban</th>\n",
              "      <th>US</th>\n",
              "    </tr>\n",
              "  </thead>\n",
              "  <tbody>\n",
              "    <tr>\n",
              "      <th>0</th>\n",
              "      <td>9.50</td>\n",
              "      <td>138</td>\n",
              "      <td>73</td>\n",
              "      <td>11</td>\n",
              "      <td>276</td>\n",
              "      <td>120</td>\n",
              "      <td>0</td>\n",
              "      <td>42</td>\n",
              "      <td>17</td>\n",
              "      <td>1</td>\n",
              "      <td>1</td>\n",
              "    </tr>\n",
              "    <tr>\n",
              "      <th>1</th>\n",
              "      <td>11.22</td>\n",
              "      <td>111</td>\n",
              "      <td>48</td>\n",
              "      <td>16</td>\n",
              "      <td>260</td>\n",
              "      <td>83</td>\n",
              "      <td>1</td>\n",
              "      <td>65</td>\n",
              "      <td>10</td>\n",
              "      <td>1</td>\n",
              "      <td>1</td>\n",
              "    </tr>\n",
              "    <tr>\n",
              "      <th>2</th>\n",
              "      <td>10.06</td>\n",
              "      <td>113</td>\n",
              "      <td>35</td>\n",
              "      <td>10</td>\n",
              "      <td>269</td>\n",
              "      <td>80</td>\n",
              "      <td>2</td>\n",
              "      <td>59</td>\n",
              "      <td>12</td>\n",
              "      <td>1</td>\n",
              "      <td>1</td>\n",
              "    </tr>\n",
              "    <tr>\n",
              "      <th>3</th>\n",
              "      <td>7.40</td>\n",
              "      <td>117</td>\n",
              "      <td>100</td>\n",
              "      <td>4</td>\n",
              "      <td>466</td>\n",
              "      <td>97</td>\n",
              "      <td>2</td>\n",
              "      <td>55</td>\n",
              "      <td>14</td>\n",
              "      <td>1</td>\n",
              "      <td>1</td>\n",
              "    </tr>\n",
              "    <tr>\n",
              "      <th>4</th>\n",
              "      <td>4.15</td>\n",
              "      <td>141</td>\n",
              "      <td>64</td>\n",
              "      <td>3</td>\n",
              "      <td>340</td>\n",
              "      <td>128</td>\n",
              "      <td>0</td>\n",
              "      <td>38</td>\n",
              "      <td>13</td>\n",
              "      <td>1</td>\n",
              "      <td>0</td>\n",
              "    </tr>\n",
              "  </tbody>\n",
              "</table>\n",
              "</div>"
            ],
            "text/plain": [
              "   Sales  CompPrice  Income  Advertising  Population  Price  ShelveLoc  Age  \\\n",
              "0   9.50        138      73           11         276    120          0   42   \n",
              "1  11.22        111      48           16         260     83          1   65   \n",
              "2  10.06        113      35           10         269     80          2   59   \n",
              "3   7.40        117     100            4         466     97          2   55   \n",
              "4   4.15        141      64            3         340    128          0   38   \n",
              "\n",
              "   Education  Urban  US  \n",
              "0         17      1   1  \n",
              "1         10      1   1  \n",
              "2         12      1   1  \n",
              "3         14      1   1  \n",
              "4         13      1   0  "
            ]
          },
          "execution_count": 28,
          "metadata": {},
          "output_type": "execute_result"
        }
      ],
      "source": [
        "data.head()"
      ]
    },
    {
      "cell_type": "code",
      "execution_count": null,
      "id": "77ecffaa",
      "metadata": {
        "ExecuteTime": {
          "end_time": "2023-08-23T07:19:57.041858Z",
          "start_time": "2023-08-23T07:19:57.028255Z"
        },
        "id": "77ecffaa"
      },
      "outputs": [],
      "source": [
        "# Decision Tree Regression\n",
        "from sklearn.tree import DecisionTreeRegressor"
      ]
    },
    {
      "cell_type": "code",
      "execution_count": null,
      "id": "b4a5f92d",
      "metadata": {
        "ExecuteTime": {
          "end_time": "2023-08-23T07:19:57.057963Z",
          "start_time": "2023-08-23T07:19:57.044330Z"
        },
        "id": "b4a5f92d"
      },
      "outputs": [],
      "source": [
        "array = data.values\n",
        "x = array[:,1:]\n",
        "y = array[:,0]"
      ]
    },
    {
      "cell_type": "code",
      "execution_count": null,
      "id": "eb92f4a9",
      "metadata": {
        "ExecuteTime": {
          "end_time": "2023-08-23T07:19:57.074618Z",
          "start_time": "2023-08-23T07:19:57.060966Z"
        },
        "id": "eb92f4a9",
        "outputId": "6d35d6d6-093d-42e3-c3ee-9044c3732512"
      },
      "outputs": [
        {
          "data": {
            "text/plain": [
              "array([[138.,  73.,  11., ...,  17.,   1.,   1.],\n",
              "       [111.,  48.,  16., ...,  10.,   1.,   1.],\n",
              "       [113.,  35.,  10., ...,  12.,   1.,   1.],\n",
              "       ...,\n",
              "       [162.,  26.,  12., ...,  18.,   1.,   1.],\n",
              "       [100.,  79.,   7., ...,  12.,   1.,   1.],\n",
              "       [134.,  37.,   0., ...,  16.,   1.,   1.]])"
            ]
          },
          "execution_count": 31,
          "metadata": {},
          "output_type": "execute_result"
        }
      ],
      "source": [
        "x"
      ]
    },
    {
      "cell_type": "code",
      "execution_count": null,
      "id": "09393ecf",
      "metadata": {
        "ExecuteTime": {
          "end_time": "2023-08-23T07:19:57.089330Z",
          "start_time": "2023-08-23T07:19:57.079080Z"
        },
        "id": "09393ecf",
        "outputId": "0682919b-e403-4595-e80c-56ee4c7e69c5"
      },
      "outputs": [
        {
          "data": {
            "text/plain": [
              "array([ 9.5 , 11.22, 10.06,  7.4 ,  4.15, 10.81,  6.63, 11.85,  6.54,\n",
              "        4.69,  9.01, 11.96,  3.98, 10.96, 11.17,  8.71,  7.58, 12.29,\n",
              "       13.91,  8.73,  6.41, 12.13,  5.08,  5.87, 10.14, 14.9 ,  8.33,\n",
              "        5.27,  2.99,  7.81, 13.55,  8.25,  6.2 ,  8.77,  2.67, 11.07,\n",
              "        8.89,  4.95,  6.59,  3.24,  2.07,  7.96, 10.43,  4.12,  4.16,\n",
              "        4.56, 12.44,  4.38,  3.91, 10.61,  1.42,  4.42,  7.91,  6.92,\n",
              "        4.9 ,  6.85, 11.91,  0.91,  5.42,  5.21,  8.32,  7.32,  1.82,\n",
              "        8.47,  7.8 ,  4.9 ,  8.85,  9.01, 13.39,  7.99,  9.46,  6.5 ,\n",
              "        5.52, 12.61,  6.2 ,  8.55, 10.64,  7.7 ,  4.43,  9.14,  8.01,\n",
              "        7.52, 11.62,  4.42,  2.23,  8.47,  8.7 , 11.7 ,  6.56,  7.95,\n",
              "        5.33,  4.81,  4.53,  8.86,  8.39,  5.58,  9.48,  7.45, 12.49,\n",
              "        4.88,  4.11,  6.2 ,  5.3 ,  5.07,  4.62,  5.55,  0.16,  8.55,\n",
              "        3.47,  8.98,  9.  ,  6.62,  6.67,  6.01,  9.31,  8.54,  5.08,\n",
              "        8.8 ,  7.57,  7.37,  6.87, 11.67,  6.88,  8.19,  8.87,  9.34,\n",
              "       11.27,  6.52,  4.96,  4.47,  8.41,  6.5 ,  9.54,  7.62,  3.67,\n",
              "        6.44,  5.17,  6.52, 10.27, 12.3 ,  6.03,  6.53,  7.44,  0.53,\n",
              "        9.09,  8.77,  3.9 , 10.51,  7.56, 11.48, 10.49, 10.77,  7.64,\n",
              "        5.93,  6.89,  7.71,  7.49, 10.21, 12.53,  9.32,  4.67,  2.93,\n",
              "        3.63,  5.68,  8.22,  0.37,  6.71,  6.71,  7.3 , 11.48,  8.01,\n",
              "       12.49,  9.03,  6.38,  0.  ,  7.54,  5.61, 10.48, 10.66,  7.78,\n",
              "        4.94,  7.43,  4.74,  5.32,  9.95, 10.07,  8.68,  6.03,  8.07,\n",
              "       12.11,  8.79,  6.67,  7.56, 13.28,  7.23,  4.19,  4.1 ,  2.52,\n",
              "        3.62,  6.42,  5.56,  5.94,  4.1 ,  2.05,  8.74,  5.68,  4.97,\n",
              "        8.19,  7.78,  3.02,  4.36,  9.39, 12.04,  8.23,  4.83,  2.34,\n",
              "        5.73,  4.34,  9.7 , 10.62, 10.59,  6.43,  7.49,  3.45,  4.1 ,\n",
              "        6.68,  7.8 ,  8.69,  5.4 , 11.19,  5.16,  8.09, 13.14,  8.65,\n",
              "        9.43,  5.53,  9.32,  9.62,  7.36,  3.89, 10.31, 12.01,  4.68,\n",
              "        7.82,  8.78, 10.  ,  6.9 ,  5.04,  5.36,  5.05,  9.16,  3.72,\n",
              "        8.31,  5.64,  9.58,  7.71,  4.2 ,  8.67,  3.47,  5.12,  7.67,\n",
              "        5.71,  6.37,  7.77,  6.95,  5.31,  9.1 ,  5.83,  6.53,  5.01,\n",
              "       11.99,  4.55, 12.98, 10.04,  7.22,  6.67,  6.93,  7.8 ,  7.22,\n",
              "        3.42,  2.86, 11.19,  7.74,  5.36,  6.97,  7.6 ,  7.53,  6.88,\n",
              "        6.98,  8.75,  9.49,  6.64, 11.82, 11.28, 12.66,  4.21,  8.21,\n",
              "        3.07, 10.98,  9.4 ,  8.57,  7.41,  5.28, 10.01, 11.93,  8.03,\n",
              "        4.78,  5.9 ,  9.24, 11.18,  9.53,  6.15,  6.8 ,  9.33,  7.72,\n",
              "        6.39, 15.63,  6.41, 10.08,  6.97,  5.86,  7.52,  9.16, 10.36,\n",
              "        2.66, 11.7 ,  4.69,  6.23,  3.15, 11.27,  4.99, 10.1 ,  5.74,\n",
              "        5.87,  7.63,  6.18,  5.17,  8.61,  5.97, 11.54,  7.5 ,  7.38,\n",
              "        7.81,  5.99,  8.43,  4.81,  8.97,  6.88, 12.57,  9.32,  8.64,\n",
              "       10.44, 13.44,  9.45,  5.3 ,  7.02,  3.58, 13.36,  4.17,  3.13,\n",
              "        8.77,  8.68,  5.25, 10.26, 10.5 ,  6.53,  5.98, 14.37, 10.71,\n",
              "       10.26,  7.68,  9.08,  7.8 ,  5.58,  9.44,  7.9 , 16.27,  6.81,\n",
              "        6.11,  5.81,  9.64,  3.9 ,  4.95,  9.35, 12.85,  5.87,  5.32,\n",
              "        8.67,  8.14,  8.44,  5.47,  6.1 ,  4.53,  5.57,  5.35, 12.57,\n",
              "        6.14,  7.41,  5.94,  9.71])"
            ]
          },
          "execution_count": 32,
          "metadata": {},
          "output_type": "execute_result"
        }
      ],
      "source": [
        "y"
      ]
    },
    {
      "cell_type": "code",
      "execution_count": null,
      "id": "04dcc499",
      "metadata": {
        "ExecuteTime": {
          "end_time": "2023-08-23T07:19:57.105253Z",
          "start_time": "2023-08-23T07:19:57.100584Z"
        },
        "id": "04dcc499"
      },
      "outputs": [],
      "source": [
        "x_train, x_test, y_train, y_test = train_test_split(x, y, test_size=0.33, random_state=42)"
      ]
    },
    {
      "cell_type": "code",
      "execution_count": null,
      "id": "2c97f4ba",
      "metadata": {
        "ExecuteTime": {
          "end_time": "2023-08-23T07:19:57.120929Z",
          "start_time": "2023-08-23T07:19:57.109468Z"
        },
        "id": "2c97f4ba",
        "outputId": "9115d6f1-dbfa-412a-b070-4106f5a91778"
      },
      "outputs": [
        {
          "data": {
            "text/html": [
              "<style>#sk-container-id-3 {color: black;background-color: white;}#sk-container-id-3 pre{padding: 0;}#sk-container-id-3 div.sk-toggleable {background-color: white;}#sk-container-id-3 label.sk-toggleable__label {cursor: pointer;display: block;width: 100%;margin-bottom: 0;padding: 0.3em;box-sizing: border-box;text-align: center;}#sk-container-id-3 label.sk-toggleable__label-arrow:before {content: \"▸\";float: left;margin-right: 0.25em;color: #696969;}#sk-container-id-3 label.sk-toggleable__label-arrow:hover:before {color: black;}#sk-container-id-3 div.sk-estimator:hover label.sk-toggleable__label-arrow:before {color: black;}#sk-container-id-3 div.sk-toggleable__content {max-height: 0;max-width: 0;overflow: hidden;text-align: left;background-color: #f0f8ff;}#sk-container-id-3 div.sk-toggleable__content pre {margin: 0.2em;color: black;border-radius: 0.25em;background-color: #f0f8ff;}#sk-container-id-3 input.sk-toggleable__control:checked~div.sk-toggleable__content {max-height: 200px;max-width: 100%;overflow: auto;}#sk-container-id-3 input.sk-toggleable__control:checked~label.sk-toggleable__label-arrow:before {content: \"▾\";}#sk-container-id-3 div.sk-estimator input.sk-toggleable__control:checked~label.sk-toggleable__label {background-color: #d4ebff;}#sk-container-id-3 div.sk-label input.sk-toggleable__control:checked~label.sk-toggleable__label {background-color: #d4ebff;}#sk-container-id-3 input.sk-hidden--visually {border: 0;clip: rect(1px 1px 1px 1px);clip: rect(1px, 1px, 1px, 1px);height: 1px;margin: -1px;overflow: hidden;padding: 0;position: absolute;width: 1px;}#sk-container-id-3 div.sk-estimator {font-family: monospace;background-color: #f0f8ff;border: 1px dotted black;border-radius: 0.25em;box-sizing: border-box;margin-bottom: 0.5em;}#sk-container-id-3 div.sk-estimator:hover {background-color: #d4ebff;}#sk-container-id-3 div.sk-parallel-item::after {content: \"\";width: 100%;border-bottom: 1px solid gray;flex-grow: 1;}#sk-container-id-3 div.sk-label:hover label.sk-toggleable__label {background-color: #d4ebff;}#sk-container-id-3 div.sk-serial::before {content: \"\";position: absolute;border-left: 1px solid gray;box-sizing: border-box;top: 0;bottom: 0;left: 50%;z-index: 0;}#sk-container-id-3 div.sk-serial {display: flex;flex-direction: column;align-items: center;background-color: white;padding-right: 0.2em;padding-left: 0.2em;position: relative;}#sk-container-id-3 div.sk-item {position: relative;z-index: 1;}#sk-container-id-3 div.sk-parallel {display: flex;align-items: stretch;justify-content: center;background-color: white;position: relative;}#sk-container-id-3 div.sk-item::before, #sk-container-id-3 div.sk-parallel-item::before {content: \"\";position: absolute;border-left: 1px solid gray;box-sizing: border-box;top: 0;bottom: 0;left: 50%;z-index: -1;}#sk-container-id-3 div.sk-parallel-item {display: flex;flex-direction: column;z-index: 1;position: relative;background-color: white;}#sk-container-id-3 div.sk-parallel-item:first-child::after {align-self: flex-end;width: 50%;}#sk-container-id-3 div.sk-parallel-item:last-child::after {align-self: flex-start;width: 50%;}#sk-container-id-3 div.sk-parallel-item:only-child::after {width: 0;}#sk-container-id-3 div.sk-dashed-wrapped {border: 1px dashed gray;margin: 0 0.4em 0.5em 0.4em;box-sizing: border-box;padding-bottom: 0.4em;background-color: white;}#sk-container-id-3 div.sk-label label {font-family: monospace;font-weight: bold;display: inline-block;line-height: 1.2em;}#sk-container-id-3 div.sk-label-container {text-align: center;}#sk-container-id-3 div.sk-container {/* jupyter's `normalize.less` sets `[hidden] { display: none; }` but bootstrap.min.css set `[hidden] { display: none !important; }` so we also need the `!important` here to be able to override the default hidden behavior on the sphinx rendered scikit-learn.org. See: https://github.com/scikit-learn/scikit-learn/issues/21755 */display: inline-block !important;position: relative;}#sk-container-id-3 div.sk-text-repr-fallback {display: none;}</style><div id=\"sk-container-id-3\" class=\"sk-top-container\"><div class=\"sk-text-repr-fallback\"><pre>DecisionTreeRegressor(max_depth=3)</pre><b>In a Jupyter environment, please rerun this cell to show the HTML representation or trust the notebook. <br />On GitHub, the HTML representation is unable to render, please try loading this page with nbviewer.org.</b></div><div class=\"sk-container\" hidden><div class=\"sk-item\"><div class=\"sk-estimator sk-toggleable\"><input class=\"sk-toggleable__control sk-hidden--visually\" id=\"sk-estimator-id-3\" type=\"checkbox\" checked><label for=\"sk-estimator-id-3\" class=\"sk-toggleable__label sk-toggleable__label-arrow\">DecisionTreeRegressor</label><div class=\"sk-toggleable__content\"><pre>DecisionTreeRegressor(max_depth=3)</pre></div></div></div></div></div>"
            ],
            "text/plain": [
              "DecisionTreeRegressor(max_depth=3)"
            ]
          },
          "execution_count": 34,
          "metadata": {},
          "output_type": "execute_result"
        }
      ],
      "source": [
        "model = DecisionTreeRegressor(max_depth=3)\n",
        "model.fit(x_train, y_train)"
      ]
    },
    {
      "cell_type": "code",
      "execution_count": null,
      "id": "d4ee0974",
      "metadata": {
        "ExecuteTime": {
          "end_time": "2023-08-23T07:19:57.137080Z",
          "start_time": "2023-08-23T07:19:57.126907Z"
        },
        "id": "d4ee0974",
        "outputId": "79c43db9-69c4-42ba-bcb3-91594e8dc008"
      },
      "outputs": [
        {
          "data": {
            "text/plain": [
              "0.4784050634044479"
            ]
          },
          "execution_count": 35,
          "metadata": {},
          "output_type": "execute_result"
        }
      ],
      "source": [
        "model.score(x_test,y_test)"
      ]
    },
    {
      "cell_type": "code",
      "execution_count": null,
      "id": "516dfe67",
      "metadata": {
        "ExecuteTime": {
          "end_time": "2023-08-23T07:19:57.152709Z",
          "start_time": "2023-08-23T07:19:57.141240Z"
        },
        "id": "516dfe67",
        "outputId": "7fd141c5-89b9-437d-a3d7-7b8739c8cdb5"
      },
      "outputs": [
        {
          "data": {
            "text/plain": [
              "0.46592633019031826"
            ]
          },
          "execution_count": 36,
          "metadata": {},
          "output_type": "execute_result"
        }
      ],
      "source": [
        "#Find the training accuracy\n",
        "model.score(x_train, y_train)"
      ]
    },
    {
      "cell_type": "code",
      "execution_count": null,
      "id": "4df4b576",
      "metadata": {
        "ExecuteTime": {
          "end_time": "2023-08-23T07:19:57.842113Z",
          "start_time": "2023-08-23T07:19:57.156041Z"
        },
        "id": "4df4b576",
        "outputId": "d587b742-403b-4c03-bfed-d6cf9175eda7"
      },
      "outputs": [
        {
          "data": {
            "image/png": "[encoded data removed]",
            "text/plain": [
              "<Figure size 640x480 with 1 Axes>"
            ]
          },
          "metadata": {},
          "output_type": "display_data"
        }
      ],
      "source": [
        "tree.plot_tree(model);"
      ]
    },
    {
      "cell_type": "code",
      "execution_count": null,
      "id": "35a05b9b",
      "metadata": {
        "ExecuteTime": {
          "end_time": "2023-08-23T07:19:57.877993Z",
          "start_time": "2023-08-23T07:19:57.844105Z"
        },
        "id": "35a05b9b",
        "outputId": "2af51940-eeed-4444-ef19-b899bc017758"
      },
      "outputs": [
        {
          "data": {
            "text/html": [
              "<div>\n",
              "<style scoped>\n",
              "    .dataframe tbody tr th:only-of-type {\n",
              "        vertical-align: middle;\n",
              "    }\n",
              "\n",
              "    .dataframe tbody tr th {\n",
              "        vertical-align: top;\n",
              "    }\n",
              "\n",
              "    .dataframe thead th {\n",
              "        text-align: right;\n",
              "    }\n",
              "</style>\n",
              "<table border=\"1\" class=\"dataframe\">\n",
              "  <thead>\n",
              "    <tr style=\"text-align: right;\">\n",
              "      <th></th>\n",
              "      <th>0</th>\n",
              "      <th>1</th>\n",
              "      <th>2</th>\n",
              "      <th>3</th>\n",
              "      <th>4</th>\n",
              "      <th>5</th>\n",
              "      <th>6</th>\n",
              "      <th>7</th>\n",
              "      <th>8</th>\n",
              "      <th>9</th>\n",
              "      <th>10</th>\n",
              "    </tr>\n",
              "  </thead>\n",
              "  <tbody>\n",
              "    <tr>\n",
              "      <th>0</th>\n",
              "      <td>0.583897</td>\n",
              "      <td>0.622449</td>\n",
              "      <td>0.525253</td>\n",
              "      <td>0.379310</td>\n",
              "      <td>0.533066</td>\n",
              "      <td>0.574850</td>\n",
              "      <td>0.0</td>\n",
              "      <td>0.309091</td>\n",
              "      <td>0.875</td>\n",
              "      <td>1.0</td>\n",
              "      <td>1.0</td>\n",
              "    </tr>\n",
              "    <tr>\n",
              "      <th>1</th>\n",
              "      <td>0.689613</td>\n",
              "      <td>0.346939</td>\n",
              "      <td>0.272727</td>\n",
              "      <td>0.551724</td>\n",
              "      <td>0.501002</td>\n",
              "      <td>0.353293</td>\n",
              "      <td>0.5</td>\n",
              "      <td>0.727273</td>\n",
              "      <td>0.000</td>\n",
              "      <td>1.0</td>\n",
              "      <td>1.0</td>\n",
              "    </tr>\n",
              "    <tr>\n",
              "      <th>2</th>\n",
              "      <td>0.618316</td>\n",
              "      <td>0.367347</td>\n",
              "      <td>0.141414</td>\n",
              "      <td>0.344828</td>\n",
              "      <td>0.519038</td>\n",
              "      <td>0.335329</td>\n",
              "      <td>1.0</td>\n",
              "      <td>0.618182</td>\n",
              "      <td>0.250</td>\n",
              "      <td>1.0</td>\n",
              "      <td>1.0</td>\n",
              "    </tr>\n",
              "    <tr>\n",
              "      <th>3</th>\n",
              "      <td>0.454825</td>\n",
              "      <td>0.408163</td>\n",
              "      <td>0.797980</td>\n",
              "      <td>0.137931</td>\n",
              "      <td>0.913828</td>\n",
              "      <td>0.437126</td>\n",
              "      <td>1.0</td>\n",
              "      <td>0.545455</td>\n",
              "      <td>0.500</td>\n",
              "      <td>1.0</td>\n",
              "      <td>1.0</td>\n",
              "    </tr>\n",
              "    <tr>\n",
              "      <th>4</th>\n",
              "      <td>0.255071</td>\n",
              "      <td>0.653061</td>\n",
              "      <td>0.434343</td>\n",
              "      <td>0.103448</td>\n",
              "      <td>0.661323</td>\n",
              "      <td>0.622754</td>\n",
              "      <td>0.0</td>\n",
              "      <td>0.236364</td>\n",
              "      <td>0.375</td>\n",
              "      <td>1.0</td>\n",
              "      <td>0.0</td>\n",
              "    </tr>\n",
              "    <tr>\n",
              "      <th>...</th>\n",
              "      <td>...</td>\n",
              "      <td>...</td>\n",
              "      <td>...</td>\n",
              "      <td>...</td>\n",
              "      <td>...</td>\n",
              "      <td>...</td>\n",
              "      <td>...</td>\n",
              "      <td>...</td>\n",
              "      <td>...</td>\n",
              "      <td>...</td>\n",
              "      <td>...</td>\n",
              "    </tr>\n",
              "    <tr>\n",
              "      <th>395</th>\n",
              "      <td>0.772588</td>\n",
              "      <td>0.622449</td>\n",
              "      <td>0.878788</td>\n",
              "      <td>0.586207</td>\n",
              "      <td>0.386774</td>\n",
              "      <td>0.622754</td>\n",
              "      <td>0.5</td>\n",
              "      <td>0.145455</td>\n",
              "      <td>0.500</td>\n",
              "      <td>1.0</td>\n",
              "      <td>1.0</td>\n",
              "    </tr>\n",
              "    <tr>\n",
              "      <th>396</th>\n",
              "      <td>0.377382</td>\n",
              "      <td>0.632653</td>\n",
              "      <td>0.020202</td>\n",
              "      <td>0.103448</td>\n",
              "      <td>0.054108</td>\n",
              "      <td>0.574850</td>\n",
              "      <td>1.0</td>\n",
              "      <td>0.545455</td>\n",
              "      <td>0.125</td>\n",
              "      <td>0.0</td>\n",
              "      <td>1.0</td>\n",
              "    </tr>\n",
              "    <tr>\n",
              "      <th>397</th>\n",
              "      <td>0.455439</td>\n",
              "      <td>0.867347</td>\n",
              "      <td>0.050505</td>\n",
              "      <td>0.413793</td>\n",
              "      <td>0.717435</td>\n",
              "      <td>0.808383</td>\n",
              "      <td>1.0</td>\n",
              "      <td>0.272727</td>\n",
              "      <td>1.000</td>\n",
              "      <td>1.0</td>\n",
              "      <td>1.0</td>\n",
              "    </tr>\n",
              "    <tr>\n",
              "      <th>398</th>\n",
              "      <td>0.365089</td>\n",
              "      <td>0.234694</td>\n",
              "      <td>0.585859</td>\n",
              "      <td>0.241379</td>\n",
              "      <td>0.549098</td>\n",
              "      <td>0.425150</td>\n",
              "      <td>0.0</td>\n",
              "      <td>0.454545</td>\n",
              "      <td>0.250</td>\n",
              "      <td>1.0</td>\n",
              "      <td>1.0</td>\n",
              "    </tr>\n",
              "    <tr>\n",
              "      <th>399</th>\n",
              "      <td>0.596804</td>\n",
              "      <td>0.581633</td>\n",
              "      <td>0.161616</td>\n",
              "      <td>0.000000</td>\n",
              "      <td>0.034068</td>\n",
              "      <td>0.574850</td>\n",
              "      <td>0.5</td>\n",
              "      <td>0.436364</td>\n",
              "      <td>0.750</td>\n",
              "      <td>1.0</td>\n",
              "      <td>1.0</td>\n",
              "    </tr>\n",
              "  </tbody>\n",
              "</table>\n",
              "<p>400 rows × 11 columns</p>\n",
              "</div>"
            ],
            "text/plain": [
              "           0         1         2         3         4         5    6   \\\n",
              "0    0.583897  0.622449  0.525253  0.379310  0.533066  0.574850  0.0   \n",
              "1    0.689613  0.346939  0.272727  0.551724  0.501002  0.353293  0.5   \n",
              "2    0.618316  0.367347  0.141414  0.344828  0.519038  0.335329  1.0   \n",
              "3    0.454825  0.408163  0.797980  0.137931  0.913828  0.437126  1.0   \n",
              "4    0.255071  0.653061  0.434343  0.103448  0.661323  0.622754  0.0   \n",
              "..        ...       ...       ...       ...       ...       ...  ...   \n",
              "395  0.772588  0.622449  0.878788  0.586207  0.386774  0.622754  0.5   \n",
              "396  0.377382  0.632653  0.020202  0.103448  0.054108  0.574850  1.0   \n",
              "397  0.455439  0.867347  0.050505  0.413793  0.717435  0.808383  1.0   \n",
              "398  0.365089  0.234694  0.585859  0.241379  0.549098  0.425150  0.0   \n",
              "399  0.596804  0.581633  0.161616  0.000000  0.034068  0.574850  0.5   \n",
              "\n",
              "           7      8    9    10  \n",
              "0    0.309091  0.875  1.0  1.0  \n",
              "1    0.727273  0.000  1.0  1.0  \n",
              "2    0.618182  0.250  1.0  1.0  \n",
              "3    0.545455  0.500  1.0  1.0  \n",
              "4    0.236364  0.375  1.0  0.0  \n",
              "..        ...    ...  ...  ...  \n",
              "395  0.145455  0.500  1.0  1.0  \n",
              "396  0.545455  0.125  0.0  1.0  \n",
              "397  0.272727  1.000  1.0  1.0  \n",
              "398  0.454545  0.250  1.0  1.0  \n",
              "399  0.436364  0.750  1.0  1.0  \n",
              "\n",
              "[400 rows x 11 columns]"
            ]
          },
          "execution_count": 38,
          "metadata": {},
          "output_type": "execute_result"
        }
      ],
      "source": [
        "from sklearn.preprocessing import MinMaxScaler\n",
        "trans = MinMaxScaler()\n",
        "data1 = pd.DataFrame(trans.fit_transform(data))\n",
        "data1"
      ]
    },
    {
      "cell_type": "code",
      "execution_count": null,
      "id": "9d40e736",
      "metadata": {
        "ExecuteTime": {
          "end_time": "2023-08-23T07:19:57.892963Z",
          "start_time": "2023-08-23T07:19:57.881319Z"
        },
        "id": "9d40e736"
      },
      "outputs": [],
      "source": [
        "array = data1.values\n",
        "x = array[:,1:]\n",
        "y = array[:,0]"
      ]
    },
    {
      "cell_type": "code",
      "execution_count": null,
      "id": "8cae1c0d",
      "metadata": {
        "ExecuteTime": {
          "end_time": "2023-08-23T07:19:57.908534Z",
          "start_time": "2023-08-23T07:19:57.895056Z"
        },
        "id": "8cae1c0d",
        "outputId": "10f20e9d-ba6b-4406-f9fa-d87465e662b9"
      },
      "outputs": [
        {
          "data": {
            "text/plain": [
              "array([[0.62244898, 0.52525253, 0.37931034, ..., 0.875     , 1.        ,\n",
              "        1.        ],\n",
              "       [0.34693878, 0.27272727, 0.55172414, ..., 0.        , 1.        ,\n",
              "        1.        ],\n",
              "       [0.36734694, 0.14141414, 0.34482759, ..., 0.25      , 1.        ,\n",
              "        1.        ],\n",
              "       ...,\n",
              "       [0.86734694, 0.05050505, 0.4137931 , ..., 1.        , 1.        ,\n",
              "        1.        ],\n",
              "       [0.23469388, 0.58585859, 0.24137931, ..., 0.25      , 1.        ,\n",
              "        1.        ],\n",
              "       [0.58163265, 0.16161616, 0.        , ..., 0.75      , 1.        ,\n",
              "        1.        ]])"
            ]
          },
          "execution_count": 40,
          "metadata": {},
          "output_type": "execute_result"
        }
      ],
      "source": [
        "x"
      ]
    },
    {
      "cell_type": "code",
      "execution_count": null,
      "id": "46304d73",
      "metadata": {
        "ExecuteTime": {
          "end_time": "2023-08-23T07:19:57.926906Z",
          "start_time": "2023-08-23T07:19:57.910526Z"
        },
        "id": "46304d73",
        "outputId": "3acfafaf-eca4-4f8d-e766-dae7ad8e2b7c"
      },
      "outputs": [
        {
          "data": {
            "text/plain": [
              "array([0.58389674, 0.68961278, 0.61831592, 0.45482483, 0.25507068,\n",
              "       0.66441303, 0.40749846, 0.72833436, 0.40196681, 0.2882606 ,\n",
              "       0.55377996, 0.73509527, 0.244622  , 0.67363245, 0.68653964,\n",
              "       0.53534112, 0.46588814, 0.755378  , 0.85494776, 0.53657037,\n",
              "       0.39397664, 0.74554395, 0.3122311 , 0.36078672, 0.62323294,\n",
              "       0.91579594, 0.51198525, 0.32390904, 0.18377382, 0.48002459,\n",
              "       0.83282114, 0.50706822, 0.38106945, 0.53902889, 0.16410572,\n",
              "       0.68039336, 0.54640443, 0.30424093, 0.40503995, 0.19913952,\n",
              "       0.12722803, 0.48924401, 0.64105716, 0.2532268 , 0.25568531,\n",
              "       0.28027044, 0.76459742, 0.26920713, 0.24031961, 0.65212047,\n",
              "       0.0872772 , 0.27166564, 0.48617087, 0.42532268, 0.30116779,\n",
              "       0.42102028, 0.73202213, 0.05593116, 0.33312846, 0.32022127,\n",
              "       0.51137062, 0.44990781, 0.11186232, 0.52059004, 0.47940996,\n",
              "       0.30116779, 0.54394591, 0.55377996, 0.82298709, 0.49108789,\n",
              "       0.58143823, 0.3995083 , 0.33927474, 0.7750461 , 0.38106945,\n",
              "       0.52550707, 0.65396435, 0.47326368, 0.27228027, 0.56177013,\n",
              "       0.49231715, 0.46220037, 0.71419791, 0.27166564, 0.13706208,\n",
              "       0.52059004, 0.53472649, 0.71911494, 0.40319607, 0.48862938,\n",
              "       0.3275968 , 0.29563614, 0.27842655, 0.54456054, 0.51567302,\n",
              "       0.34296251, 0.58266749, 0.45789797, 0.76767056, 0.29993854,\n",
              "       0.25261217, 0.38106945, 0.32575292, 0.31161647, 0.28395821,\n",
              "       0.34111862, 0.00983405, 0.52550707, 0.21327597, 0.55193608,\n",
              "       0.55316533, 0.40688384, 0.40995698, 0.36939152, 0.57221881,\n",
              "       0.52489244, 0.3122311 , 0.54087277, 0.46527351, 0.45298095,\n",
              "       0.42224954, 0.71727105, 0.42286417, 0.50338045, 0.54517517,\n",
              "       0.57406269, 0.69268593, 0.40073755, 0.30485556, 0.27473878,\n",
              "       0.51690227, 0.3995083 , 0.58635526, 0.46834665, 0.22556853,\n",
              "       0.39582053, 0.31776275, 0.40073755, 0.63122311, 0.75599262,\n",
              "       0.37062077, 0.40135218, 0.45728334, 0.03257529, 0.55869699,\n",
              "       0.53902889, 0.23970498, 0.64597419, 0.46465888, 0.70559312,\n",
              "       0.64474493, 0.66195452, 0.46957591, 0.36447449, 0.4234788 ,\n",
              "       0.4738783 , 0.46035648, 0.62753534, 0.77012907, 0.57283344,\n",
              "       0.28703135, 0.18008605, 0.22311002, 0.34910879, 0.50522434,\n",
              "       0.02274124, 0.41241549, 0.41241549, 0.44867855, 0.70559312,\n",
              "       0.49231715, 0.76767056, 0.55500922, 0.39213276, 0.        ,\n",
              "       0.46342963, 0.34480639, 0.6441303 , 0.65519361, 0.4781807 ,\n",
              "       0.30362631, 0.45666872, 0.29133374, 0.32698218, 0.61155501,\n",
              "       0.61893055, 0.53349723, 0.37062077, 0.49600492, 0.74431469,\n",
              "       0.54025814, 0.40995698, 0.46465888, 0.81622618, 0.44437615,\n",
              "       0.25752919, 0.25199754, 0.15488629, 0.22249539, 0.39459127,\n",
              "       0.34173325, 0.36508912, 0.25199754, 0.12599877, 0.537185  ,\n",
              "       0.34910879, 0.30547019, 0.50338045, 0.4781807 , 0.1856177 ,\n",
              "       0.26797787, 0.57713583, 0.74001229, 0.50583897, 0.2968654 ,\n",
              "       0.14382299, 0.35218193, 0.26674862, 0.59618931, 0.6527351 ,\n",
              "       0.65089121, 0.3952059 , 0.46035648, 0.21204671, 0.25199754,\n",
              "       0.4105716 , 0.47940996, 0.53411186, 0.3318992 , 0.6877689 ,\n",
              "       0.31714813, 0.49723417, 0.80762139, 0.53165335, 0.57959435,\n",
              "       0.33988937, 0.57283344, 0.59127228, 0.45236632, 0.23909035,\n",
              "       0.63368162, 0.73816841, 0.28764597, 0.48063921, 0.53964352,\n",
              "       0.61462815, 0.42409342, 0.30977259, 0.32944069, 0.31038722,\n",
              "       0.56299939, 0.22864167, 0.51075599, 0.34665028, 0.58881377,\n",
              "       0.4738783 , 0.25814382, 0.53288261, 0.21327597, 0.31468961,\n",
              "       0.47141979, 0.35095267, 0.39151813, 0.47756607, 0.42716656,\n",
              "       0.32636755, 0.55931162, 0.35832821, 0.40135218, 0.3079287 ,\n",
              "       0.73693915, 0.27965581, 0.79778734, 0.61708666, 0.44376152,\n",
              "       0.40995698, 0.42593731, 0.47940996, 0.44376152, 0.21020283,\n",
              "       0.17578365, 0.6877689 , 0.47572219, 0.32944069, 0.42839582,\n",
              "       0.46711739, 0.462815  , 0.42286417, 0.42901045, 0.53779963,\n",
              "       0.58328211, 0.40811309, 0.72649047, 0.69330055, 0.77811924,\n",
              "       0.25875845, 0.50460971, 0.18869084, 0.67486171, 0.57775046,\n",
              "       0.52673632, 0.45543946, 0.32452366, 0.61524278, 0.73325138,\n",
              "       0.4935464 , 0.29379226, 0.36263061, 0.56791641, 0.68715427,\n",
              "       0.58574063, 0.37799631, 0.41794714, 0.57344806, 0.47449293,\n",
              "       0.39274739, 0.9606638 , 0.39397664, 0.61954518, 0.42839582,\n",
              "       0.3601721 , 0.46220037, 0.56299939, 0.63675476, 0.16349109,\n",
              "       0.71911494, 0.2882606 , 0.38291334, 0.19360787, 0.69268593,\n",
              "       0.30669945, 0.62077443, 0.35279656, 0.36078672, 0.46896128,\n",
              "       0.3798402 , 0.31776275, 0.52919484, 0.36693301, 0.70928089,\n",
              "       0.46097111, 0.45359557, 0.48002459, 0.36816226, 0.51813153,\n",
              "       0.29563614, 0.55132145, 0.42286417, 0.77258758, 0.57283344,\n",
              "       0.53103872, 0.64167179, 0.82606023, 0.5808236 , 0.32575292,\n",
              "       0.43146896, 0.22003688, 0.82114321, 0.25629994, 0.19237861,\n",
              "       0.53902889, 0.53349723, 0.32267978, 0.63060848, 0.64535956,\n",
              "       0.40135218, 0.36754763, 0.88322065, 0.65826675, 0.63060848,\n",
              "       0.47203442, 0.55808236, 0.47940996, 0.34296251, 0.58020897,\n",
              "       0.48555624, 1.        , 0.41856177, 0.3755378 , 0.35709896,\n",
              "       0.59250154, 0.23970498, 0.30424093, 0.57467732, 0.78979717,\n",
              "       0.36078672, 0.32698218, 0.53288261, 0.50030731, 0.51874616,\n",
              "       0.3362016 , 0.37492317, 0.27842655, 0.34234788, 0.32882606,\n",
              "       0.77258758, 0.37738168, 0.45543946, 0.36508912, 0.59680393])"
            ]
          },
          "execution_count": 41,
          "metadata": {},
          "output_type": "execute_result"
        }
      ],
      "source": [
        "y"
      ]
    },
    {
      "cell_type": "code",
      "execution_count": null,
      "id": "d07e8cd7",
      "metadata": {
        "ExecuteTime": {
          "end_time": "2023-08-23T07:19:57.944719Z",
          "start_time": "2023-08-23T07:19:57.930287Z"
        },
        "id": "d07e8cd7"
      },
      "outputs": [],
      "source": [
        "x_train, x_test, y_train, y_test = train_test_split(x, y, test_size=0.33, random_state=42)"
      ]
    },
    {
      "cell_type": "code",
      "execution_count": null,
      "id": "780a7b68",
      "metadata": {
        "ExecuteTime": {
          "start_time": "2023-08-23T07:19:56.950Z"
        },
        "id": "780a7b68"
      },
      "outputs": [],
      "source": [
        "model = DecisionTreeRegressor(max_depyh=3)\n",
        "model.fit(x_train, y_train)"
      ]
    },
    {
      "cell_type": "code",
      "execution_count": null,
      "id": "8d5bf40a",
      "metadata": {
        "ExecuteTime": {
          "start_time": "2023-08-23T07:19:56.952Z"
        },
        "id": "8d5bf40a"
      },
      "outputs": [],
      "source": [
        "model.score(x_test,y_test)"
      ]
    },
    {
      "cell_type": "code",
      "execution_count": null,
      "id": "327708ce",
      "metadata": {
        "ExecuteTime": {
          "start_time": "2023-08-23T07:19:56.953Z"
        },
        "id": "327708ce"
      },
      "outputs": [],
      "source": [
        "model.score(x_train, y_train)"
      ]
    },
    {
      "cell_type": "code",
      "execution_count": null,
      "id": "2d825ad6",
      "metadata": {
        "ExecuteTime": {
          "start_time": "2023-08-23T07:19:56.953Z"
        },
        "id": "2d825ad6"
      },
      "outputs": [],
      "source": [
        "tree.plot_tree(model);"
      ]
    },
    {
      "cell_type": "code",
      "execution_count": null,
      "id": "0b8a7be3",
      "metadata": {
        "id": "0b8a7be3"
      },
      "outputs": [],
      "source": []
    },
    {
      "cell_type": "code",
      "execution_count": null,
      "id": "e32240c5",
      "metadata": {
        "id": "e32240c5"
      },
      "outputs": [],
      "source": []
    },
    {
      "cell_type": "code",
      "execution_count": null,
      "id": "f3a21e6f",
      "metadata": {
        "id": "f3a21e6f"
      },
      "outputs": [],
      "source": []
    },
    {
      "cell_type": "code",
      "execution_count": null,
      "id": "f977f3b1",
      "metadata": {
        "id": "f977f3b1"
      },
      "outputs": [],
      "source": []
    },
    {
      "cell_type": "code",
      "execution_count": null,
      "id": "94c04aea",
      "metadata": {
        "id": "94c04aea"
      },
      "outputs": [],
      "source": []
    },
    {
      "cell_type": "code",
      "execution_count": null,
      "id": "29528877",
      "metadata": {
        "id": "29528877"
      },
      "outputs": [],
      "source": []
    },
    {
      "cell_type": "code",
      "execution_count": null,
      "id": "b1aea111",
      "metadata": {
        "id": "b1aea111"
      },
      "outputs": [],
      "source": []
    },
    {
      "cell_type": "code",
      "execution_count": null,
      "id": "24ce0824",
      "metadata": {
        "id": "24ce0824"
      },
      "outputs": [],
      "source": []
    },
    {
      "cell_type": "code",
      "execution_count": null,
      "id": "06093726",
      "metadata": {
        "id": "06093726"
      },
      "outputs": [],
      "source": []
    },
    {
      "cell_type": "code",
      "execution_count": null,
      "id": "6b0d065f",
      "metadata": {
        "id": "6b0d065f"
      },
      "outputs": [],
      "source": []
    },
    {
      "cell_type": "code",
      "execution_count": null,
      "id": "b31aee03",
      "metadata": {
        "id": "b31aee03"
      },
      "outputs": [],
      "source": []
    },
    {
      "cell_type": "code",
      "execution_count": null,
      "id": "1352b8e3",
      "metadata": {
        "id": "1352b8e3"
      },
      "outputs": [],
      "source": []
    },
    {
      "cell_type": "code",
      "execution_count": null,
      "id": "66b51caa",
      "metadata": {
        "id": "66b51caa"
      },
      "outputs": [],
      "source": []
    },
    {
      "cell_type": "code",
      "execution_count": null,
      "id": "263de788",
      "metadata": {
        "id": "263de788"
      },
      "outputs": [],
      "source": []
    },
    {
      "cell_type": "code",
      "execution_count": null,
      "id": "95de46fc",
      "metadata": {
        "id": "95de46fc"
      },
      "outputs": [],
      "source": []
    },
    {
      "cell_type": "code",
      "execution_count": null,
      "id": "9bac2db1",
      "metadata": {
        "id": "9bac2db1"
      },
      "outputs": [],
      "source": []
    },
    {
      "cell_type": "code",
      "execution_count": null,
      "id": "99454a06",
      "metadata": {
        "id": "99454a06"
      },
      "outputs": [],
      "source": []
    },
    {
      "cell_type": "code",
      "execution_count": null,
      "id": "deb69179",
      "metadata": {
        "id": "deb69179"
      },
      "outputs": [],
      "source": []
    },
    {
      "cell_type": "code",
      "execution_count": null,
      "id": "a92091ad",
      "metadata": {
        "id": "a92091ad"
      },
      "outputs": [],
      "source": []
    },
    {
      "cell_type": "code",
      "execution_count": null,
      "id": "96f05d56",
      "metadata": {
        "id": "96f05d56"
      },
      "outputs": [],
      "source": []
    },
    {
      "cell_type": "code",
      "execution_count": null,
      "id": "bceca46c",
      "metadata": {
        "id": "bceca46c"
      },
      "outputs": [],
      "source": []
    },
    {
      "cell_type": "code",
      "execution_count": null,
      "id": "f8053091",
      "metadata": {
        "id": "f8053091"
      },
      "outputs": [],
      "source": []
    },
    {
      "cell_type": "code",
      "execution_count": null,
      "id": "11af5af6",
      "metadata": {
        "id": "11af5af6"
      },
      "outputs": [],
      "source": []
    },
    {
      "cell_type": "code",
      "execution_count": null,
      "id": "a180a842",
      "metadata": {
        "id": "a180a842"
      },
      "outputs": [],
      "source": []
    },
    {
      "cell_type": "code",
      "execution_count": null,
      "id": "a03f1074",
      "metadata": {
        "id": "a03f1074"
      },
      "outputs": [],
      "source": []
    },
    {
      "cell_type": "code",
      "execution_count": null,
      "id": "6adb3178",
      "metadata": {
        "id": "6adb3178"
      },
      "outputs": [],
      "source": []
    },
    {
      "cell_type": "code",
      "execution_count": null,
      "id": "6e8e3b4f",
      "metadata": {
        "id": "6e8e3b4f"
      },
      "outputs": [],
      "source": []
    },
    {
      "cell_type": "code",
      "execution_count": null,
      "id": "f2439f58",
      "metadata": {
        "id": "f2439f58"
      },
      "outputs": [],
      "source": []
    },
    {
      "cell_type": "code",
      "execution_count": null,
      "id": "ca6b1c0e",
      "metadata": {
        "id": "ca6b1c0e"
      },
      "outputs": [],
      "source": []
    },
    {
      "cell_type": "code",
      "execution_count": null,
      "id": "ed91881b",
      "metadata": {
        "id": "ed91881b"
      },
      "outputs": [],
      "source": []
    },
    {
      "cell_type": "code",
      "execution_count": null,
      "id": "b9645c74",
      "metadata": {
        "id": "b9645c74"
      },
      "outputs": [],
      "source": []
    },
    {
      "cell_type": "code",
      "execution_count": null,
      "id": "422ee7b6",
      "metadata": {
        "id": "422ee7b6"
      },
      "outputs": [],
      "source": []
    },
    {
      "cell_type": "code",
      "execution_count": null,
      "id": "c4adaa7d",
      "metadata": {
        "id": "c4adaa7d"
      },
      "outputs": [],
      "source": []
    },
    {
      "cell_type": "code",
      "execution_count": null,
      "id": "ca0f3d80",
      "metadata": {
        "id": "ca0f3d80"
      },
      "outputs": [],
      "source": []
    },
    {
      "cell_type": "code",
      "execution_count": null,
      "id": "f8ee1fac",
      "metadata": {
        "id": "f8ee1fac"
      },
      "outputs": [],
      "source": []
    },
    {
      "cell_type": "code",
      "execution_count": null,
      "id": "da8d8a7a",
      "metadata": {
        "id": "da8d8a7a"
      },
      "outputs": [],
      "source": []
    }
  ],
  "metadata": {
    "kernelspec": {
      "display_name": "Python 3 (ipykernel)",
      "language": "python",
      "name": "python3"
    },
    "language_info": {
      "codemirror_mode": {
        "name": "ipython",
        "version": 3
      },
      "file_extension": ".py",
      "mimetype": "text/x-python",
      "name": "python",
      "nbconvert_exporter": "python",
      "pygments_lexer": "ipython3",
      "version": "3.10.9"
    },
    "colab": {
      "provenance": [],
      "include_colab_link": true
    }
  },
  "nbformat": 4,
  "nbformat_minor": 5
}